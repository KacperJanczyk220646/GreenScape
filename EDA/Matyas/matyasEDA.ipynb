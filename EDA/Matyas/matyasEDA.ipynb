{
 "cells": [
  {
   "cell_type": "code",
   "execution_count": 1,
   "metadata": {},
   "outputs": [],
   "source": [
    "# Import necessary modules\n",
    "import pandas as pd\n",
    "import plotly.express as px\n",
    "import plotly.graph_objects as go\n",
    "import numpy as np\n"
   ]
  },
  {
   "cell_type": "code",
   "execution_count": 2,
   "metadata": {},
   "outputs": [],
   "source": [
    "# Read data and assign to a variable (carbon_df) by using pandas dataframe\n",
    "# Headers were unnamed, so header = 1 assigns the first row with information to be the header\n",
    "carbon_data = pd.read_excel('breda_emissions_excel_modified.xlsx', header=1)\n",
    "carbon_df = pd.DataFrame(carbon_data)"
   ]
  },
  {
   "cell_type": "code",
   "execution_count": 3,
   "metadata": {},
   "outputs": [
    {
     "data": {
      "text/html": [
       "<div>\n",
       "<style scoped>\n",
       "    .dataframe tbody tr th:only-of-type {\n",
       "        vertical-align: middle;\n",
       "    }\n",
       "\n",
       "    .dataframe tbody tr th {\n",
       "        vertical-align: top;\n",
       "    }\n",
       "\n",
       "    .dataframe thead th {\n",
       "        text-align: right;\n",
       "    }\n",
       "</style>\n",
       "<table border=\"1\" class=\"dataframe\">\n",
       "  <thead>\n",
       "    <tr style=\"text-align: right;\">\n",
       "      <th></th>\n",
       "      <th>Unnamed: 0</th>\n",
       "      <th>Elektriciteitsverbruik: totaal [kwh]</th>\n",
       "      <th>Aardgasverbruik: totaal [m3]</th>\n",
       "      <th>Energieverbruik (incl. hern. warmte, zonnestroom 'achter de meter' en auto(snel)wegen) [TJ]</th>\n",
       "      <th>Elektriciteitsverbruik alle woningen [kwh]</th>\n",
       "      <th>Gasverbruik alle woningen [m3]</th>\n",
       "      <th>Elektriciteitsverbruik bedrijven en instellingen [kwh]</th>\n",
       "      <th>Gasverbruik bedrijven en instellingen [m3]</th>\n",
       "      <th>Hernieuwbare elektriciteit [TJ]</th>\n",
       "      <th>Hernieuwbare energie [TJ]</th>\n",
       "      <th>Vermogen geregistreerde zonnepanelen woningen [kWpiek]</th>\n",
       "      <th>Vermogen geregistreerde zonnepanelen bedrijven [kWpiek]</th>\n",
       "      <th>Aantal installaties met geregistreerde zonnepanelen woningen [aantal]</th>\n",
       "      <th>Aantal installaties met geregistreerde zonnepanelen bedrijven [aantal]</th>\n",
       "      <th>Hernieuwbare energie [%]</th>\n",
       "      <th>Hernieuwbare elektriciteit [%]</th>\n",
       "      <th>CO2-uitstoot Verkeer en vervoer incl. auto(snel)wegen, excl. elektr. railverkeer (scope 1, tier 1) [ton]</th>\n",
       "      <th>CO2-uitstoot Bedrijven en instellingen [ton]</th>\n",
       "      <th>CO2-uitstoot Woningen, temperatuurgecorrigeerd (sjv gas en elektr., tier 3 en warmte, tier 2) [ton]</th>\n",
       "      <th>CO2-uitstoot totaal [ton]</th>\n",
       "    </tr>\n",
       "  </thead>\n",
       "  <tbody>\n",
       "    <tr>\n",
       "      <th>0</th>\n",
       "      <td>2011</td>\n",
       "      <td>3300</td>\n",
       "      <td>1250.0</td>\n",
       "      <td>16385.0</td>\n",
       "      <td>3280.0</td>\n",
       "      <td>1260.0</td>\n",
       "      <td>569160000.0</td>\n",
       "      <td>92868000</td>\n",
       "      <td>10.0</td>\n",
       "      <td>393.0</td>\n",
       "      <td>NaN</td>\n",
       "      <td>NaN</td>\n",
       "      <td>NaN</td>\n",
       "      <td>NaN</td>\n",
       "      <td>0.024</td>\n",
       "      <td>0.004</td>\n",
       "      <td>406592.0</td>\n",
       "      <td>417696</td>\n",
       "      <td>307039.0</td>\n",
       "      <td>1131300.0</td>\n",
       "    </tr>\n",
       "    <tr>\n",
       "      <th>1</th>\n",
       "      <td>2010</td>\n",
       "      <td>3300</td>\n",
       "      <td>1650.0</td>\n",
       "      <td>17038.0</td>\n",
       "      <td>3300.0</td>\n",
       "      <td>1670.0</td>\n",
       "      <td>574426000.0</td>\n",
       "      <td>?</td>\n",
       "      <td>11.0</td>\n",
       "      <td>333.0</td>\n",
       "      <td>NaN</td>\n",
       "      <td>NaN</td>\n",
       "      <td>NaN</td>\n",
       "      <td>NaN</td>\n",
       "      <td>0.020</td>\n",
       "      <td>0.004</td>\n",
       "      <td>410119.0</td>\n",
       "      <td>?</td>\n",
       "      <td>322296.0</td>\n",
       "      <td>1201300.0</td>\n",
       "    </tr>\n",
       "    <tr>\n",
       "      <th>2</th>\n",
       "      <td>2012</td>\n",
       "      <td>3250</td>\n",
       "      <td>1300.0</td>\n",
       "      <td>16144.0</td>\n",
       "      <td>3250.0</td>\n",
       "      <td>1340.0</td>\n",
       "      <td>568489000.0</td>\n",
       "      <td>94180000</td>\n",
       "      <td>24.0</td>\n",
       "      <td>418.0</td>\n",
       "      <td>1305.0</td>\n",
       "      <td>371.0</td>\n",
       "      <td>455.0</td>\n",
       "      <td>62.0</td>\n",
       "      <td>0.026</td>\n",
       "      <td>0.008</td>\n",
       "      <td>398502.0</td>\n",
       "      <td>436683</td>\n",
       "      <td>311324.0</td>\n",
       "      <td>1146500.0</td>\n",
       "    </tr>\n",
       "    <tr>\n",
       "      <th>3</th>\n",
       "      <td>2013</td>\n",
       "      <td>3200</td>\n",
       "      <td>1400.0</td>\n",
       "      <td>15840.0</td>\n",
       "      <td>3210.0</td>\n",
       "      <td>1400.0</td>\n",
       "      <td>561871000.0</td>\n",
       "      <td>92677000</td>\n",
       "      <td>42.0</td>\n",
       "      <td>452.0</td>\n",
       "      <td>2867.0</td>\n",
       "      <td>1016.0</td>\n",
       "      <td>931.0</td>\n",
       "      <td>113.0</td>\n",
       "      <td>0.029</td>\n",
       "      <td>0.015</td>\n",
       "      <td>390382.0</td>\n",
       "      <td>435950</td>\n",
       "      <td>308836.0</td>\n",
       "      <td>1135200.0</td>\n",
       "    </tr>\n",
       "    <tr>\n",
       "      <th>4</th>\n",
       "      <td>2014</td>\n",
       "      <td>3100</td>\n",
       "      <td>1000.0</td>\n",
       "      <td>14692.0</td>\n",
       "      <td>3110.0</td>\n",
       "      <td>1010.0</td>\n",
       "      <td>530669000.0</td>\n",
       "      <td>74669000</td>\n",
       "      <td>50.0</td>\n",
       "      <td>490.0</td>\n",
       "      <td>4364.0</td>\n",
       "      <td>1969.0</td>\n",
       "      <td>1343.0</td>\n",
       "      <td>152.0</td>\n",
       "      <td>0.033</td>\n",
       "      <td>0.018</td>\n",
       "      <td>390139.0</td>\n",
       "      <td>400246</td>\n",
       "      <td>304149.0</td>\n",
       "      <td>1094500.0</td>\n",
       "    </tr>\n",
       "  </tbody>\n",
       "</table>\n",
       "</div>"
      ],
      "text/plain": [
       "  Unnamed: 0 Elektriciteitsverbruik: totaal [kwh]  \\\n",
       "0       2011                                 3300   \n",
       "1       2010                                 3300   \n",
       "2       2012                                 3250   \n",
       "3       2013                                 3200   \n",
       "4       2014                                 3100   \n",
       "\n",
       "   Aardgasverbruik: totaal [m3]  \\\n",
       "0                        1250.0   \n",
       "1                        1650.0   \n",
       "2                        1300.0   \n",
       "3                        1400.0   \n",
       "4                        1000.0   \n",
       "\n",
       "   Energieverbruik (incl. hern. warmte, zonnestroom 'achter de meter' en auto(snel)wegen) [TJ]  \\\n",
       "0                                            16385.0                                             \n",
       "1                                            17038.0                                             \n",
       "2                                            16144.0                                             \n",
       "3                                            15840.0                                             \n",
       "4                                            14692.0                                             \n",
       "\n",
       "   Elektriciteitsverbruik alle woningen [kwh]  Gasverbruik alle woningen [m3]  \\\n",
       "0                                      3280.0                          1260.0   \n",
       "1                                      3300.0                          1670.0   \n",
       "2                                      3250.0                          1340.0   \n",
       "3                                      3210.0                          1400.0   \n",
       "4                                      3110.0                          1010.0   \n",
       "\n",
       "   Elektriciteitsverbruik bedrijven en instellingen [kwh]  \\\n",
       "0                                        569160000.0        \n",
       "1                                        574426000.0        \n",
       "2                                        568489000.0        \n",
       "3                                        561871000.0        \n",
       "4                                        530669000.0        \n",
       "\n",
       "  Gasverbruik bedrijven en instellingen [m3]  Hernieuwbare elektriciteit [TJ]  \\\n",
       "0                                   92868000                             10.0   \n",
       "1                                          ?                             11.0   \n",
       "2                                   94180000                             24.0   \n",
       "3                                   92677000                             42.0   \n",
       "4                                   74669000                             50.0   \n",
       "\n",
       "   Hernieuwbare energie [TJ]  \\\n",
       "0                      393.0   \n",
       "1                      333.0   \n",
       "2                      418.0   \n",
       "3                      452.0   \n",
       "4                      490.0   \n",
       "\n",
       "   Vermogen geregistreerde zonnepanelen woningen [kWpiek]  \\\n",
       "0                                                NaN        \n",
       "1                                                NaN        \n",
       "2                                             1305.0        \n",
       "3                                             2867.0        \n",
       "4                                             4364.0        \n",
       "\n",
       "   Vermogen geregistreerde zonnepanelen bedrijven [kWpiek]  \\\n",
       "0                                                NaN         \n",
       "1                                                NaN         \n",
       "2                                              371.0         \n",
       "3                                             1016.0         \n",
       "4                                             1969.0         \n",
       "\n",
       "   Aantal installaties met geregistreerde zonnepanelen woningen [aantal]  \\\n",
       "0                                                NaN                       \n",
       "1                                                NaN                       \n",
       "2                                              455.0                       \n",
       "3                                              931.0                       \n",
       "4                                             1343.0                       \n",
       "\n",
       "   Aantal installaties met geregistreerde zonnepanelen bedrijven [aantal]  \\\n",
       "0                                                NaN                        \n",
       "1                                                NaN                        \n",
       "2                                               62.0                        \n",
       "3                                              113.0                        \n",
       "4                                              152.0                        \n",
       "\n",
       "   Hernieuwbare energie [%]  Hernieuwbare elektriciteit [%]  \\\n",
       "0                     0.024                           0.004   \n",
       "1                     0.020                           0.004   \n",
       "2                     0.026                           0.008   \n",
       "3                     0.029                           0.015   \n",
       "4                     0.033                           0.018   \n",
       "\n",
       "   CO2-uitstoot Verkeer en vervoer incl. auto(snel)wegen, excl. elektr. railverkeer (scope 1, tier 1) [ton]  \\\n",
       "0                                           406592.0                                                          \n",
       "1                                           410119.0                                                          \n",
       "2                                           398502.0                                                          \n",
       "3                                           390382.0                                                          \n",
       "4                                           390139.0                                                          \n",
       "\n",
       "  CO2-uitstoot Bedrijven en instellingen [ton]  \\\n",
       "0                                       417696   \n",
       "1                                            ?   \n",
       "2                                       436683   \n",
       "3                                       435950   \n",
       "4                                       400246   \n",
       "\n",
       "   CO2-uitstoot Woningen, temperatuurgecorrigeerd (sjv gas en elektr., tier 3 en warmte, tier 2) [ton]  \\\n",
       "0                                           307039.0                                                     \n",
       "1                                           322296.0                                                     \n",
       "2                                           311324.0                                                     \n",
       "3                                           308836.0                                                     \n",
       "4                                           304149.0                                                     \n",
       "\n",
       "   CO2-uitstoot totaal [ton]  \n",
       "0                  1131300.0  \n",
       "1                  1201300.0  \n",
       "2                  1146500.0  \n",
       "3                  1135200.0  \n",
       "4                  1094500.0  "
      ]
     },
     "execution_count": 3,
     "metadata": {},
     "output_type": "execute_result"
    }
   ],
   "source": [
    "# Preview dataframe\n",
    "carbon_df.head()"
   ]
  },
  {
   "cell_type": "code",
   "execution_count": 4,
   "metadata": {},
   "outputs": [
    {
     "data": {
      "text/html": [
       "<div>\n",
       "<style scoped>\n",
       "    .dataframe tbody tr th:only-of-type {\n",
       "        vertical-align: middle;\n",
       "    }\n",
       "\n",
       "    .dataframe tbody tr th {\n",
       "        vertical-align: top;\n",
       "    }\n",
       "\n",
       "    .dataframe thead th {\n",
       "        text-align: right;\n",
       "    }\n",
       "</style>\n",
       "<table border=\"1\" class=\"dataframe\">\n",
       "  <thead>\n",
       "    <tr style=\"text-align: right;\">\n",
       "      <th></th>\n",
       "      <th>Year</th>\n",
       "      <th>Elektriciteitsverbruik: totaal [kwh]</th>\n",
       "      <th>Aardgasverbruik: totaal [m3]</th>\n",
       "      <th>Energieverbruik (incl. hern. warmte, zonnestroom 'achter de meter' en auto(snel)wegen) [TJ]</th>\n",
       "      <th>Elektriciteitsverbruik alle woningen [kwh]</th>\n",
       "      <th>Gasverbruik alle woningen [m3]</th>\n",
       "      <th>Elektriciteitsverbruik bedrijven en instellingen [kwh]</th>\n",
       "      <th>Gasverbruik bedrijven en instellingen [m3]</th>\n",
       "      <th>Hernieuwbare elektriciteit [TJ]</th>\n",
       "      <th>Hernieuwbare energie [TJ]</th>\n",
       "      <th>Vermogen geregistreerde zonnepanelen woningen [kWpiek]</th>\n",
       "      <th>Vermogen geregistreerde zonnepanelen bedrijven [kWpiek]</th>\n",
       "      <th>Aantal installaties met geregistreerde zonnepanelen woningen [aantal]</th>\n",
       "      <th>Aantal installaties met geregistreerde zonnepanelen bedrijven [aantal]</th>\n",
       "      <th>Hernieuwbare energie [%]</th>\n",
       "      <th>Hernieuwbare elektriciteit [%]</th>\n",
       "      <th>CO2-uitstoot Verkeer en vervoer incl. auto(snel)wegen, excl. elektr. railverkeer (scope 1, tier 1) [ton]</th>\n",
       "      <th>CO2-uitstoot Bedrijven en instellingen [ton]</th>\n",
       "      <th>CO2-uitstoot Woningen, temperatuurgecorrigeerd (sjv gas en elektr., tier 3 en warmte, tier 2) [ton]</th>\n",
       "      <th>CO2-uitstoot totaal [ton]</th>\n",
       "    </tr>\n",
       "  </thead>\n",
       "  <tbody>\n",
       "    <tr>\n",
       "      <th>0</th>\n",
       "      <td>2011</td>\n",
       "      <td>3300</td>\n",
       "      <td>1250.0</td>\n",
       "      <td>16385.0</td>\n",
       "      <td>3280.0</td>\n",
       "      <td>1260.0</td>\n",
       "      <td>569160000.0</td>\n",
       "      <td>92868000</td>\n",
       "      <td>10.0</td>\n",
       "      <td>393.0</td>\n",
       "      <td>NaN</td>\n",
       "      <td>NaN</td>\n",
       "      <td>NaN</td>\n",
       "      <td>NaN</td>\n",
       "      <td>0.024</td>\n",
       "      <td>0.004</td>\n",
       "      <td>406592.0</td>\n",
       "      <td>417696</td>\n",
       "      <td>307039.0</td>\n",
       "      <td>1131300.0</td>\n",
       "    </tr>\n",
       "    <tr>\n",
       "      <th>1</th>\n",
       "      <td>2010</td>\n",
       "      <td>3300</td>\n",
       "      <td>1650.0</td>\n",
       "      <td>17038.0</td>\n",
       "      <td>3300.0</td>\n",
       "      <td>1670.0</td>\n",
       "      <td>574426000.0</td>\n",
       "      <td>?</td>\n",
       "      <td>11.0</td>\n",
       "      <td>333.0</td>\n",
       "      <td>NaN</td>\n",
       "      <td>NaN</td>\n",
       "      <td>NaN</td>\n",
       "      <td>NaN</td>\n",
       "      <td>0.020</td>\n",
       "      <td>0.004</td>\n",
       "      <td>410119.0</td>\n",
       "      <td>?</td>\n",
       "      <td>322296.0</td>\n",
       "      <td>1201300.0</td>\n",
       "    </tr>\n",
       "    <tr>\n",
       "      <th>2</th>\n",
       "      <td>2012</td>\n",
       "      <td>3250</td>\n",
       "      <td>1300.0</td>\n",
       "      <td>16144.0</td>\n",
       "      <td>3250.0</td>\n",
       "      <td>1340.0</td>\n",
       "      <td>568489000.0</td>\n",
       "      <td>94180000</td>\n",
       "      <td>24.0</td>\n",
       "      <td>418.0</td>\n",
       "      <td>1305.0</td>\n",
       "      <td>371.0</td>\n",
       "      <td>455.0</td>\n",
       "      <td>62.0</td>\n",
       "      <td>0.026</td>\n",
       "      <td>0.008</td>\n",
       "      <td>398502.0</td>\n",
       "      <td>436683</td>\n",
       "      <td>311324.0</td>\n",
       "      <td>1146500.0</td>\n",
       "    </tr>\n",
       "    <tr>\n",
       "      <th>3</th>\n",
       "      <td>2013</td>\n",
       "      <td>3200</td>\n",
       "      <td>1400.0</td>\n",
       "      <td>15840.0</td>\n",
       "      <td>3210.0</td>\n",
       "      <td>1400.0</td>\n",
       "      <td>561871000.0</td>\n",
       "      <td>92677000</td>\n",
       "      <td>42.0</td>\n",
       "      <td>452.0</td>\n",
       "      <td>2867.0</td>\n",
       "      <td>1016.0</td>\n",
       "      <td>931.0</td>\n",
       "      <td>113.0</td>\n",
       "      <td>0.029</td>\n",
       "      <td>0.015</td>\n",
       "      <td>390382.0</td>\n",
       "      <td>435950</td>\n",
       "      <td>308836.0</td>\n",
       "      <td>1135200.0</td>\n",
       "    </tr>\n",
       "    <tr>\n",
       "      <th>4</th>\n",
       "      <td>2014</td>\n",
       "      <td>3100</td>\n",
       "      <td>1000.0</td>\n",
       "      <td>14692.0</td>\n",
       "      <td>3110.0</td>\n",
       "      <td>1010.0</td>\n",
       "      <td>530669000.0</td>\n",
       "      <td>74669000</td>\n",
       "      <td>50.0</td>\n",
       "      <td>490.0</td>\n",
       "      <td>4364.0</td>\n",
       "      <td>1969.0</td>\n",
       "      <td>1343.0</td>\n",
       "      <td>152.0</td>\n",
       "      <td>0.033</td>\n",
       "      <td>0.018</td>\n",
       "      <td>390139.0</td>\n",
       "      <td>400246</td>\n",
       "      <td>304149.0</td>\n",
       "      <td>1094500.0</td>\n",
       "    </tr>\n",
       "  </tbody>\n",
       "</table>\n",
       "</div>"
      ],
      "text/plain": [
       "   Year Elektriciteitsverbruik: totaal [kwh]  Aardgasverbruik: totaal [m3]  \\\n",
       "0  2011                                 3300                        1250.0   \n",
       "1  2010                                 3300                        1650.0   \n",
       "2  2012                                 3250                        1300.0   \n",
       "3  2013                                 3200                        1400.0   \n",
       "4  2014                                 3100                        1000.0   \n",
       "\n",
       "   Energieverbruik (incl. hern. warmte, zonnestroom 'achter de meter' en auto(snel)wegen) [TJ]  \\\n",
       "0                                            16385.0                                             \n",
       "1                                            17038.0                                             \n",
       "2                                            16144.0                                             \n",
       "3                                            15840.0                                             \n",
       "4                                            14692.0                                             \n",
       "\n",
       "   Elektriciteitsverbruik alle woningen [kwh]  Gasverbruik alle woningen [m3]  \\\n",
       "0                                      3280.0                          1260.0   \n",
       "1                                      3300.0                          1670.0   \n",
       "2                                      3250.0                          1340.0   \n",
       "3                                      3210.0                          1400.0   \n",
       "4                                      3110.0                          1010.0   \n",
       "\n",
       "   Elektriciteitsverbruik bedrijven en instellingen [kwh]  \\\n",
       "0                                        569160000.0        \n",
       "1                                        574426000.0        \n",
       "2                                        568489000.0        \n",
       "3                                        561871000.0        \n",
       "4                                        530669000.0        \n",
       "\n",
       "  Gasverbruik bedrijven en instellingen [m3]  Hernieuwbare elektriciteit [TJ]  \\\n",
       "0                                   92868000                             10.0   \n",
       "1                                          ?                             11.0   \n",
       "2                                   94180000                             24.0   \n",
       "3                                   92677000                             42.0   \n",
       "4                                   74669000                             50.0   \n",
       "\n",
       "   Hernieuwbare energie [TJ]  \\\n",
       "0                      393.0   \n",
       "1                      333.0   \n",
       "2                      418.0   \n",
       "3                      452.0   \n",
       "4                      490.0   \n",
       "\n",
       "   Vermogen geregistreerde zonnepanelen woningen [kWpiek]  \\\n",
       "0                                                NaN        \n",
       "1                                                NaN        \n",
       "2                                             1305.0        \n",
       "3                                             2867.0        \n",
       "4                                             4364.0        \n",
       "\n",
       "   Vermogen geregistreerde zonnepanelen bedrijven [kWpiek]  \\\n",
       "0                                                NaN         \n",
       "1                                                NaN         \n",
       "2                                              371.0         \n",
       "3                                             1016.0         \n",
       "4                                             1969.0         \n",
       "\n",
       "   Aantal installaties met geregistreerde zonnepanelen woningen [aantal]  \\\n",
       "0                                                NaN                       \n",
       "1                                                NaN                       \n",
       "2                                              455.0                       \n",
       "3                                              931.0                       \n",
       "4                                             1343.0                       \n",
       "\n",
       "   Aantal installaties met geregistreerde zonnepanelen bedrijven [aantal]  \\\n",
       "0                                                NaN                        \n",
       "1                                                NaN                        \n",
       "2                                               62.0                        \n",
       "3                                              113.0                        \n",
       "4                                              152.0                        \n",
       "\n",
       "   Hernieuwbare energie [%]  Hernieuwbare elektriciteit [%]  \\\n",
       "0                     0.024                           0.004   \n",
       "1                     0.020                           0.004   \n",
       "2                     0.026                           0.008   \n",
       "3                     0.029                           0.015   \n",
       "4                     0.033                           0.018   \n",
       "\n",
       "   CO2-uitstoot Verkeer en vervoer incl. auto(snel)wegen, excl. elektr. railverkeer (scope 1, tier 1) [ton]  \\\n",
       "0                                           406592.0                                                          \n",
       "1                                           410119.0                                                          \n",
       "2                                           398502.0                                                          \n",
       "3                                           390382.0                                                          \n",
       "4                                           390139.0                                                          \n",
       "\n",
       "  CO2-uitstoot Bedrijven en instellingen [ton]  \\\n",
       "0                                       417696   \n",
       "1                                            ?   \n",
       "2                                       436683   \n",
       "3                                       435950   \n",
       "4                                       400246   \n",
       "\n",
       "   CO2-uitstoot Woningen, temperatuurgecorrigeerd (sjv gas en elektr., tier 3 en warmte, tier 2) [ton]  \\\n",
       "0                                           307039.0                                                     \n",
       "1                                           322296.0                                                     \n",
       "2                                           311324.0                                                     \n",
       "3                                           308836.0                                                     \n",
       "4                                           304149.0                                                     \n",
       "\n",
       "   CO2-uitstoot totaal [ton]  \n",
       "0                  1131300.0  \n",
       "1                  1201300.0  \n",
       "2                  1146500.0  \n",
       "3                  1135200.0  \n",
       "4                  1094500.0  "
      ]
     },
     "execution_count": 4,
     "metadata": {},
     "output_type": "execute_result"
    }
   ],
   "source": [
    "# Set the first column to Year\n",
    "carbon_df.rename(columns={'Unnamed: 0' : 'Year'}, inplace = True)\n",
    "carbon_df.head()"
   ]
  },
  {
   "cell_type": "code",
   "execution_count": 5,
   "metadata": {},
   "outputs": [],
   "source": [
    "# Create a translation dictionary since googletrans and Translate don't seem to work\n",
    "translation = {'Elektriciteitsverbruik: totaal [kwh]' : 'Electricity Consumption: total (kwh)',\n",
    "               'Aardgasverbruik: totaal [m3]' : 'Natural Gas Consumption (m3)',\n",
    "               \"Energieverbruik (incl. hern. warmte, zonnestroom 'achter de meter' en auto(snel)wegen) [TJ]\": 'Energy Consumption (including regenerative heat, solar power, motorways) (TJ)',\n",
    "               'Elektriciteitsverbruik alle woningen [kwh]' : 'Electricity consumption of all homes (kwh)',\n",
    "               'Gasverbruik alle woningen [m3]' : 'Gas consumption all homes (m3)',\n",
    "               'Elektriciteitsverbruik bedrijven en instellingen [kwh]' : 'Electricity consumption companies and institutions (kwh)',\n",
    "               'Gasverbruik bedrijven en instellingen [m3]' : 'Gas consumption by companies and institutions (m3)',\n",
    "               'Hernieuwbare elektriciteit [TJ]' : 'Renewable electricity (TJ)',\n",
    "               'Hernieuwbare energie [TJ]' : 'Renewable energy (TJ)',\n",
    "               'Vermogen geregistreerde zonnepanelen woningen [kWpiek]' : 'Power of registered solar panels homes (kw peak)',\n",
    "               'Vermogen geregistreerde zonnepanelen bedrijven [kWpiek]' : 'Power of registered solar panels companies (kw peak)',\n",
    "               'Aantal installaties met geregistreerde zonnepanelen woningen [aantal]' : 'Number of installations with registered solar panels in homes (number)',\n",
    "               'Aantal installaties met geregistreerde zonnepanelen bedrijven [aantal]' : 'Number of installations with registered solar panel companies (number)',\n",
    "               'Hernieuwbare energie [%]' : 'Renewable energy (%)',\n",
    "               'Hernieuwbare elektriciteit [%]' : 'Renewable electricity (%)', \n",
    "               'CO2-uitstoot Verkeer en vervoer incl. auto(snel)wegen, excl. elektr. railverkeer (scope 1, tier 1) [ton]' : 'CO2 emissions Traffic and transport incl. motorways and roads, excl. electr. rail traffic (tonnes)',\n",
    "               'CO2-uitstoot Bedrijven en instellingen [ton]' : 'CO2 emissions companies and institutions (tonnes)',\n",
    "               'CO2-uitstoot Woningen, temperatuurgecorrigeerd (sjv gas en elektr., tier 3 en warmte, tier 2) [ton]' : 'CO2 emissions from homes, temperature corrected (tonnes)',\n",
    "               'CO2-uitstoot totaal [ton]' : 'CO2 emissions total (tonnes)'\n",
    "               }"
   ]
  },
  {
   "cell_type": "code",
   "execution_count": 6,
   "metadata": {},
   "outputs": [],
   "source": [
    "# Translate columns using created dictionary\n",
    "carbon_df = carbon_df.rename(columns=translation)"
   ]
  },
  {
   "cell_type": "code",
   "execution_count": 7,
   "metadata": {},
   "outputs": [
    {
     "data": {
      "text/html": [
       "<div>\n",
       "<style scoped>\n",
       "    .dataframe tbody tr th:only-of-type {\n",
       "        vertical-align: middle;\n",
       "    }\n",
       "\n",
       "    .dataframe tbody tr th {\n",
       "        vertical-align: top;\n",
       "    }\n",
       "\n",
       "    .dataframe thead th {\n",
       "        text-align: right;\n",
       "    }\n",
       "</style>\n",
       "<table border=\"1\" class=\"dataframe\">\n",
       "  <thead>\n",
       "    <tr style=\"text-align: right;\">\n",
       "      <th></th>\n",
       "      <th>Year</th>\n",
       "      <th>Electricity Consumption: total (kwh)</th>\n",
       "      <th>Natural Gas Consumption (m3)</th>\n",
       "      <th>Energy Consumption (including regenerative heat, solar power, motorways) (TJ)</th>\n",
       "      <th>Electricity consumption of all homes (kwh)</th>\n",
       "      <th>Gas consumption all homes (m3)</th>\n",
       "      <th>Electricity consumption companies and institutions (kwh)</th>\n",
       "      <th>Gas consumption by companies and institutions (m3)</th>\n",
       "      <th>Renewable electricity (TJ)</th>\n",
       "      <th>Renewable energy (TJ)</th>\n",
       "      <th>Power of registered solar panels homes (kw peak)</th>\n",
       "      <th>Power of registered solar panels companies (kw peak)</th>\n",
       "      <th>Number of installations with registered solar panels in homes (number)</th>\n",
       "      <th>Number of installations with registered solar panel companies (number)</th>\n",
       "      <th>Renewable energy (%)</th>\n",
       "      <th>Renewable electricity (%)</th>\n",
       "      <th>CO2 emissions Traffic and transport incl. motorways and roads, excl. electr. rail traffic (tonnes)</th>\n",
       "      <th>CO2 emissions companies and institutions (tonnes)</th>\n",
       "      <th>CO2 emissions from homes, temperature corrected (tonnes)</th>\n",
       "      <th>CO2 emissions total (tonnes)</th>\n",
       "    </tr>\n",
       "  </thead>\n",
       "  <tbody>\n",
       "    <tr>\n",
       "      <th>0</th>\n",
       "      <td>2011</td>\n",
       "      <td>3300</td>\n",
       "      <td>1250.0</td>\n",
       "      <td>16385.0</td>\n",
       "      <td>3280.0</td>\n",
       "      <td>1260.0</td>\n",
       "      <td>569160000.0</td>\n",
       "      <td>92868000</td>\n",
       "      <td>10.0</td>\n",
       "      <td>393.0</td>\n",
       "      <td>NaN</td>\n",
       "      <td>NaN</td>\n",
       "      <td>NaN</td>\n",
       "      <td>NaN</td>\n",
       "      <td>0.024</td>\n",
       "      <td>0.004</td>\n",
       "      <td>406592.0</td>\n",
       "      <td>417696</td>\n",
       "      <td>307039.0</td>\n",
       "      <td>1131300.0</td>\n",
       "    </tr>\n",
       "    <tr>\n",
       "      <th>1</th>\n",
       "      <td>2010</td>\n",
       "      <td>3300</td>\n",
       "      <td>1650.0</td>\n",
       "      <td>17038.0</td>\n",
       "      <td>3300.0</td>\n",
       "      <td>1670.0</td>\n",
       "      <td>574426000.0</td>\n",
       "      <td>?</td>\n",
       "      <td>11.0</td>\n",
       "      <td>333.0</td>\n",
       "      <td>NaN</td>\n",
       "      <td>NaN</td>\n",
       "      <td>NaN</td>\n",
       "      <td>NaN</td>\n",
       "      <td>0.020</td>\n",
       "      <td>0.004</td>\n",
       "      <td>410119.0</td>\n",
       "      <td>?</td>\n",
       "      <td>322296.0</td>\n",
       "      <td>1201300.0</td>\n",
       "    </tr>\n",
       "    <tr>\n",
       "      <th>2</th>\n",
       "      <td>2012</td>\n",
       "      <td>3250</td>\n",
       "      <td>1300.0</td>\n",
       "      <td>16144.0</td>\n",
       "      <td>3250.0</td>\n",
       "      <td>1340.0</td>\n",
       "      <td>568489000.0</td>\n",
       "      <td>94180000</td>\n",
       "      <td>24.0</td>\n",
       "      <td>418.0</td>\n",
       "      <td>1305.0</td>\n",
       "      <td>371.0</td>\n",
       "      <td>455.0</td>\n",
       "      <td>62.0</td>\n",
       "      <td>0.026</td>\n",
       "      <td>0.008</td>\n",
       "      <td>398502.0</td>\n",
       "      <td>436683</td>\n",
       "      <td>311324.0</td>\n",
       "      <td>1146500.0</td>\n",
       "    </tr>\n",
       "    <tr>\n",
       "      <th>3</th>\n",
       "      <td>2013</td>\n",
       "      <td>3200</td>\n",
       "      <td>1400.0</td>\n",
       "      <td>15840.0</td>\n",
       "      <td>3210.0</td>\n",
       "      <td>1400.0</td>\n",
       "      <td>561871000.0</td>\n",
       "      <td>92677000</td>\n",
       "      <td>42.0</td>\n",
       "      <td>452.0</td>\n",
       "      <td>2867.0</td>\n",
       "      <td>1016.0</td>\n",
       "      <td>931.0</td>\n",
       "      <td>113.0</td>\n",
       "      <td>0.029</td>\n",
       "      <td>0.015</td>\n",
       "      <td>390382.0</td>\n",
       "      <td>435950</td>\n",
       "      <td>308836.0</td>\n",
       "      <td>1135200.0</td>\n",
       "    </tr>\n",
       "    <tr>\n",
       "      <th>4</th>\n",
       "      <td>2014</td>\n",
       "      <td>3100</td>\n",
       "      <td>1000.0</td>\n",
       "      <td>14692.0</td>\n",
       "      <td>3110.0</td>\n",
       "      <td>1010.0</td>\n",
       "      <td>530669000.0</td>\n",
       "      <td>74669000</td>\n",
       "      <td>50.0</td>\n",
       "      <td>490.0</td>\n",
       "      <td>4364.0</td>\n",
       "      <td>1969.0</td>\n",
       "      <td>1343.0</td>\n",
       "      <td>152.0</td>\n",
       "      <td>0.033</td>\n",
       "      <td>0.018</td>\n",
       "      <td>390139.0</td>\n",
       "      <td>400246</td>\n",
       "      <td>304149.0</td>\n",
       "      <td>1094500.0</td>\n",
       "    </tr>\n",
       "  </tbody>\n",
       "</table>\n",
       "</div>"
      ],
      "text/plain": [
       "   Year Electricity Consumption: total (kwh)  Natural Gas Consumption (m3)  \\\n",
       "0  2011                                 3300                        1250.0   \n",
       "1  2010                                 3300                        1650.0   \n",
       "2  2012                                 3250                        1300.0   \n",
       "3  2013                                 3200                        1400.0   \n",
       "4  2014                                 3100                        1000.0   \n",
       "\n",
       "   Energy Consumption (including regenerative heat, solar power, motorways) (TJ)  \\\n",
       "0                                            16385.0                               \n",
       "1                                            17038.0                               \n",
       "2                                            16144.0                               \n",
       "3                                            15840.0                               \n",
       "4                                            14692.0                               \n",
       "\n",
       "   Electricity consumption of all homes (kwh)  Gas consumption all homes (m3)  \\\n",
       "0                                      3280.0                          1260.0   \n",
       "1                                      3300.0                          1670.0   \n",
       "2                                      3250.0                          1340.0   \n",
       "3                                      3210.0                          1400.0   \n",
       "4                                      3110.0                          1010.0   \n",
       "\n",
       "   Electricity consumption companies and institutions (kwh)  \\\n",
       "0                                        569160000.0          \n",
       "1                                        574426000.0          \n",
       "2                                        568489000.0          \n",
       "3                                        561871000.0          \n",
       "4                                        530669000.0          \n",
       "\n",
       "  Gas consumption by companies and institutions (m3)  \\\n",
       "0                                           92868000   \n",
       "1                                                  ?   \n",
       "2                                           94180000   \n",
       "3                                           92677000   \n",
       "4                                           74669000   \n",
       "\n",
       "   Renewable electricity (TJ)  Renewable energy (TJ)  \\\n",
       "0                        10.0                  393.0   \n",
       "1                        11.0                  333.0   \n",
       "2                        24.0                  418.0   \n",
       "3                        42.0                  452.0   \n",
       "4                        50.0                  490.0   \n",
       "\n",
       "   Power of registered solar panels homes (kw peak)  \\\n",
       "0                                               NaN   \n",
       "1                                               NaN   \n",
       "2                                            1305.0   \n",
       "3                                            2867.0   \n",
       "4                                            4364.0   \n",
       "\n",
       "   Power of registered solar panels companies (kw peak)  \\\n",
       "0                                                NaN      \n",
       "1                                                NaN      \n",
       "2                                              371.0      \n",
       "3                                             1016.0      \n",
       "4                                             1969.0      \n",
       "\n",
       "   Number of installations with registered solar panels in homes (number)  \\\n",
       "0                                                NaN                        \n",
       "1                                                NaN                        \n",
       "2                                              455.0                        \n",
       "3                                              931.0                        \n",
       "4                                             1343.0                        \n",
       "\n",
       "   Number of installations with registered solar panel companies (number)  \\\n",
       "0                                                NaN                        \n",
       "1                                                NaN                        \n",
       "2                                               62.0                        \n",
       "3                                              113.0                        \n",
       "4                                              152.0                        \n",
       "\n",
       "   Renewable energy (%)  Renewable electricity (%)  \\\n",
       "0                 0.024                      0.004   \n",
       "1                 0.020                      0.004   \n",
       "2                 0.026                      0.008   \n",
       "3                 0.029                      0.015   \n",
       "4                 0.033                      0.018   \n",
       "\n",
       "   CO2 emissions Traffic and transport incl. motorways and roads, excl. electr. rail traffic (tonnes)  \\\n",
       "0                                           406592.0                                                    \n",
       "1                                           410119.0                                                    \n",
       "2                                           398502.0                                                    \n",
       "3                                           390382.0                                                    \n",
       "4                                           390139.0                                                    \n",
       "\n",
       "  CO2 emissions companies and institutions (tonnes)  \\\n",
       "0                                            417696   \n",
       "1                                                 ?   \n",
       "2                                            436683   \n",
       "3                                            435950   \n",
       "4                                            400246   \n",
       "\n",
       "   CO2 emissions from homes, temperature corrected (tonnes)  \\\n",
       "0                                           307039.0          \n",
       "1                                           322296.0          \n",
       "2                                           311324.0          \n",
       "3                                           308836.0          \n",
       "4                                           304149.0          \n",
       "\n",
       "   CO2 emissions total (tonnes)  \n",
       "0                     1131300.0  \n",
       "1                     1201300.0  \n",
       "2                     1146500.0  \n",
       "3                     1135200.0  \n",
       "4                     1094500.0  "
      ]
     },
     "execution_count": 7,
     "metadata": {},
     "output_type": "execute_result"
    }
   ],
   "source": [
    "# Check if they were translated correctly\n",
    "carbon_df.head()"
   ]
  },
  {
   "cell_type": "code",
   "execution_count": 8,
   "metadata": {},
   "outputs": [],
   "source": [
    "# Sort all values according to Year in ascending order\n",
    "carbon_df = carbon_df.sort_values('Year')"
   ]
  },
  {
   "cell_type": "code",
   "execution_count": 9,
   "metadata": {},
   "outputs": [],
   "source": [
    "# Conversion factor from TJ to kWh\n",
    "tj_to_kwh_conversion_factor = 277.7778\n",
    "\n",
    "# Calculate the kWh values and create new columns\n",
    "carbon_df['Energy Consumption (including regenerative heat, solar power, motorways) (kwh)'] = carbon_df['Energy Consumption (including regenerative heat, solar power, motorways) (TJ)'] * tj_to_kwh_conversion_factor\n",
    "carbon_df['Renewable electricity (kwh)'] = carbon_df['Renewable electricity (TJ)'] * tj_to_kwh_conversion_factor\n",
    "carbon_df['Renewable energy (kwh)'] = carbon_df['Renewable energy (TJ)'] * tj_to_kwh_conversion_factor"
   ]
  },
  {
   "cell_type": "code",
   "execution_count": 10,
   "metadata": {},
   "outputs": [],
   "source": [
    "# Drop columns where conversion to kWh is readable, keep TJ measurement for ones where conversion is in scientific format\n",
    "carbon_df = carbon_df.drop(columns = ['Renewable electricity (TJ)', 'Renewable energy (TJ)'])"
   ]
  },
  {
   "cell_type": "code",
   "execution_count": 11,
   "metadata": {},
   "outputs": [
    {
     "data": {
      "text/html": [
       "<div>\n",
       "<style scoped>\n",
       "    .dataframe tbody tr th:only-of-type {\n",
       "        vertical-align: middle;\n",
       "    }\n",
       "\n",
       "    .dataframe tbody tr th {\n",
       "        vertical-align: top;\n",
       "    }\n",
       "\n",
       "    .dataframe thead th {\n",
       "        text-align: right;\n",
       "    }\n",
       "</style>\n",
       "<table border=\"1\" class=\"dataframe\">\n",
       "  <thead>\n",
       "    <tr style=\"text-align: right;\">\n",
       "      <th></th>\n",
       "      <th>Year</th>\n",
       "      <th>Electricity Consumption: total (kwh)</th>\n",
       "      <th>Natural Gas Consumption (m3)</th>\n",
       "      <th>Energy Consumption (including regenerative heat, solar power, motorways) (TJ)</th>\n",
       "      <th>Electricity consumption of all homes (kwh)</th>\n",
       "      <th>Gas consumption all homes (m3)</th>\n",
       "      <th>Electricity consumption companies and institutions (kwh)</th>\n",
       "      <th>Gas consumption by companies and institutions (m3)</th>\n",
       "      <th>Power of registered solar panels homes (kw peak)</th>\n",
       "      <th>Power of registered solar panels companies (kw peak)</th>\n",
       "      <th>...</th>\n",
       "      <th>Number of installations with registered solar panel companies (number)</th>\n",
       "      <th>Renewable energy (%)</th>\n",
       "      <th>Renewable electricity (%)</th>\n",
       "      <th>CO2 emissions Traffic and transport incl. motorways and roads, excl. electr. rail traffic (tonnes)</th>\n",
       "      <th>CO2 emissions companies and institutions (tonnes)</th>\n",
       "      <th>CO2 emissions from homes, temperature corrected (tonnes)</th>\n",
       "      <th>CO2 emissions total (tonnes)</th>\n",
       "      <th>Energy Consumption (including regenerative heat, solar power, motorways) (kwh)</th>\n",
       "      <th>Renewable electricity (kwh)</th>\n",
       "      <th>Renewable energy (kwh)</th>\n",
       "    </tr>\n",
       "  </thead>\n",
       "  <tbody>\n",
       "    <tr>\n",
       "      <th>1</th>\n",
       "      <td>2010</td>\n",
       "      <td>3300</td>\n",
       "      <td>1650.0</td>\n",
       "      <td>17038.0</td>\n",
       "      <td>3300.0</td>\n",
       "      <td>1670.0</td>\n",
       "      <td>574426000.0</td>\n",
       "      <td>?</td>\n",
       "      <td>NaN</td>\n",
       "      <td>NaN</td>\n",
       "      <td>...</td>\n",
       "      <td>NaN</td>\n",
       "      <td>0.020</td>\n",
       "      <td>0.004</td>\n",
       "      <td>410119.0</td>\n",
       "      <td>?</td>\n",
       "      <td>322296.0</td>\n",
       "      <td>1201300.0</td>\n",
       "      <td>4.732778e+06</td>\n",
       "      <td>3055.5558</td>\n",
       "      <td>92500.0074</td>\n",
       "    </tr>\n",
       "    <tr>\n",
       "      <th>0</th>\n",
       "      <td>2011</td>\n",
       "      <td>3300</td>\n",
       "      <td>1250.0</td>\n",
       "      <td>16385.0</td>\n",
       "      <td>3280.0</td>\n",
       "      <td>1260.0</td>\n",
       "      <td>569160000.0</td>\n",
       "      <td>92868000</td>\n",
       "      <td>NaN</td>\n",
       "      <td>NaN</td>\n",
       "      <td>...</td>\n",
       "      <td>NaN</td>\n",
       "      <td>0.024</td>\n",
       "      <td>0.004</td>\n",
       "      <td>406592.0</td>\n",
       "      <td>417696</td>\n",
       "      <td>307039.0</td>\n",
       "      <td>1131300.0</td>\n",
       "      <td>4.551389e+06</td>\n",
       "      <td>2777.7780</td>\n",
       "      <td>109166.6754</td>\n",
       "    </tr>\n",
       "    <tr>\n",
       "      <th>2</th>\n",
       "      <td>2012</td>\n",
       "      <td>3250</td>\n",
       "      <td>1300.0</td>\n",
       "      <td>16144.0</td>\n",
       "      <td>3250.0</td>\n",
       "      <td>1340.0</td>\n",
       "      <td>568489000.0</td>\n",
       "      <td>94180000</td>\n",
       "      <td>1305.0</td>\n",
       "      <td>371.0</td>\n",
       "      <td>...</td>\n",
       "      <td>62.0</td>\n",
       "      <td>0.026</td>\n",
       "      <td>0.008</td>\n",
       "      <td>398502.0</td>\n",
       "      <td>436683</td>\n",
       "      <td>311324.0</td>\n",
       "      <td>1146500.0</td>\n",
       "      <td>4.484445e+06</td>\n",
       "      <td>6666.6672</td>\n",
       "      <td>116111.1204</td>\n",
       "    </tr>\n",
       "    <tr>\n",
       "      <th>3</th>\n",
       "      <td>2013</td>\n",
       "      <td>3200</td>\n",
       "      <td>1400.0</td>\n",
       "      <td>15840.0</td>\n",
       "      <td>3210.0</td>\n",
       "      <td>1400.0</td>\n",
       "      <td>561871000.0</td>\n",
       "      <td>92677000</td>\n",
       "      <td>2867.0</td>\n",
       "      <td>1016.0</td>\n",
       "      <td>...</td>\n",
       "      <td>113.0</td>\n",
       "      <td>0.029</td>\n",
       "      <td>0.015</td>\n",
       "      <td>390382.0</td>\n",
       "      <td>435950</td>\n",
       "      <td>308836.0</td>\n",
       "      <td>1135200.0</td>\n",
       "      <td>4.400000e+06</td>\n",
       "      <td>11666.6676</td>\n",
       "      <td>125555.5656</td>\n",
       "    </tr>\n",
       "    <tr>\n",
       "      <th>4</th>\n",
       "      <td>2014</td>\n",
       "      <td>3100</td>\n",
       "      <td>1000.0</td>\n",
       "      <td>14692.0</td>\n",
       "      <td>3110.0</td>\n",
       "      <td>1010.0</td>\n",
       "      <td>530669000.0</td>\n",
       "      <td>74669000</td>\n",
       "      <td>4364.0</td>\n",
       "      <td>1969.0</td>\n",
       "      <td>...</td>\n",
       "      <td>152.0</td>\n",
       "      <td>0.033</td>\n",
       "      <td>0.018</td>\n",
       "      <td>390139.0</td>\n",
       "      <td>400246</td>\n",
       "      <td>304149.0</td>\n",
       "      <td>1094500.0</td>\n",
       "      <td>4.081111e+06</td>\n",
       "      <td>13888.8900</td>\n",
       "      <td>136111.1220</td>\n",
       "    </tr>\n",
       "  </tbody>\n",
       "</table>\n",
       "<p>5 rows × 21 columns</p>\n",
       "</div>"
      ],
      "text/plain": [
       "   Year Electricity Consumption: total (kwh)  Natural Gas Consumption (m3)  \\\n",
       "1  2010                                 3300                        1650.0   \n",
       "0  2011                                 3300                        1250.0   \n",
       "2  2012                                 3250                        1300.0   \n",
       "3  2013                                 3200                        1400.0   \n",
       "4  2014                                 3100                        1000.0   \n",
       "\n",
       "   Energy Consumption (including regenerative heat, solar power, motorways) (TJ)  \\\n",
       "1                                            17038.0                               \n",
       "0                                            16385.0                               \n",
       "2                                            16144.0                               \n",
       "3                                            15840.0                               \n",
       "4                                            14692.0                               \n",
       "\n",
       "   Electricity consumption of all homes (kwh)  Gas consumption all homes (m3)  \\\n",
       "1                                      3300.0                          1670.0   \n",
       "0                                      3280.0                          1260.0   \n",
       "2                                      3250.0                          1340.0   \n",
       "3                                      3210.0                          1400.0   \n",
       "4                                      3110.0                          1010.0   \n",
       "\n",
       "   Electricity consumption companies and institutions (kwh)  \\\n",
       "1                                        574426000.0          \n",
       "0                                        569160000.0          \n",
       "2                                        568489000.0          \n",
       "3                                        561871000.0          \n",
       "4                                        530669000.0          \n",
       "\n",
       "  Gas consumption by companies and institutions (m3)  \\\n",
       "1                                                  ?   \n",
       "0                                           92868000   \n",
       "2                                           94180000   \n",
       "3                                           92677000   \n",
       "4                                           74669000   \n",
       "\n",
       "   Power of registered solar panels homes (kw peak)  \\\n",
       "1                                               NaN   \n",
       "0                                               NaN   \n",
       "2                                            1305.0   \n",
       "3                                            2867.0   \n",
       "4                                            4364.0   \n",
       "\n",
       "   Power of registered solar panels companies (kw peak)  ...  \\\n",
       "1                                                NaN     ...   \n",
       "0                                                NaN     ...   \n",
       "2                                              371.0     ...   \n",
       "3                                             1016.0     ...   \n",
       "4                                             1969.0     ...   \n",
       "\n",
       "   Number of installations with registered solar panel companies (number)  \\\n",
       "1                                                NaN                        \n",
       "0                                                NaN                        \n",
       "2                                               62.0                        \n",
       "3                                              113.0                        \n",
       "4                                              152.0                        \n",
       "\n",
       "   Renewable energy (%)  Renewable electricity (%)  \\\n",
       "1                 0.020                      0.004   \n",
       "0                 0.024                      0.004   \n",
       "2                 0.026                      0.008   \n",
       "3                 0.029                      0.015   \n",
       "4                 0.033                      0.018   \n",
       "\n",
       "   CO2 emissions Traffic and transport incl. motorways and roads, excl. electr. rail traffic (tonnes)  \\\n",
       "1                                           410119.0                                                    \n",
       "0                                           406592.0                                                    \n",
       "2                                           398502.0                                                    \n",
       "3                                           390382.0                                                    \n",
       "4                                           390139.0                                                    \n",
       "\n",
       "   CO2 emissions companies and institutions (tonnes)  \\\n",
       "1                                                  ?   \n",
       "0                                             417696   \n",
       "2                                             436683   \n",
       "3                                             435950   \n",
       "4                                             400246   \n",
       "\n",
       "  CO2 emissions from homes, temperature corrected (tonnes)  \\\n",
       "1                                           322296.0         \n",
       "0                                           307039.0         \n",
       "2                                           311324.0         \n",
       "3                                           308836.0         \n",
       "4                                           304149.0         \n",
       "\n",
       "   CO2 emissions total (tonnes)  \\\n",
       "1                     1201300.0   \n",
       "0                     1131300.0   \n",
       "2                     1146500.0   \n",
       "3                     1135200.0   \n",
       "4                     1094500.0   \n",
       "\n",
       "   Energy Consumption (including regenerative heat, solar power, motorways) (kwh)  \\\n",
       "1                                       4.732778e+06                                \n",
       "0                                       4.551389e+06                                \n",
       "2                                       4.484445e+06                                \n",
       "3                                       4.400000e+06                                \n",
       "4                                       4.081111e+06                                \n",
       "\n",
       "   Renewable electricity (kwh)  Renewable energy (kwh)  \n",
       "1                    3055.5558              92500.0074  \n",
       "0                    2777.7780             109166.6754  \n",
       "2                    6666.6672             116111.1204  \n",
       "3                   11666.6676             125555.5656  \n",
       "4                   13888.8900             136111.1220  \n",
       "\n",
       "[5 rows x 21 columns]"
      ]
     },
     "execution_count": 11,
     "metadata": {},
     "output_type": "execute_result"
    }
   ],
   "source": [
    "carbon_df.head()"
   ]
  },
  {
   "cell_type": "code",
   "execution_count": 12,
   "metadata": {},
   "outputs": [],
   "source": [
    "# Drop all rows which are completely empty\n",
    "# These rows contained contextual information for measurements which we won't need\n",
    "carbon_df = carbon_df.dropna(axis =0, how='all')\n",
    "\n",
    "# Drop row where one datafield is filled\n",
    "carbon_df= carbon_df.drop(index = [40])"
   ]
  },
  {
   "cell_type": "code",
   "execution_count": 13,
   "metadata": {},
   "outputs": [],
   "source": [
    "# Backfill missing values and create a new dataframe\n",
    "carbon_df_bfill = carbon_df.fillna(method='bfill')\n",
    "\n",
    "# Frontfill leftover missing values of the backfilled dataframe, and update main dataframe\n",
    "carbon_df = carbon_df_bfill.fillna(method='ffill')"
   ]
  },
  {
   "cell_type": "code",
   "execution_count": 14,
   "metadata": {},
   "outputs": [
    {
     "name": "stderr",
     "output_type": "stream",
     "text": [
      "C:\\Users\\tatar\\AppData\\Local\\Temp\\ipykernel_3892\\3702387352.py:2: SettingWithCopyWarning: \n",
      "A value is trying to be set on a copy of a slice from a DataFrame\n",
      "\n",
      "See the caveats in the documentation: https://pandas.pydata.org/pandas-docs/stable/user_guide/indexing.html#returning-a-view-versus-a-copy\n",
      "  carbon_df['Gas consumption by companies and institutions (m3)'][1] = 92868000\n",
      "C:\\Users\\tatar\\AppData\\Local\\Temp\\ipykernel_3892\\3702387352.py:3: SettingWithCopyWarning: \n",
      "A value is trying to be set on a copy of a slice from a DataFrame\n",
      "\n",
      "See the caveats in the documentation: https://pandas.pydata.org/pandas-docs/stable/user_guide/indexing.html#returning-a-view-versus-a-copy\n",
      "  carbon_df['CO2 emissions companies and institutions (tonnes)'][1] = 271598\n"
     ]
    }
   ],
   "source": [
    "# Fill remaining missing values\n",
    "carbon_df['Gas consumption by companies and institutions (m3)'][1] = 92868000\n",
    "carbon_df['CO2 emissions companies and institutions (tonnes)'][1] = 271598 "
   ]
  },
  {
   "cell_type": "code",
   "execution_count": 15,
   "metadata": {},
   "outputs": [],
   "source": [
    "# Set column types to float64 so the datatypes are uniform\n",
    "carbon_df['Natural Gas Consumption (m3)'] = carbon_df['Natural Gas Consumption (m3)'].astype(float) \n",
    "carbon_df['CO2 emissions companies and institutions (tonnes)'] = carbon_df['CO2 emissions companies and institutions (tonnes)'].astype(float)\n",
    "carbon_df['Gas consumption by companies and institutions (m3)'] = carbon_df['Gas consumption by companies and institutions (m3)'].astype(float)"
   ]
  },
  {
   "cell_type": "code",
   "execution_count": 16,
   "metadata": {},
   "outputs": [
    {
     "name": "stdout",
     "output_type": "stream",
     "text": [
      "<class 'pandas.core.frame.DataFrame'>\n",
      "Int64Index: 12 entries, 1 to 11\n",
      "Data columns (total 21 columns):\n",
      " #   Column                                                                                              Non-Null Count  Dtype  \n",
      "---  ------                                                                                              --------------  -----  \n",
      " 0   Year                                                                                                12 non-null     object \n",
      " 1   Electricity Consumption: total (kwh)                                                                12 non-null     int64  \n",
      " 2   Natural Gas Consumption (m3)                                                                        12 non-null     float64\n",
      " 3   Energy Consumption (including regenerative heat, solar power, motorways) (TJ)                       12 non-null     float64\n",
      " 4   Electricity consumption of all homes (kwh)                                                          12 non-null     float64\n",
      " 5   Gas consumption all homes (m3)                                                                      12 non-null     float64\n",
      " 6   Electricity consumption companies and institutions (kwh)                                            12 non-null     float64\n",
      " 7   Gas consumption by companies and institutions (m3)                                                  12 non-null     float64\n",
      " 8   Power of registered solar panels homes (kw peak)                                                    12 non-null     float64\n",
      " 9   Power of registered solar panels companies (kw peak)                                                12 non-null     float64\n",
      " 10  Number of installations with registered solar panels in homes (number)                              12 non-null     float64\n",
      " 11  Number of installations with registered solar panel companies (number)                              12 non-null     float64\n",
      " 12  Renewable energy (%)                                                                                12 non-null     float64\n",
      " 13  Renewable electricity (%)                                                                           12 non-null     float64\n",
      " 14  CO2 emissions Traffic and transport incl. motorways and roads, excl. electr. rail traffic (tonnes)  12 non-null     float64\n",
      " 15  CO2 emissions companies and institutions (tonnes)                                                   12 non-null     float64\n",
      " 16  CO2 emissions from homes, temperature corrected (tonnes)                                            12 non-null     float64\n",
      " 17  CO2 emissions total (tonnes)                                                                        12 non-null     float64\n",
      " 18  Energy Consumption (including regenerative heat, solar power, motorways) (kwh)                      12 non-null     float64\n",
      " 19  Renewable electricity (kwh)                                                                         12 non-null     float64\n",
      " 20  Renewable energy (kwh)                                                                              12 non-null     float64\n",
      "dtypes: float64(19), int64(1), object(1)\n",
      "memory usage: 2.4+ KB\n"
     ]
    }
   ],
   "source": [
    "# Check datatypes (One column wasn't updated to float64 for some reason)\n",
    "carbon_df.info()"
   ]
  },
  {
   "cell_type": "code",
   "execution_count": 17,
   "metadata": {},
   "outputs": [
    {
     "data": {
      "text/html": [
       "<div>\n",
       "<style scoped>\n",
       "    .dataframe tbody tr th:only-of-type {\n",
       "        vertical-align: middle;\n",
       "    }\n",
       "\n",
       "    .dataframe tbody tr th {\n",
       "        vertical-align: top;\n",
       "    }\n",
       "\n",
       "    .dataframe thead th {\n",
       "        text-align: right;\n",
       "    }\n",
       "</style>\n",
       "<table border=\"1\" class=\"dataframe\">\n",
       "  <thead>\n",
       "    <tr style=\"text-align: right;\">\n",
       "      <th></th>\n",
       "      <th>Year</th>\n",
       "      <th>Electricity Consumption: total (kwh)</th>\n",
       "      <th>Natural Gas Consumption (m3)</th>\n",
       "      <th>Energy Consumption (including regenerative heat, solar power, motorways) (TJ)</th>\n",
       "      <th>Electricity consumption of all homes (kwh)</th>\n",
       "      <th>Gas consumption all homes (m3)</th>\n",
       "      <th>Electricity consumption companies and institutions (kwh)</th>\n",
       "      <th>Gas consumption by companies and institutions (m3)</th>\n",
       "      <th>Power of registered solar panels homes (kw peak)</th>\n",
       "      <th>Power of registered solar panels companies (kw peak)</th>\n",
       "      <th>...</th>\n",
       "      <th>Number of installations with registered solar panel companies (number)</th>\n",
       "      <th>Renewable energy (%)</th>\n",
       "      <th>Renewable electricity (%)</th>\n",
       "      <th>CO2 emissions Traffic and transport incl. motorways and roads, excl. electr. rail traffic (tonnes)</th>\n",
       "      <th>CO2 emissions companies and institutions (tonnes)</th>\n",
       "      <th>CO2 emissions from homes, temperature corrected (tonnes)</th>\n",
       "      <th>CO2 emissions total (tonnes)</th>\n",
       "      <th>Energy Consumption (including regenerative heat, solar power, motorways) (kwh)</th>\n",
       "      <th>Renewable electricity (kwh)</th>\n",
       "      <th>Renewable energy (kwh)</th>\n",
       "    </tr>\n",
       "  </thead>\n",
       "  <tbody>\n",
       "    <tr>\n",
       "      <th>1</th>\n",
       "      <td>2010</td>\n",
       "      <td>3300</td>\n",
       "      <td>1650.0</td>\n",
       "      <td>17038.0</td>\n",
       "      <td>3300.0</td>\n",
       "      <td>1670.0</td>\n",
       "      <td>574426000.0</td>\n",
       "      <td>92868000.0</td>\n",
       "      <td>1305.0</td>\n",
       "      <td>371.0</td>\n",
       "      <td>...</td>\n",
       "      <td>62.0</td>\n",
       "      <td>0.020</td>\n",
       "      <td>0.004</td>\n",
       "      <td>410119.0</td>\n",
       "      <td>271598.0</td>\n",
       "      <td>322296.0</td>\n",
       "      <td>1201300.0</td>\n",
       "      <td>4.732778e+06</td>\n",
       "      <td>3055.5558</td>\n",
       "      <td>92500.0074</td>\n",
       "    </tr>\n",
       "    <tr>\n",
       "      <th>0</th>\n",
       "      <td>2011</td>\n",
       "      <td>3300</td>\n",
       "      <td>1250.0</td>\n",
       "      <td>16385.0</td>\n",
       "      <td>3280.0</td>\n",
       "      <td>1260.0</td>\n",
       "      <td>569160000.0</td>\n",
       "      <td>92868000.0</td>\n",
       "      <td>1305.0</td>\n",
       "      <td>371.0</td>\n",
       "      <td>...</td>\n",
       "      <td>62.0</td>\n",
       "      <td>0.024</td>\n",
       "      <td>0.004</td>\n",
       "      <td>406592.0</td>\n",
       "      <td>417696.0</td>\n",
       "      <td>307039.0</td>\n",
       "      <td>1131300.0</td>\n",
       "      <td>4.551389e+06</td>\n",
       "      <td>2777.7780</td>\n",
       "      <td>109166.6754</td>\n",
       "    </tr>\n",
       "    <tr>\n",
       "      <th>2</th>\n",
       "      <td>2012</td>\n",
       "      <td>3250</td>\n",
       "      <td>1300.0</td>\n",
       "      <td>16144.0</td>\n",
       "      <td>3250.0</td>\n",
       "      <td>1340.0</td>\n",
       "      <td>568489000.0</td>\n",
       "      <td>94180000.0</td>\n",
       "      <td>1305.0</td>\n",
       "      <td>371.0</td>\n",
       "      <td>...</td>\n",
       "      <td>62.0</td>\n",
       "      <td>0.026</td>\n",
       "      <td>0.008</td>\n",
       "      <td>398502.0</td>\n",
       "      <td>436683.0</td>\n",
       "      <td>311324.0</td>\n",
       "      <td>1146500.0</td>\n",
       "      <td>4.484445e+06</td>\n",
       "      <td>6666.6672</td>\n",
       "      <td>116111.1204</td>\n",
       "    </tr>\n",
       "    <tr>\n",
       "      <th>3</th>\n",
       "      <td>2013</td>\n",
       "      <td>3200</td>\n",
       "      <td>1400.0</td>\n",
       "      <td>15840.0</td>\n",
       "      <td>3210.0</td>\n",
       "      <td>1400.0</td>\n",
       "      <td>561871000.0</td>\n",
       "      <td>92677000.0</td>\n",
       "      <td>2867.0</td>\n",
       "      <td>1016.0</td>\n",
       "      <td>...</td>\n",
       "      <td>113.0</td>\n",
       "      <td>0.029</td>\n",
       "      <td>0.015</td>\n",
       "      <td>390382.0</td>\n",
       "      <td>435950.0</td>\n",
       "      <td>308836.0</td>\n",
       "      <td>1135200.0</td>\n",
       "      <td>4.400000e+06</td>\n",
       "      <td>11666.6676</td>\n",
       "      <td>125555.5656</td>\n",
       "    </tr>\n",
       "    <tr>\n",
       "      <th>4</th>\n",
       "      <td>2014</td>\n",
       "      <td>3100</td>\n",
       "      <td>1000.0</td>\n",
       "      <td>14692.0</td>\n",
       "      <td>3110.0</td>\n",
       "      <td>1010.0</td>\n",
       "      <td>530669000.0</td>\n",
       "      <td>74669000.0</td>\n",
       "      <td>4364.0</td>\n",
       "      <td>1969.0</td>\n",
       "      <td>...</td>\n",
       "      <td>152.0</td>\n",
       "      <td>0.033</td>\n",
       "      <td>0.018</td>\n",
       "      <td>390139.0</td>\n",
       "      <td>400246.0</td>\n",
       "      <td>304149.0</td>\n",
       "      <td>1094500.0</td>\n",
       "      <td>4.081111e+06</td>\n",
       "      <td>13888.8900</td>\n",
       "      <td>136111.1220</td>\n",
       "    </tr>\n",
       "  </tbody>\n",
       "</table>\n",
       "<p>5 rows × 21 columns</p>\n",
       "</div>"
      ],
      "text/plain": [
       "   Year  Electricity Consumption: total (kwh)  Natural Gas Consumption (m3)  \\\n",
       "1  2010                                  3300                        1650.0   \n",
       "0  2011                                  3300                        1250.0   \n",
       "2  2012                                  3250                        1300.0   \n",
       "3  2013                                  3200                        1400.0   \n",
       "4  2014                                  3100                        1000.0   \n",
       "\n",
       "   Energy Consumption (including regenerative heat, solar power, motorways) (TJ)  \\\n",
       "1                                            17038.0                               \n",
       "0                                            16385.0                               \n",
       "2                                            16144.0                               \n",
       "3                                            15840.0                               \n",
       "4                                            14692.0                               \n",
       "\n",
       "   Electricity consumption of all homes (kwh)  Gas consumption all homes (m3)  \\\n",
       "1                                      3300.0                          1670.0   \n",
       "0                                      3280.0                          1260.0   \n",
       "2                                      3250.0                          1340.0   \n",
       "3                                      3210.0                          1400.0   \n",
       "4                                      3110.0                          1010.0   \n",
       "\n",
       "   Electricity consumption companies and institutions (kwh)  \\\n",
       "1                                        574426000.0          \n",
       "0                                        569160000.0          \n",
       "2                                        568489000.0          \n",
       "3                                        561871000.0          \n",
       "4                                        530669000.0          \n",
       "\n",
       "   Gas consumption by companies and institutions (m3)  \\\n",
       "1                                         92868000.0    \n",
       "0                                         92868000.0    \n",
       "2                                         94180000.0    \n",
       "3                                         92677000.0    \n",
       "4                                         74669000.0    \n",
       "\n",
       "   Power of registered solar panels homes (kw peak)  \\\n",
       "1                                            1305.0   \n",
       "0                                            1305.0   \n",
       "2                                            1305.0   \n",
       "3                                            2867.0   \n",
       "4                                            4364.0   \n",
       "\n",
       "   Power of registered solar panels companies (kw peak)  ...  \\\n",
       "1                                              371.0     ...   \n",
       "0                                              371.0     ...   \n",
       "2                                              371.0     ...   \n",
       "3                                             1016.0     ...   \n",
       "4                                             1969.0     ...   \n",
       "\n",
       "   Number of installations with registered solar panel companies (number)  \\\n",
       "1                                               62.0                        \n",
       "0                                               62.0                        \n",
       "2                                               62.0                        \n",
       "3                                              113.0                        \n",
       "4                                              152.0                        \n",
       "\n",
       "   Renewable energy (%)  Renewable electricity (%)  \\\n",
       "1                 0.020                      0.004   \n",
       "0                 0.024                      0.004   \n",
       "2                 0.026                      0.008   \n",
       "3                 0.029                      0.015   \n",
       "4                 0.033                      0.018   \n",
       "\n",
       "   CO2 emissions Traffic and transport incl. motorways and roads, excl. electr. rail traffic (tonnes)  \\\n",
       "1                                           410119.0                                                    \n",
       "0                                           406592.0                                                    \n",
       "2                                           398502.0                                                    \n",
       "3                                           390382.0                                                    \n",
       "4                                           390139.0                                                    \n",
       "\n",
       "   CO2 emissions companies and institutions (tonnes)  \\\n",
       "1                                           271598.0   \n",
       "0                                           417696.0   \n",
       "2                                           436683.0   \n",
       "3                                           435950.0   \n",
       "4                                           400246.0   \n",
       "\n",
       "   CO2 emissions from homes, temperature corrected (tonnes)  \\\n",
       "1                                           322296.0          \n",
       "0                                           307039.0          \n",
       "2                                           311324.0          \n",
       "3                                           308836.0          \n",
       "4                                           304149.0          \n",
       "\n",
       "   CO2 emissions total (tonnes)  \\\n",
       "1                     1201300.0   \n",
       "0                     1131300.0   \n",
       "2                     1146500.0   \n",
       "3                     1135200.0   \n",
       "4                     1094500.0   \n",
       "\n",
       "   Energy Consumption (including regenerative heat, solar power, motorways) (kwh)  \\\n",
       "1                                       4.732778e+06                                \n",
       "0                                       4.551389e+06                                \n",
       "2                                       4.484445e+06                                \n",
       "3                                       4.400000e+06                                \n",
       "4                                       4.081111e+06                                \n",
       "\n",
       "   Renewable electricity (kwh)  Renewable energy (kwh)  \n",
       "1                    3055.5558              92500.0074  \n",
       "0                    2777.7780             109166.6754  \n",
       "2                    6666.6672             116111.1204  \n",
       "3                   11666.6676             125555.5656  \n",
       "4                   13888.8900             136111.1220  \n",
       "\n",
       "[5 rows x 21 columns]"
      ]
     },
     "execution_count": 17,
     "metadata": {},
     "output_type": "execute_result"
    }
   ],
   "source": [
    "carbon_df.head()"
   ]
  },
  {
   "cell_type": "code",
   "execution_count": 18,
   "metadata": {},
   "outputs": [
    {
     "name": "stdout",
     "output_type": "stream",
     "text": [
      "                                                    Number of Rows  \\\n",
      "Year                                                            12   \n",
      "Electricity Consumption: total (kwh)                            12   \n",
      "Natural Gas Consumption (m3)                                    12   \n",
      "Energy Consumption (including regenerative heat...              12   \n",
      "Electricity consumption of all homes (kwh)                      12   \n",
      "Gas consumption all homes (m3)                                  12   \n",
      "Electricity consumption companies and instituti...              12   \n",
      "Gas consumption by companies and institutions (m3)              12   \n",
      "Power of registered solar panels homes (kw peak)                12   \n",
      "Power of registered solar panels companies (kw ...              12   \n",
      "Number of installations with registered solar p...              12   \n",
      "Number of installations with registered solar p...              12   \n",
      "Renewable energy (%)                                            12   \n",
      "Renewable electricity (%)                                       12   \n",
      "CO2 emissions Traffic and transport incl. motor...              12   \n",
      "CO2 emissions companies and institutions (tonnes)               12   \n",
      "CO2 emissions from homes, temperature corrected...              12   \n",
      "CO2 emissions total (tonnes)                                    12   \n",
      "Energy Consumption (including regenerative heat...              12   \n",
      "Renewable electricity (kwh)                                     12   \n",
      "Renewable energy (kwh)                                          12   \n",
      "\n",
      "                                                    Number of Columns  \\\n",
      "Year                                                               21   \n",
      "Electricity Consumption: total (kwh)                               21   \n",
      "Natural Gas Consumption (m3)                                       21   \n",
      "Energy Consumption (including regenerative heat...                 21   \n",
      "Electricity consumption of all homes (kwh)                         21   \n",
      "Gas consumption all homes (m3)                                     21   \n",
      "Electricity consumption companies and instituti...                 21   \n",
      "Gas consumption by companies and institutions (m3)                 21   \n",
      "Power of registered solar panels homes (kw peak)                   21   \n",
      "Power of registered solar panels companies (kw ...                 21   \n",
      "Number of installations with registered solar p...                 21   \n",
      "Number of installations with registered solar p...                 21   \n",
      "Renewable energy (%)                                               21   \n",
      "Renewable electricity (%)                                          21   \n",
      "CO2 emissions Traffic and transport incl. motor...                 21   \n",
      "CO2 emissions companies and institutions (tonnes)                  21   \n",
      "CO2 emissions from homes, temperature corrected...                 21   \n",
      "CO2 emissions total (tonnes)                                       21   \n",
      "Energy Consumption (including regenerative heat...                 21   \n",
      "Renewable electricity (kwh)                                        21   \n",
      "Renewable energy (kwh)                                             21   \n",
      "\n",
      "                                                   Column Data Types  \\\n",
      "Year                                                          object   \n",
      "Electricity Consumption: total (kwh)                           int64   \n",
      "Natural Gas Consumption (m3)                                 float64   \n",
      "Energy Consumption (including regenerative heat...           float64   \n",
      "Electricity consumption of all homes (kwh)                   float64   \n",
      "Gas consumption all homes (m3)                               float64   \n",
      "Electricity consumption companies and instituti...           float64   \n",
      "Gas consumption by companies and institutions (m3)           float64   \n",
      "Power of registered solar panels homes (kw peak)             float64   \n",
      "Power of registered solar panels companies (kw ...           float64   \n",
      "Number of installations with registered solar p...           float64   \n",
      "Number of installations with registered solar p...           float64   \n",
      "Renewable energy (%)                                         float64   \n",
      "Renewable electricity (%)                                    float64   \n",
      "CO2 emissions Traffic and transport incl. motor...           float64   \n",
      "CO2 emissions companies and institutions (tonnes)            float64   \n",
      "CO2 emissions from homes, temperature corrected...           float64   \n",
      "CO2 emissions total (tonnes)                                 float64   \n",
      "Energy Consumption (including regenerative heat...           float64   \n",
      "Renewable electricity (kwh)                                  float64   \n",
      "Renewable energy (kwh)                                       float64   \n",
      "\n",
      "                                                    Number of Missing Values  \\\n",
      "Year                                                                       0   \n",
      "Electricity Consumption: total (kwh)                                       0   \n",
      "Natural Gas Consumption (m3)                                               0   \n",
      "Energy Consumption (including regenerative heat...                         0   \n",
      "Electricity consumption of all homes (kwh)                                 0   \n",
      "Gas consumption all homes (m3)                                             0   \n",
      "Electricity consumption companies and instituti...                         0   \n",
      "Gas consumption by companies and institutions (m3)                         0   \n",
      "Power of registered solar panels homes (kw peak)                           0   \n",
      "Power of registered solar panels companies (kw ...                         0   \n",
      "Number of installations with registered solar p...                         0   \n",
      "Number of installations with registered solar p...                         0   \n",
      "Renewable energy (%)                                                       0   \n",
      "Renewable electricity (%)                                                  0   \n",
      "CO2 emissions Traffic and transport incl. motor...                         0   \n",
      "CO2 emissions companies and institutions (tonnes)                          0   \n",
      "CO2 emissions from homes, temperature corrected...                         0   \n",
      "CO2 emissions total (tonnes)                                               0   \n",
      "Energy Consumption (including regenerative heat...                         0   \n",
      "Renewable electricity (kwh)                                                0   \n",
      "Renewable energy (kwh)                                                     0   \n",
      "\n",
      "                                                    Percentage of Missing Values  \\\n",
      "Year                                                                         0.0   \n",
      "Electricity Consumption: total (kwh)                                         0.0   \n",
      "Natural Gas Consumption (m3)                                                 0.0   \n",
      "Energy Consumption (including regenerative heat...                           0.0   \n",
      "Electricity consumption of all homes (kwh)                                   0.0   \n",
      "Gas consumption all homes (m3)                                               0.0   \n",
      "Electricity consumption companies and instituti...                           0.0   \n",
      "Gas consumption by companies and institutions (m3)                           0.0   \n",
      "Power of registered solar panels homes (kw peak)                             0.0   \n",
      "Power of registered solar panels companies (kw ...                           0.0   \n",
      "Number of installations with registered solar p...                           0.0   \n",
      "Number of installations with registered solar p...                           0.0   \n",
      "Renewable energy (%)                                                         0.0   \n",
      "Renewable electricity (%)                                                    0.0   \n",
      "CO2 emissions Traffic and transport incl. motor...                           0.0   \n",
      "CO2 emissions companies and institutions (tonnes)                            0.0   \n",
      "CO2 emissions from homes, temperature corrected...                           0.0   \n",
      "CO2 emissions total (tonnes)                                                 0.0   \n",
      "Energy Consumption (including regenerative heat...                           0.0   \n",
      "Renewable electricity (kwh)                                                  0.0   \n",
      "Renewable energy (kwh)                                                       0.0   \n",
      "\n",
      "                                                    Total Missing Values  \\\n",
      "Year                                                                   0   \n",
      "Electricity Consumption: total (kwh)                                   0   \n",
      "Natural Gas Consumption (m3)                                           0   \n",
      "Energy Consumption (including regenerative heat...                     0   \n",
      "Electricity consumption of all homes (kwh)                             0   \n",
      "Gas consumption all homes (m3)                                         0   \n",
      "Electricity consumption companies and instituti...                     0   \n",
      "Gas consumption by companies and institutions (m3)                     0   \n",
      "Power of registered solar panels homes (kw peak)                       0   \n",
      "Power of registered solar panels companies (kw ...                     0   \n",
      "Number of installations with registered solar p...                     0   \n",
      "Number of installations with registered solar p...                     0   \n",
      "Renewable energy (%)                                                   0   \n",
      "Renewable electricity (%)                                              0   \n",
      "CO2 emissions Traffic and transport incl. motor...                     0   \n",
      "CO2 emissions companies and institutions (tonnes)                      0   \n",
      "CO2 emissions from homes, temperature corrected...                     0   \n",
      "CO2 emissions total (tonnes)                                           0   \n",
      "Energy Consumption (including regenerative heat...                     0   \n",
      "Renewable electricity (kwh)                                            0   \n",
      "Renewable energy (kwh)                                                 0   \n",
      "\n",
      "                                                    Total Percentage of Missing Values  \n",
      "Year                                                                               0.0  \n",
      "Electricity Consumption: total (kwh)                                               0.0  \n",
      "Natural Gas Consumption (m3)                                                       0.0  \n",
      "Energy Consumption (including regenerative heat...                                 0.0  \n",
      "Electricity consumption of all homes (kwh)                                         0.0  \n",
      "Gas consumption all homes (m3)                                                     0.0  \n",
      "Electricity consumption companies and instituti...                                 0.0  \n",
      "Gas consumption by companies and institutions (m3)                                 0.0  \n",
      "Power of registered solar panels homes (kw peak)                                   0.0  \n",
      "Power of registered solar panels companies (kw ...                                 0.0  \n",
      "Number of installations with registered solar p...                                 0.0  \n",
      "Number of installations with registered solar p...                                 0.0  \n",
      "Renewable energy (%)                                                               0.0  \n",
      "Renewable electricity (%)                                                          0.0  \n",
      "CO2 emissions Traffic and transport incl. motor...                                 0.0  \n",
      "CO2 emissions companies and institutions (tonnes)                                  0.0  \n",
      "CO2 emissions from homes, temperature corrected...                                 0.0  \n",
      "CO2 emissions total (tonnes)                                                       0.0  \n",
      "Energy Consumption (including regenerative heat...                                 0.0  \n",
      "Renewable electricity (kwh)                                                        0.0  \n",
      "Renewable energy (kwh)                                                             0.0  \n"
     ]
    }
   ],
   "source": [
    "# Kacper's function for overview of data quality and structure\n",
    "def data_quality_report(data):\n",
    "    # Basic information about the data\n",
    "    report = {}\n",
    "    report['Number of Rows'] = len(data)\n",
    "    report['Number of Columns'] = len(data.columns)\n",
    "    \n",
    "    # Column-wise data quality metrics\n",
    "    report['Column Data Types'] = data.dtypes\n",
    "    report['Number of Missing Values'] = data.isnull().sum()\n",
    "    report['Percentage of Missing Values'] = (data.isnull().sum() / len(data)) * 100\n",
    "    \n",
    "    # Overall data quality metrics\n",
    "    report['Total Missing Values'] = report['Number of Missing Values'].sum()\n",
    "    report['Total Percentage of Missing Values'] = (report['Total Missing Values'] / (len(data) * len(data.columns))) * 100\n",
    "    \n",
    "    return pd.DataFrame(report)\n",
    "\n",
    "report = data_quality_report(carbon_df)\n",
    "print(report)"
   ]
  },
  {
   "cell_type": "code",
   "execution_count": 19,
   "metadata": {},
   "outputs": [
    {
     "name": "stderr",
     "output_type": "stream",
     "text": [
      "c:\\Users\\tatar\\anaconda3\\envs\\verbeterenv\\Lib\\site-packages\\plotly\\graph_objs\\_deprecations.py:378: DeprecationWarning:\n",
      "\n",
      "plotly.graph_objs.Line is deprecated.\n",
      "Please replace it with one of the following more specific types\n",
      "  - plotly.graph_objs.scatter.Line\n",
      "  - plotly.graph_objs.layout.shape.Line\n",
      "  - etc.\n",
      "\n",
      "\n"
     ]
    },
    {
     "data": {
      "application/vnd.plotly.v1+json": {
       "config": {
        "plotlyServerURL": "https://plot.ly"
       },
       "data": [
        {
         "name": "Electricity Consumption: Total (kwh)",
         "type": "scatter",
         "x": [
          "2010",
          "2011",
          "2012",
          "2013",
          "2014",
          "2015",
          "2016",
          "2017",
          "2018",
          "2019",
          "2020",
          "2021"
         ],
         "y": [
          3300,
          3300,
          3250,
          3200,
          3100,
          3040,
          3000,
          2950,
          2880,
          2800,
          2820,
          2860
         ]
        },
        {
         "name": "Renewable Electricity Produced (kwh)",
         "type": "scatter",
         "x": [
          "2010",
          "2011",
          "2012",
          "2013",
          "2014",
          "2015",
          "2016",
          "2017",
          "2018",
          "2019",
          "2020",
          "2021"
         ],
         "y": [
          3055.5558,
          2777.7780000000002,
          6666.6672,
          11666.6676,
          13888.890000000001,
          19444.446,
          33611.1138,
          36111.114,
          48333.3372,
          62222.2272,
          81944.451,
          81944.451
         ]
        }
       ],
       "layout": {
        "template": {
         "data": {
          "bar": [
           {
            "error_x": {
             "color": "#2a3f5f"
            },
            "error_y": {
             "color": "#2a3f5f"
            },
            "marker": {
             "line": {
              "color": "#E5ECF6",
              "width": 0.5
             },
             "pattern": {
              "fillmode": "overlay",
              "size": 10,
              "solidity": 0.2
             }
            },
            "type": "bar"
           }
          ],
          "barpolar": [
           {
            "marker": {
             "line": {
              "color": "#E5ECF6",
              "width": 0.5
             },
             "pattern": {
              "fillmode": "overlay",
              "size": 10,
              "solidity": 0.2
             }
            },
            "type": "barpolar"
           }
          ],
          "carpet": [
           {
            "aaxis": {
             "endlinecolor": "#2a3f5f",
             "gridcolor": "white",
             "linecolor": "white",
             "minorgridcolor": "white",
             "startlinecolor": "#2a3f5f"
            },
            "baxis": {
             "endlinecolor": "#2a3f5f",
             "gridcolor": "white",
             "linecolor": "white",
             "minorgridcolor": "white",
             "startlinecolor": "#2a3f5f"
            },
            "type": "carpet"
           }
          ],
          "choropleth": [
           {
            "colorbar": {
             "outlinewidth": 0,
             "ticks": ""
            },
            "type": "choropleth"
           }
          ],
          "contour": [
           {
            "colorbar": {
             "outlinewidth": 0,
             "ticks": ""
            },
            "colorscale": [
             [
              0,
              "#0d0887"
             ],
             [
              0.1111111111111111,
              "#46039f"
             ],
             [
              0.2222222222222222,
              "#7201a8"
             ],
             [
              0.3333333333333333,
              "#9c179e"
             ],
             [
              0.4444444444444444,
              "#bd3786"
             ],
             [
              0.5555555555555556,
              "#d8576b"
             ],
             [
              0.6666666666666666,
              "#ed7953"
             ],
             [
              0.7777777777777778,
              "#fb9f3a"
             ],
             [
              0.8888888888888888,
              "#fdca26"
             ],
             [
              1,
              "#f0f921"
             ]
            ],
            "type": "contour"
           }
          ],
          "contourcarpet": [
           {
            "colorbar": {
             "outlinewidth": 0,
             "ticks": ""
            },
            "type": "contourcarpet"
           }
          ],
          "heatmap": [
           {
            "colorbar": {
             "outlinewidth": 0,
             "ticks": ""
            },
            "colorscale": [
             [
              0,
              "#0d0887"
             ],
             [
              0.1111111111111111,
              "#46039f"
             ],
             [
              0.2222222222222222,
              "#7201a8"
             ],
             [
              0.3333333333333333,
              "#9c179e"
             ],
             [
              0.4444444444444444,
              "#bd3786"
             ],
             [
              0.5555555555555556,
              "#d8576b"
             ],
             [
              0.6666666666666666,
              "#ed7953"
             ],
             [
              0.7777777777777778,
              "#fb9f3a"
             ],
             [
              0.8888888888888888,
              "#fdca26"
             ],
             [
              1,
              "#f0f921"
             ]
            ],
            "type": "heatmap"
           }
          ],
          "heatmapgl": [
           {
            "colorbar": {
             "outlinewidth": 0,
             "ticks": ""
            },
            "colorscale": [
             [
              0,
              "#0d0887"
             ],
             [
              0.1111111111111111,
              "#46039f"
             ],
             [
              0.2222222222222222,
              "#7201a8"
             ],
             [
              0.3333333333333333,
              "#9c179e"
             ],
             [
              0.4444444444444444,
              "#bd3786"
             ],
             [
              0.5555555555555556,
              "#d8576b"
             ],
             [
              0.6666666666666666,
              "#ed7953"
             ],
             [
              0.7777777777777778,
              "#fb9f3a"
             ],
             [
              0.8888888888888888,
              "#fdca26"
             ],
             [
              1,
              "#f0f921"
             ]
            ],
            "type": "heatmapgl"
           }
          ],
          "histogram": [
           {
            "marker": {
             "pattern": {
              "fillmode": "overlay",
              "size": 10,
              "solidity": 0.2
             }
            },
            "type": "histogram"
           }
          ],
          "histogram2d": [
           {
            "colorbar": {
             "outlinewidth": 0,
             "ticks": ""
            },
            "colorscale": [
             [
              0,
              "#0d0887"
             ],
             [
              0.1111111111111111,
              "#46039f"
             ],
             [
              0.2222222222222222,
              "#7201a8"
             ],
             [
              0.3333333333333333,
              "#9c179e"
             ],
             [
              0.4444444444444444,
              "#bd3786"
             ],
             [
              0.5555555555555556,
              "#d8576b"
             ],
             [
              0.6666666666666666,
              "#ed7953"
             ],
             [
              0.7777777777777778,
              "#fb9f3a"
             ],
             [
              0.8888888888888888,
              "#fdca26"
             ],
             [
              1,
              "#f0f921"
             ]
            ],
            "type": "histogram2d"
           }
          ],
          "histogram2dcontour": [
           {
            "colorbar": {
             "outlinewidth": 0,
             "ticks": ""
            },
            "colorscale": [
             [
              0,
              "#0d0887"
             ],
             [
              0.1111111111111111,
              "#46039f"
             ],
             [
              0.2222222222222222,
              "#7201a8"
             ],
             [
              0.3333333333333333,
              "#9c179e"
             ],
             [
              0.4444444444444444,
              "#bd3786"
             ],
             [
              0.5555555555555556,
              "#d8576b"
             ],
             [
              0.6666666666666666,
              "#ed7953"
             ],
             [
              0.7777777777777778,
              "#fb9f3a"
             ],
             [
              0.8888888888888888,
              "#fdca26"
             ],
             [
              1,
              "#f0f921"
             ]
            ],
            "type": "histogram2dcontour"
           }
          ],
          "mesh3d": [
           {
            "colorbar": {
             "outlinewidth": 0,
             "ticks": ""
            },
            "type": "mesh3d"
           }
          ],
          "parcoords": [
           {
            "line": {
             "colorbar": {
              "outlinewidth": 0,
              "ticks": ""
             }
            },
            "type": "parcoords"
           }
          ],
          "pie": [
           {
            "automargin": true,
            "type": "pie"
           }
          ],
          "scatter": [
           {
            "fillpattern": {
             "fillmode": "overlay",
             "size": 10,
             "solidity": 0.2
            },
            "type": "scatter"
           }
          ],
          "scatter3d": [
           {
            "line": {
             "colorbar": {
              "outlinewidth": 0,
              "ticks": ""
             }
            },
            "marker": {
             "colorbar": {
              "outlinewidth": 0,
              "ticks": ""
             }
            },
            "type": "scatter3d"
           }
          ],
          "scattercarpet": [
           {
            "marker": {
             "colorbar": {
              "outlinewidth": 0,
              "ticks": ""
             }
            },
            "type": "scattercarpet"
           }
          ],
          "scattergeo": [
           {
            "marker": {
             "colorbar": {
              "outlinewidth": 0,
              "ticks": ""
             }
            },
            "type": "scattergeo"
           }
          ],
          "scattergl": [
           {
            "marker": {
             "colorbar": {
              "outlinewidth": 0,
              "ticks": ""
             }
            },
            "type": "scattergl"
           }
          ],
          "scattermapbox": [
           {
            "marker": {
             "colorbar": {
              "outlinewidth": 0,
              "ticks": ""
             }
            },
            "type": "scattermapbox"
           }
          ],
          "scatterpolar": [
           {
            "marker": {
             "colorbar": {
              "outlinewidth": 0,
              "ticks": ""
             }
            },
            "type": "scatterpolar"
           }
          ],
          "scatterpolargl": [
           {
            "marker": {
             "colorbar": {
              "outlinewidth": 0,
              "ticks": ""
             }
            },
            "type": "scatterpolargl"
           }
          ],
          "scatterternary": [
           {
            "marker": {
             "colorbar": {
              "outlinewidth": 0,
              "ticks": ""
             }
            },
            "type": "scatterternary"
           }
          ],
          "surface": [
           {
            "colorbar": {
             "outlinewidth": 0,
             "ticks": ""
            },
            "colorscale": [
             [
              0,
              "#0d0887"
             ],
             [
              0.1111111111111111,
              "#46039f"
             ],
             [
              0.2222222222222222,
              "#7201a8"
             ],
             [
              0.3333333333333333,
              "#9c179e"
             ],
             [
              0.4444444444444444,
              "#bd3786"
             ],
             [
              0.5555555555555556,
              "#d8576b"
             ],
             [
              0.6666666666666666,
              "#ed7953"
             ],
             [
              0.7777777777777778,
              "#fb9f3a"
             ],
             [
              0.8888888888888888,
              "#fdca26"
             ],
             [
              1,
              "#f0f921"
             ]
            ],
            "type": "surface"
           }
          ],
          "table": [
           {
            "cells": {
             "fill": {
              "color": "#EBF0F8"
             },
             "line": {
              "color": "white"
             }
            },
            "header": {
             "fill": {
              "color": "#C8D4E3"
             },
             "line": {
              "color": "white"
             }
            },
            "type": "table"
           }
          ]
         },
         "layout": {
          "annotationdefaults": {
           "arrowcolor": "#2a3f5f",
           "arrowhead": 0,
           "arrowwidth": 1
          },
          "autotypenumbers": "strict",
          "coloraxis": {
           "colorbar": {
            "outlinewidth": 0,
            "ticks": ""
           }
          },
          "colorscale": {
           "diverging": [
            [
             0,
             "#8e0152"
            ],
            [
             0.1,
             "#c51b7d"
            ],
            [
             0.2,
             "#de77ae"
            ],
            [
             0.3,
             "#f1b6da"
            ],
            [
             0.4,
             "#fde0ef"
            ],
            [
             0.5,
             "#f7f7f7"
            ],
            [
             0.6,
             "#e6f5d0"
            ],
            [
             0.7,
             "#b8e186"
            ],
            [
             0.8,
             "#7fbc41"
            ],
            [
             0.9,
             "#4d9221"
            ],
            [
             1,
             "#276419"
            ]
           ],
           "sequential": [
            [
             0,
             "#0d0887"
            ],
            [
             0.1111111111111111,
             "#46039f"
            ],
            [
             0.2222222222222222,
             "#7201a8"
            ],
            [
             0.3333333333333333,
             "#9c179e"
            ],
            [
             0.4444444444444444,
             "#bd3786"
            ],
            [
             0.5555555555555556,
             "#d8576b"
            ],
            [
             0.6666666666666666,
             "#ed7953"
            ],
            [
             0.7777777777777778,
             "#fb9f3a"
            ],
            [
             0.8888888888888888,
             "#fdca26"
            ],
            [
             1,
             "#f0f921"
            ]
           ],
           "sequentialminus": [
            [
             0,
             "#0d0887"
            ],
            [
             0.1111111111111111,
             "#46039f"
            ],
            [
             0.2222222222222222,
             "#7201a8"
            ],
            [
             0.3333333333333333,
             "#9c179e"
            ],
            [
             0.4444444444444444,
             "#bd3786"
            ],
            [
             0.5555555555555556,
             "#d8576b"
            ],
            [
             0.6666666666666666,
             "#ed7953"
            ],
            [
             0.7777777777777778,
             "#fb9f3a"
            ],
            [
             0.8888888888888888,
             "#fdca26"
            ],
            [
             1,
             "#f0f921"
            ]
           ]
          },
          "colorway": [
           "#636efa",
           "#EF553B",
           "#00cc96",
           "#ab63fa",
           "#FFA15A",
           "#19d3f3",
           "#FF6692",
           "#B6E880",
           "#FF97FF",
           "#FECB52"
          ],
          "font": {
           "color": "#2a3f5f"
          },
          "geo": {
           "bgcolor": "white",
           "lakecolor": "white",
           "landcolor": "#E5ECF6",
           "showlakes": true,
           "showland": true,
           "subunitcolor": "white"
          },
          "hoverlabel": {
           "align": "left"
          },
          "hovermode": "closest",
          "mapbox": {
           "style": "light"
          },
          "paper_bgcolor": "white",
          "plot_bgcolor": "#E5ECF6",
          "polar": {
           "angularaxis": {
            "gridcolor": "white",
            "linecolor": "white",
            "ticks": ""
           },
           "bgcolor": "#E5ECF6",
           "radialaxis": {
            "gridcolor": "white",
            "linecolor": "white",
            "ticks": ""
           }
          },
          "scene": {
           "xaxis": {
            "backgroundcolor": "#E5ECF6",
            "gridcolor": "white",
            "gridwidth": 2,
            "linecolor": "white",
            "showbackground": true,
            "ticks": "",
            "zerolinecolor": "white"
           },
           "yaxis": {
            "backgroundcolor": "#E5ECF6",
            "gridcolor": "white",
            "gridwidth": 2,
            "linecolor": "white",
            "showbackground": true,
            "ticks": "",
            "zerolinecolor": "white"
           },
           "zaxis": {
            "backgroundcolor": "#E5ECF6",
            "gridcolor": "white",
            "gridwidth": 2,
            "linecolor": "white",
            "showbackground": true,
            "ticks": "",
            "zerolinecolor": "white"
           }
          },
          "shapedefaults": {
           "line": {
            "color": "#2a3f5f"
           }
          },
          "ternary": {
           "aaxis": {
            "gridcolor": "white",
            "linecolor": "white",
            "ticks": ""
           },
           "baxis": {
            "gridcolor": "white",
            "linecolor": "white",
            "ticks": ""
           },
           "bgcolor": "#E5ECF6",
           "caxis": {
            "gridcolor": "white",
            "linecolor": "white",
            "ticks": ""
           }
          },
          "title": {
           "x": 0.05
          },
          "xaxis": {
           "automargin": true,
           "gridcolor": "white",
           "linecolor": "white",
           "ticks": "",
           "title": {
            "standoff": 15
           },
           "zerolinecolor": "white",
           "zerolinewidth": 2
          },
          "yaxis": {
           "automargin": true,
           "gridcolor": "white",
           "linecolor": "white",
           "ticks": "",
           "title": {
            "standoff": 15
           },
           "zerolinecolor": "white",
           "zerolinewidth": 2
          }
         }
        },
        "title": {
         "text": "Electricity Use and Production"
        },
        "xaxis": {
         "title": {
          "text": "Year"
         }
        },
        "yaxis": {
         "title": {
          "text": "Amount Consumed or Produced"
         }
        }
       }
      }
     },
     "metadata": {},
     "output_type": "display_data"
    }
   ],
   "source": [
    "# Define y variables to be compared\n",
    "y0_electricity = carbon_df[\"Electricity Consumption: total (kwh)\"]\n",
    "y1_electricity = carbon_df['Renewable electricity (kwh)']\n",
    "\n",
    "# Create figure and add y variables while specifying the common x variable\n",
    "fig = go.Figure()\n",
    "\n",
    "# Add electricity consumption\n",
    "fig.add_trace(go.Line(x = carbon_df['Year'], name = 'Electricity Consumption: Total (kwh)', y = y0_electricity))\n",
    "\n",
    "# Add renewable electricity production\n",
    "fig.add_trace(go.Line(x = carbon_df['Year'], name = 'Renewable Electricity Produced (kwh)', y = y1_electricity))\n",
    "\n",
    "# Create titles\n",
    "fig.update_layout(\n",
    "    xaxis=dict(title='Year'),\n",
    "    yaxis=dict(title='Amount Consumed or Produced'),\n",
    "    title='Electricity Use and Production'\n",
    "    )\n",
    "\n",
    "fig.show()"
   ]
  },
  {
   "cell_type": "code",
   "execution_count": 20,
   "metadata": {},
   "outputs": [
    {
     "data": {
      "application/vnd.plotly.v1+json": {
       "config": {
        "plotlyServerURL": "https://plot.ly"
       },
       "data": [
        {
         "name": "Energy Consumption (kwh)",
         "type": "scatter",
         "x": [
          "2010",
          "2011",
          "2012",
          "2013",
          "2014",
          "2015",
          "2016",
          "2017",
          "2018",
          "2019",
          "2020",
          "2021"
         ],
         "y": [
          4732778.156400001,
          4551389.2530000005,
          4484444.8032,
          4400000.352,
          4081111.4376000003,
          4076944.7706000004,
          4086111.438,
          4149166.9986,
          4204444.7808,
          4109722.551,
          3691389.1842,
          3691389.1842
         ]
        },
        {
         "name": "Renewable Energy Production (kwh)",
         "type": "scatter",
         "x": [
          "2010",
          "2011",
          "2012",
          "2013",
          "2014",
          "2015",
          "2016",
          "2017",
          "2018",
          "2019",
          "2020",
          "2021"
         ],
         "y": [
          92500.0074,
          109166.67540000001,
          116111.1204,
          125555.5656,
          136111.122,
          173888.9028,
          177777.79200000002,
          189722.2374,
          231388.90740000003,
          272777.7996,
          270833.35500000004,
          270833.35500000004
         ]
        }
       ],
       "layout": {
        "template": {
         "data": {
          "bar": [
           {
            "error_x": {
             "color": "#2a3f5f"
            },
            "error_y": {
             "color": "#2a3f5f"
            },
            "marker": {
             "line": {
              "color": "#E5ECF6",
              "width": 0.5
             },
             "pattern": {
              "fillmode": "overlay",
              "size": 10,
              "solidity": 0.2
             }
            },
            "type": "bar"
           }
          ],
          "barpolar": [
           {
            "marker": {
             "line": {
              "color": "#E5ECF6",
              "width": 0.5
             },
             "pattern": {
              "fillmode": "overlay",
              "size": 10,
              "solidity": 0.2
             }
            },
            "type": "barpolar"
           }
          ],
          "carpet": [
           {
            "aaxis": {
             "endlinecolor": "#2a3f5f",
             "gridcolor": "white",
             "linecolor": "white",
             "minorgridcolor": "white",
             "startlinecolor": "#2a3f5f"
            },
            "baxis": {
             "endlinecolor": "#2a3f5f",
             "gridcolor": "white",
             "linecolor": "white",
             "minorgridcolor": "white",
             "startlinecolor": "#2a3f5f"
            },
            "type": "carpet"
           }
          ],
          "choropleth": [
           {
            "colorbar": {
             "outlinewidth": 0,
             "ticks": ""
            },
            "type": "choropleth"
           }
          ],
          "contour": [
           {
            "colorbar": {
             "outlinewidth": 0,
             "ticks": ""
            },
            "colorscale": [
             [
              0,
              "#0d0887"
             ],
             [
              0.1111111111111111,
              "#46039f"
             ],
             [
              0.2222222222222222,
              "#7201a8"
             ],
             [
              0.3333333333333333,
              "#9c179e"
             ],
             [
              0.4444444444444444,
              "#bd3786"
             ],
             [
              0.5555555555555556,
              "#d8576b"
             ],
             [
              0.6666666666666666,
              "#ed7953"
             ],
             [
              0.7777777777777778,
              "#fb9f3a"
             ],
             [
              0.8888888888888888,
              "#fdca26"
             ],
             [
              1,
              "#f0f921"
             ]
            ],
            "type": "contour"
           }
          ],
          "contourcarpet": [
           {
            "colorbar": {
             "outlinewidth": 0,
             "ticks": ""
            },
            "type": "contourcarpet"
           }
          ],
          "heatmap": [
           {
            "colorbar": {
             "outlinewidth": 0,
             "ticks": ""
            },
            "colorscale": [
             [
              0,
              "#0d0887"
             ],
             [
              0.1111111111111111,
              "#46039f"
             ],
             [
              0.2222222222222222,
              "#7201a8"
             ],
             [
              0.3333333333333333,
              "#9c179e"
             ],
             [
              0.4444444444444444,
              "#bd3786"
             ],
             [
              0.5555555555555556,
              "#d8576b"
             ],
             [
              0.6666666666666666,
              "#ed7953"
             ],
             [
              0.7777777777777778,
              "#fb9f3a"
             ],
             [
              0.8888888888888888,
              "#fdca26"
             ],
             [
              1,
              "#f0f921"
             ]
            ],
            "type": "heatmap"
           }
          ],
          "heatmapgl": [
           {
            "colorbar": {
             "outlinewidth": 0,
             "ticks": ""
            },
            "colorscale": [
             [
              0,
              "#0d0887"
             ],
             [
              0.1111111111111111,
              "#46039f"
             ],
             [
              0.2222222222222222,
              "#7201a8"
             ],
             [
              0.3333333333333333,
              "#9c179e"
             ],
             [
              0.4444444444444444,
              "#bd3786"
             ],
             [
              0.5555555555555556,
              "#d8576b"
             ],
             [
              0.6666666666666666,
              "#ed7953"
             ],
             [
              0.7777777777777778,
              "#fb9f3a"
             ],
             [
              0.8888888888888888,
              "#fdca26"
             ],
             [
              1,
              "#f0f921"
             ]
            ],
            "type": "heatmapgl"
           }
          ],
          "histogram": [
           {
            "marker": {
             "pattern": {
              "fillmode": "overlay",
              "size": 10,
              "solidity": 0.2
             }
            },
            "type": "histogram"
           }
          ],
          "histogram2d": [
           {
            "colorbar": {
             "outlinewidth": 0,
             "ticks": ""
            },
            "colorscale": [
             [
              0,
              "#0d0887"
             ],
             [
              0.1111111111111111,
              "#46039f"
             ],
             [
              0.2222222222222222,
              "#7201a8"
             ],
             [
              0.3333333333333333,
              "#9c179e"
             ],
             [
              0.4444444444444444,
              "#bd3786"
             ],
             [
              0.5555555555555556,
              "#d8576b"
             ],
             [
              0.6666666666666666,
              "#ed7953"
             ],
             [
              0.7777777777777778,
              "#fb9f3a"
             ],
             [
              0.8888888888888888,
              "#fdca26"
             ],
             [
              1,
              "#f0f921"
             ]
            ],
            "type": "histogram2d"
           }
          ],
          "histogram2dcontour": [
           {
            "colorbar": {
             "outlinewidth": 0,
             "ticks": ""
            },
            "colorscale": [
             [
              0,
              "#0d0887"
             ],
             [
              0.1111111111111111,
              "#46039f"
             ],
             [
              0.2222222222222222,
              "#7201a8"
             ],
             [
              0.3333333333333333,
              "#9c179e"
             ],
             [
              0.4444444444444444,
              "#bd3786"
             ],
             [
              0.5555555555555556,
              "#d8576b"
             ],
             [
              0.6666666666666666,
              "#ed7953"
             ],
             [
              0.7777777777777778,
              "#fb9f3a"
             ],
             [
              0.8888888888888888,
              "#fdca26"
             ],
             [
              1,
              "#f0f921"
             ]
            ],
            "type": "histogram2dcontour"
           }
          ],
          "mesh3d": [
           {
            "colorbar": {
             "outlinewidth": 0,
             "ticks": ""
            },
            "type": "mesh3d"
           }
          ],
          "parcoords": [
           {
            "line": {
             "colorbar": {
              "outlinewidth": 0,
              "ticks": ""
             }
            },
            "type": "parcoords"
           }
          ],
          "pie": [
           {
            "automargin": true,
            "type": "pie"
           }
          ],
          "scatter": [
           {
            "fillpattern": {
             "fillmode": "overlay",
             "size": 10,
             "solidity": 0.2
            },
            "type": "scatter"
           }
          ],
          "scatter3d": [
           {
            "line": {
             "colorbar": {
              "outlinewidth": 0,
              "ticks": ""
             }
            },
            "marker": {
             "colorbar": {
              "outlinewidth": 0,
              "ticks": ""
             }
            },
            "type": "scatter3d"
           }
          ],
          "scattercarpet": [
           {
            "marker": {
             "colorbar": {
              "outlinewidth": 0,
              "ticks": ""
             }
            },
            "type": "scattercarpet"
           }
          ],
          "scattergeo": [
           {
            "marker": {
             "colorbar": {
              "outlinewidth": 0,
              "ticks": ""
             }
            },
            "type": "scattergeo"
           }
          ],
          "scattergl": [
           {
            "marker": {
             "colorbar": {
              "outlinewidth": 0,
              "ticks": ""
             }
            },
            "type": "scattergl"
           }
          ],
          "scattermapbox": [
           {
            "marker": {
             "colorbar": {
              "outlinewidth": 0,
              "ticks": ""
             }
            },
            "type": "scattermapbox"
           }
          ],
          "scatterpolar": [
           {
            "marker": {
             "colorbar": {
              "outlinewidth": 0,
              "ticks": ""
             }
            },
            "type": "scatterpolar"
           }
          ],
          "scatterpolargl": [
           {
            "marker": {
             "colorbar": {
              "outlinewidth": 0,
              "ticks": ""
             }
            },
            "type": "scatterpolargl"
           }
          ],
          "scatterternary": [
           {
            "marker": {
             "colorbar": {
              "outlinewidth": 0,
              "ticks": ""
             }
            },
            "type": "scatterternary"
           }
          ],
          "surface": [
           {
            "colorbar": {
             "outlinewidth": 0,
             "ticks": ""
            },
            "colorscale": [
             [
              0,
              "#0d0887"
             ],
             [
              0.1111111111111111,
              "#46039f"
             ],
             [
              0.2222222222222222,
              "#7201a8"
             ],
             [
              0.3333333333333333,
              "#9c179e"
             ],
             [
              0.4444444444444444,
              "#bd3786"
             ],
             [
              0.5555555555555556,
              "#d8576b"
             ],
             [
              0.6666666666666666,
              "#ed7953"
             ],
             [
              0.7777777777777778,
              "#fb9f3a"
             ],
             [
              0.8888888888888888,
              "#fdca26"
             ],
             [
              1,
              "#f0f921"
             ]
            ],
            "type": "surface"
           }
          ],
          "table": [
           {
            "cells": {
             "fill": {
              "color": "#EBF0F8"
             },
             "line": {
              "color": "white"
             }
            },
            "header": {
             "fill": {
              "color": "#C8D4E3"
             },
             "line": {
              "color": "white"
             }
            },
            "type": "table"
           }
          ]
         },
         "layout": {
          "annotationdefaults": {
           "arrowcolor": "#2a3f5f",
           "arrowhead": 0,
           "arrowwidth": 1
          },
          "autotypenumbers": "strict",
          "coloraxis": {
           "colorbar": {
            "outlinewidth": 0,
            "ticks": ""
           }
          },
          "colorscale": {
           "diverging": [
            [
             0,
             "#8e0152"
            ],
            [
             0.1,
             "#c51b7d"
            ],
            [
             0.2,
             "#de77ae"
            ],
            [
             0.3,
             "#f1b6da"
            ],
            [
             0.4,
             "#fde0ef"
            ],
            [
             0.5,
             "#f7f7f7"
            ],
            [
             0.6,
             "#e6f5d0"
            ],
            [
             0.7,
             "#b8e186"
            ],
            [
             0.8,
             "#7fbc41"
            ],
            [
             0.9,
             "#4d9221"
            ],
            [
             1,
             "#276419"
            ]
           ],
           "sequential": [
            [
             0,
             "#0d0887"
            ],
            [
             0.1111111111111111,
             "#46039f"
            ],
            [
             0.2222222222222222,
             "#7201a8"
            ],
            [
             0.3333333333333333,
             "#9c179e"
            ],
            [
             0.4444444444444444,
             "#bd3786"
            ],
            [
             0.5555555555555556,
             "#d8576b"
            ],
            [
             0.6666666666666666,
             "#ed7953"
            ],
            [
             0.7777777777777778,
             "#fb9f3a"
            ],
            [
             0.8888888888888888,
             "#fdca26"
            ],
            [
             1,
             "#f0f921"
            ]
           ],
           "sequentialminus": [
            [
             0,
             "#0d0887"
            ],
            [
             0.1111111111111111,
             "#46039f"
            ],
            [
             0.2222222222222222,
             "#7201a8"
            ],
            [
             0.3333333333333333,
             "#9c179e"
            ],
            [
             0.4444444444444444,
             "#bd3786"
            ],
            [
             0.5555555555555556,
             "#d8576b"
            ],
            [
             0.6666666666666666,
             "#ed7953"
            ],
            [
             0.7777777777777778,
             "#fb9f3a"
            ],
            [
             0.8888888888888888,
             "#fdca26"
            ],
            [
             1,
             "#f0f921"
            ]
           ]
          },
          "colorway": [
           "#636efa",
           "#EF553B",
           "#00cc96",
           "#ab63fa",
           "#FFA15A",
           "#19d3f3",
           "#FF6692",
           "#B6E880",
           "#FF97FF",
           "#FECB52"
          ],
          "font": {
           "color": "#2a3f5f"
          },
          "geo": {
           "bgcolor": "white",
           "lakecolor": "white",
           "landcolor": "#E5ECF6",
           "showlakes": true,
           "showland": true,
           "subunitcolor": "white"
          },
          "hoverlabel": {
           "align": "left"
          },
          "hovermode": "closest",
          "mapbox": {
           "style": "light"
          },
          "paper_bgcolor": "white",
          "plot_bgcolor": "#E5ECF6",
          "polar": {
           "angularaxis": {
            "gridcolor": "white",
            "linecolor": "white",
            "ticks": ""
           },
           "bgcolor": "#E5ECF6",
           "radialaxis": {
            "gridcolor": "white",
            "linecolor": "white",
            "ticks": ""
           }
          },
          "scene": {
           "xaxis": {
            "backgroundcolor": "#E5ECF6",
            "gridcolor": "white",
            "gridwidth": 2,
            "linecolor": "white",
            "showbackground": true,
            "ticks": "",
            "zerolinecolor": "white"
           },
           "yaxis": {
            "backgroundcolor": "#E5ECF6",
            "gridcolor": "white",
            "gridwidth": 2,
            "linecolor": "white",
            "showbackground": true,
            "ticks": "",
            "zerolinecolor": "white"
           },
           "zaxis": {
            "backgroundcolor": "#E5ECF6",
            "gridcolor": "white",
            "gridwidth": 2,
            "linecolor": "white",
            "showbackground": true,
            "ticks": "",
            "zerolinecolor": "white"
           }
          },
          "shapedefaults": {
           "line": {
            "color": "#2a3f5f"
           }
          },
          "ternary": {
           "aaxis": {
            "gridcolor": "white",
            "linecolor": "white",
            "ticks": ""
           },
           "baxis": {
            "gridcolor": "white",
            "linecolor": "white",
            "ticks": ""
           },
           "bgcolor": "#E5ECF6",
           "caxis": {
            "gridcolor": "white",
            "linecolor": "white",
            "ticks": ""
           }
          },
          "title": {
           "x": 0.05
          },
          "xaxis": {
           "automargin": true,
           "gridcolor": "white",
           "linecolor": "white",
           "ticks": "",
           "title": {
            "standoff": 15
           },
           "zerolinecolor": "white",
           "zerolinewidth": 2
          },
          "yaxis": {
           "automargin": true,
           "gridcolor": "white",
           "linecolor": "white",
           "ticks": "",
           "title": {
            "standoff": 15
           },
           "zerolinecolor": "white",
           "zerolinewidth": 2
          }
         }
        },
        "title": {
         "text": "Energy Use and Production"
        },
        "xaxis": {
         "title": {
          "text": "Year"
         }
        },
        "yaxis": {
         "title": {
          "text": "Amount Consumed or Produced"
         }
        }
       }
      }
     },
     "metadata": {},
     "output_type": "display_data"
    }
   ],
   "source": [
    "# Define y variables for comparison\n",
    "energy_consumption = carbon_df['Energy Consumption (including regenerative heat, solar power, motorways) (kwh)']\n",
    "renewable_energy = carbon_df['Renewable energy (kwh)']\n",
    "\n",
    "# Create figure\n",
    "fig = go.Figure()\n",
    "\n",
    "# Add energy consumption\n",
    "fig.add_trace(go.Line(x = carbon_df['Year'], name = 'Energy Consumption (kwh)', y = energy_consumption))\n",
    "\n",
    "# Add energy production\n",
    "fig.add_trace(go.Line(x = carbon_df['Year'], name = 'Renewable Energy Production (kwh)', y = renewable_energy))\n",
    "\n",
    "# Add figure titles\n",
    "fig.update_layout(\n",
    "    xaxis=dict(title='Year'),\n",
    "    yaxis=dict(title='Amount Consumed or Produced'),\n",
    "    title='Energy Use and Production'\n",
    ")\n",
    "\n",
    "# Show figure\n",
    "fig.show()"
   ]
  },
  {
   "cell_type": "code",
   "execution_count": 21,
   "metadata": {},
   "outputs": [
    {
     "data": {
      "application/vnd.plotly.v1+json": {
       "config": {
        "plotlyServerURL": "https://plot.ly"
       },
       "data": [
        {
         "name": "CO2 Emissions Total",
         "type": "bar",
         "x": [
          "2010",
          "2011",
          "2012",
          "2013",
          "2014",
          "2015",
          "2016",
          "2017",
          "2018",
          "2019",
          "2020",
          "2021"
         ],
         "y": [
          1201300,
          1131300,
          1146500,
          1135200,
          1094500,
          1117800,
          1097600,
          1076200,
          1066900,
          999500,
          843300,
          843300
         ]
        },
        {
         "name": "CO2 Emissions homes",
         "type": "bar",
         "x": [
          "2010",
          "2011",
          "2012",
          "2013",
          "2014",
          "2015",
          "2016",
          "2017",
          "2018",
          "2019",
          "2020",
          "2021"
         ],
         "y": [
          322296,
          307039,
          311324,
          308836,
          304149,
          305603,
          292188,
          281203,
          277797,
          263917,
          249816,
          257416
         ]
        },
        {
         "name": "CO2 Emissions Companies & Institutes",
         "type": "bar",
         "x": [
          "2010",
          "2011",
          "2012",
          "2013",
          "2014",
          "2015",
          "2016",
          "2017",
          "2018",
          "2019",
          "2020",
          "2021"
         ],
         "y": [
          271598,
          417696,
          436683,
          435950,
          400246,
          415772,
          398844,
          384918,
          376319,
          324526,
          271598,
          289456
         ]
        }
       ],
       "layout": {
        "template": {
         "data": {
          "bar": [
           {
            "error_x": {
             "color": "#2a3f5f"
            },
            "error_y": {
             "color": "#2a3f5f"
            },
            "marker": {
             "line": {
              "color": "#E5ECF6",
              "width": 0.5
             },
             "pattern": {
              "fillmode": "overlay",
              "size": 10,
              "solidity": 0.2
             }
            },
            "type": "bar"
           }
          ],
          "barpolar": [
           {
            "marker": {
             "line": {
              "color": "#E5ECF6",
              "width": 0.5
             },
             "pattern": {
              "fillmode": "overlay",
              "size": 10,
              "solidity": 0.2
             }
            },
            "type": "barpolar"
           }
          ],
          "carpet": [
           {
            "aaxis": {
             "endlinecolor": "#2a3f5f",
             "gridcolor": "white",
             "linecolor": "white",
             "minorgridcolor": "white",
             "startlinecolor": "#2a3f5f"
            },
            "baxis": {
             "endlinecolor": "#2a3f5f",
             "gridcolor": "white",
             "linecolor": "white",
             "minorgridcolor": "white",
             "startlinecolor": "#2a3f5f"
            },
            "type": "carpet"
           }
          ],
          "choropleth": [
           {
            "colorbar": {
             "outlinewidth": 0,
             "ticks": ""
            },
            "type": "choropleth"
           }
          ],
          "contour": [
           {
            "colorbar": {
             "outlinewidth": 0,
             "ticks": ""
            },
            "colorscale": [
             [
              0,
              "#0d0887"
             ],
             [
              0.1111111111111111,
              "#46039f"
             ],
             [
              0.2222222222222222,
              "#7201a8"
             ],
             [
              0.3333333333333333,
              "#9c179e"
             ],
             [
              0.4444444444444444,
              "#bd3786"
             ],
             [
              0.5555555555555556,
              "#d8576b"
             ],
             [
              0.6666666666666666,
              "#ed7953"
             ],
             [
              0.7777777777777778,
              "#fb9f3a"
             ],
             [
              0.8888888888888888,
              "#fdca26"
             ],
             [
              1,
              "#f0f921"
             ]
            ],
            "type": "contour"
           }
          ],
          "contourcarpet": [
           {
            "colorbar": {
             "outlinewidth": 0,
             "ticks": ""
            },
            "type": "contourcarpet"
           }
          ],
          "heatmap": [
           {
            "colorbar": {
             "outlinewidth": 0,
             "ticks": ""
            },
            "colorscale": [
             [
              0,
              "#0d0887"
             ],
             [
              0.1111111111111111,
              "#46039f"
             ],
             [
              0.2222222222222222,
              "#7201a8"
             ],
             [
              0.3333333333333333,
              "#9c179e"
             ],
             [
              0.4444444444444444,
              "#bd3786"
             ],
             [
              0.5555555555555556,
              "#d8576b"
             ],
             [
              0.6666666666666666,
              "#ed7953"
             ],
             [
              0.7777777777777778,
              "#fb9f3a"
             ],
             [
              0.8888888888888888,
              "#fdca26"
             ],
             [
              1,
              "#f0f921"
             ]
            ],
            "type": "heatmap"
           }
          ],
          "heatmapgl": [
           {
            "colorbar": {
             "outlinewidth": 0,
             "ticks": ""
            },
            "colorscale": [
             [
              0,
              "#0d0887"
             ],
             [
              0.1111111111111111,
              "#46039f"
             ],
             [
              0.2222222222222222,
              "#7201a8"
             ],
             [
              0.3333333333333333,
              "#9c179e"
             ],
             [
              0.4444444444444444,
              "#bd3786"
             ],
             [
              0.5555555555555556,
              "#d8576b"
             ],
             [
              0.6666666666666666,
              "#ed7953"
             ],
             [
              0.7777777777777778,
              "#fb9f3a"
             ],
             [
              0.8888888888888888,
              "#fdca26"
             ],
             [
              1,
              "#f0f921"
             ]
            ],
            "type": "heatmapgl"
           }
          ],
          "histogram": [
           {
            "marker": {
             "pattern": {
              "fillmode": "overlay",
              "size": 10,
              "solidity": 0.2
             }
            },
            "type": "histogram"
           }
          ],
          "histogram2d": [
           {
            "colorbar": {
             "outlinewidth": 0,
             "ticks": ""
            },
            "colorscale": [
             [
              0,
              "#0d0887"
             ],
             [
              0.1111111111111111,
              "#46039f"
             ],
             [
              0.2222222222222222,
              "#7201a8"
             ],
             [
              0.3333333333333333,
              "#9c179e"
             ],
             [
              0.4444444444444444,
              "#bd3786"
             ],
             [
              0.5555555555555556,
              "#d8576b"
             ],
             [
              0.6666666666666666,
              "#ed7953"
             ],
             [
              0.7777777777777778,
              "#fb9f3a"
             ],
             [
              0.8888888888888888,
              "#fdca26"
             ],
             [
              1,
              "#f0f921"
             ]
            ],
            "type": "histogram2d"
           }
          ],
          "histogram2dcontour": [
           {
            "colorbar": {
             "outlinewidth": 0,
             "ticks": ""
            },
            "colorscale": [
             [
              0,
              "#0d0887"
             ],
             [
              0.1111111111111111,
              "#46039f"
             ],
             [
              0.2222222222222222,
              "#7201a8"
             ],
             [
              0.3333333333333333,
              "#9c179e"
             ],
             [
              0.4444444444444444,
              "#bd3786"
             ],
             [
              0.5555555555555556,
              "#d8576b"
             ],
             [
              0.6666666666666666,
              "#ed7953"
             ],
             [
              0.7777777777777778,
              "#fb9f3a"
             ],
             [
              0.8888888888888888,
              "#fdca26"
             ],
             [
              1,
              "#f0f921"
             ]
            ],
            "type": "histogram2dcontour"
           }
          ],
          "mesh3d": [
           {
            "colorbar": {
             "outlinewidth": 0,
             "ticks": ""
            },
            "type": "mesh3d"
           }
          ],
          "parcoords": [
           {
            "line": {
             "colorbar": {
              "outlinewidth": 0,
              "ticks": ""
             }
            },
            "type": "parcoords"
           }
          ],
          "pie": [
           {
            "automargin": true,
            "type": "pie"
           }
          ],
          "scatter": [
           {
            "fillpattern": {
             "fillmode": "overlay",
             "size": 10,
             "solidity": 0.2
            },
            "type": "scatter"
           }
          ],
          "scatter3d": [
           {
            "line": {
             "colorbar": {
              "outlinewidth": 0,
              "ticks": ""
             }
            },
            "marker": {
             "colorbar": {
              "outlinewidth": 0,
              "ticks": ""
             }
            },
            "type": "scatter3d"
           }
          ],
          "scattercarpet": [
           {
            "marker": {
             "colorbar": {
              "outlinewidth": 0,
              "ticks": ""
             }
            },
            "type": "scattercarpet"
           }
          ],
          "scattergeo": [
           {
            "marker": {
             "colorbar": {
              "outlinewidth": 0,
              "ticks": ""
             }
            },
            "type": "scattergeo"
           }
          ],
          "scattergl": [
           {
            "marker": {
             "colorbar": {
              "outlinewidth": 0,
              "ticks": ""
             }
            },
            "type": "scattergl"
           }
          ],
          "scattermapbox": [
           {
            "marker": {
             "colorbar": {
              "outlinewidth": 0,
              "ticks": ""
             }
            },
            "type": "scattermapbox"
           }
          ],
          "scatterpolar": [
           {
            "marker": {
             "colorbar": {
              "outlinewidth": 0,
              "ticks": ""
             }
            },
            "type": "scatterpolar"
           }
          ],
          "scatterpolargl": [
           {
            "marker": {
             "colorbar": {
              "outlinewidth": 0,
              "ticks": ""
             }
            },
            "type": "scatterpolargl"
           }
          ],
          "scatterternary": [
           {
            "marker": {
             "colorbar": {
              "outlinewidth": 0,
              "ticks": ""
             }
            },
            "type": "scatterternary"
           }
          ],
          "surface": [
           {
            "colorbar": {
             "outlinewidth": 0,
             "ticks": ""
            },
            "colorscale": [
             [
              0,
              "#0d0887"
             ],
             [
              0.1111111111111111,
              "#46039f"
             ],
             [
              0.2222222222222222,
              "#7201a8"
             ],
             [
              0.3333333333333333,
              "#9c179e"
             ],
             [
              0.4444444444444444,
              "#bd3786"
             ],
             [
              0.5555555555555556,
              "#d8576b"
             ],
             [
              0.6666666666666666,
              "#ed7953"
             ],
             [
              0.7777777777777778,
              "#fb9f3a"
             ],
             [
              0.8888888888888888,
              "#fdca26"
             ],
             [
              1,
              "#f0f921"
             ]
            ],
            "type": "surface"
           }
          ],
          "table": [
           {
            "cells": {
             "fill": {
              "color": "#EBF0F8"
             },
             "line": {
              "color": "white"
             }
            },
            "header": {
             "fill": {
              "color": "#C8D4E3"
             },
             "line": {
              "color": "white"
             }
            },
            "type": "table"
           }
          ]
         },
         "layout": {
          "annotationdefaults": {
           "arrowcolor": "#2a3f5f",
           "arrowhead": 0,
           "arrowwidth": 1
          },
          "autotypenumbers": "strict",
          "coloraxis": {
           "colorbar": {
            "outlinewidth": 0,
            "ticks": ""
           }
          },
          "colorscale": {
           "diverging": [
            [
             0,
             "#8e0152"
            ],
            [
             0.1,
             "#c51b7d"
            ],
            [
             0.2,
             "#de77ae"
            ],
            [
             0.3,
             "#f1b6da"
            ],
            [
             0.4,
             "#fde0ef"
            ],
            [
             0.5,
             "#f7f7f7"
            ],
            [
             0.6,
             "#e6f5d0"
            ],
            [
             0.7,
             "#b8e186"
            ],
            [
             0.8,
             "#7fbc41"
            ],
            [
             0.9,
             "#4d9221"
            ],
            [
             1,
             "#276419"
            ]
           ],
           "sequential": [
            [
             0,
             "#0d0887"
            ],
            [
             0.1111111111111111,
             "#46039f"
            ],
            [
             0.2222222222222222,
             "#7201a8"
            ],
            [
             0.3333333333333333,
             "#9c179e"
            ],
            [
             0.4444444444444444,
             "#bd3786"
            ],
            [
             0.5555555555555556,
             "#d8576b"
            ],
            [
             0.6666666666666666,
             "#ed7953"
            ],
            [
             0.7777777777777778,
             "#fb9f3a"
            ],
            [
             0.8888888888888888,
             "#fdca26"
            ],
            [
             1,
             "#f0f921"
            ]
           ],
           "sequentialminus": [
            [
             0,
             "#0d0887"
            ],
            [
             0.1111111111111111,
             "#46039f"
            ],
            [
             0.2222222222222222,
             "#7201a8"
            ],
            [
             0.3333333333333333,
             "#9c179e"
            ],
            [
             0.4444444444444444,
             "#bd3786"
            ],
            [
             0.5555555555555556,
             "#d8576b"
            ],
            [
             0.6666666666666666,
             "#ed7953"
            ],
            [
             0.7777777777777778,
             "#fb9f3a"
            ],
            [
             0.8888888888888888,
             "#fdca26"
            ],
            [
             1,
             "#f0f921"
            ]
           ]
          },
          "colorway": [
           "#636efa",
           "#EF553B",
           "#00cc96",
           "#ab63fa",
           "#FFA15A",
           "#19d3f3",
           "#FF6692",
           "#B6E880",
           "#FF97FF",
           "#FECB52"
          ],
          "font": {
           "color": "#2a3f5f"
          },
          "geo": {
           "bgcolor": "white",
           "lakecolor": "white",
           "landcolor": "#E5ECF6",
           "showlakes": true,
           "showland": true,
           "subunitcolor": "white"
          },
          "hoverlabel": {
           "align": "left"
          },
          "hovermode": "closest",
          "mapbox": {
           "style": "light"
          },
          "paper_bgcolor": "white",
          "plot_bgcolor": "#E5ECF6",
          "polar": {
           "angularaxis": {
            "gridcolor": "white",
            "linecolor": "white",
            "ticks": ""
           },
           "bgcolor": "#E5ECF6",
           "radialaxis": {
            "gridcolor": "white",
            "linecolor": "white",
            "ticks": ""
           }
          },
          "scene": {
           "xaxis": {
            "backgroundcolor": "#E5ECF6",
            "gridcolor": "white",
            "gridwidth": 2,
            "linecolor": "white",
            "showbackground": true,
            "ticks": "",
            "zerolinecolor": "white"
           },
           "yaxis": {
            "backgroundcolor": "#E5ECF6",
            "gridcolor": "white",
            "gridwidth": 2,
            "linecolor": "white",
            "showbackground": true,
            "ticks": "",
            "zerolinecolor": "white"
           },
           "zaxis": {
            "backgroundcolor": "#E5ECF6",
            "gridcolor": "white",
            "gridwidth": 2,
            "linecolor": "white",
            "showbackground": true,
            "ticks": "",
            "zerolinecolor": "white"
           }
          },
          "shapedefaults": {
           "line": {
            "color": "#2a3f5f"
           }
          },
          "ternary": {
           "aaxis": {
            "gridcolor": "white",
            "linecolor": "white",
            "ticks": ""
           },
           "baxis": {
            "gridcolor": "white",
            "linecolor": "white",
            "ticks": ""
           },
           "bgcolor": "#E5ECF6",
           "caxis": {
            "gridcolor": "white",
            "linecolor": "white",
            "ticks": ""
           }
          },
          "title": {
           "x": 0.05
          },
          "xaxis": {
           "automargin": true,
           "gridcolor": "white",
           "linecolor": "white",
           "ticks": "",
           "title": {
            "standoff": 15
           },
           "zerolinecolor": "white",
           "zerolinewidth": 2
          },
          "yaxis": {
           "automargin": true,
           "gridcolor": "white",
           "linecolor": "white",
           "ticks": "",
           "title": {
            "standoff": 15
           },
           "zerolinecolor": "white",
           "zerolinewidth": 2
          }
         }
        },
        "title": {
         "text": "CO2 Emissions"
        },
        "xaxis": {
         "title": {
          "text": "Year"
         }
        },
        "yaxis": {
         "title": {
          "text": "Amount Produced"
         }
        }
       }
      }
     },
     "metadata": {},
     "output_type": "display_data"
    }
   ],
   "source": [
    "# Define variables to be compared\n",
    "co2_total = carbon_df[\"CO2 emissions total (tonnes)\"]\n",
    "co2_homes = carbon_df['CO2 emissions from homes, temperature corrected (tonnes)']\n",
    "co2_companies= carbon_df['CO2 emissions companies and institutions (tonnes)']\n",
    "\n",
    "# Create figure\n",
    "fig = go.Figure()\n",
    "\n",
    "# Add CO2 emissions\n",
    "fig.add_trace(go.Bar(x=carbon_df['Year'], y = co2_total, name='CO2 Emissions Total'))\n",
    "\n",
    "# Add CO2 emissions in different areas of interest\n",
    "fig.add_trace(go.Bar(x=carbon_df['Year'], y = co2_homes, name ='CO2 Emissions homes'))\n",
    "fig.add_trace(go.Bar(x=carbon_df['Year'], y = co2_companies, name='CO2 Emissions Companies & Institutes'))\n",
    "\n",
    "# Add figure titles\n",
    "fig.update_layout(\n",
    "    xaxis=dict(title='Year'),\n",
    "    yaxis=dict(title='Amount Emitted'),\n",
    "    title='CO2 Emissions'\n",
    ")\n",
    "\n",
    "# Show figure\n",
    "fig.show()\n"
   ]
  },
  {
   "cell_type": "code",
   "execution_count": 22,
   "metadata": {},
   "outputs": [],
   "source": [
    "emissions_and_renewables = carbon_df.to_csv('consumption_emission_renewables.csv.zip', index=False)\n"
   ]
  }
 ],
 "metadata": {
  "kernelspec": {
   "display_name": "verbeterenv",
   "language": "python",
   "name": "python3"
  },
  "language_info": {
   "codemirror_mode": {
    "name": "ipython",
    "version": 3
   },
   "file_extension": ".py",
   "mimetype": "text/x-python",
   "name": "python",
   "nbconvert_exporter": "python",
   "pygments_lexer": "ipython3",
   "version": "3.11.3"
  },
  "orig_nbformat": 4
 },
 "nbformat": 4,
 "nbformat_minor": 2
}
