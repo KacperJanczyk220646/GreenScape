{
 "cells": [
  {
   "cell_type": "code",
   "execution_count": 1,
   "metadata": {},
   "outputs": [],
   "source": [
    "import numpy as np\n",
    "from sklearn.ensemble import RandomForestRegressor\n",
    "from sklearn.model_selection import train_test_split\n",
    "from sklearn.metrics import mean_squared_error\n",
    "import pandas as pd\n",
    "import zipfile"
   ]
  },
  {
   "cell_type": "code",
   "execution_count": 2,
   "metadata": {},
   "outputs": [
    {
     "name": "stderr",
     "output_type": "stream",
     "text": [
      "C:\\Users\\tatar\\AppData\\Local\\Temp\\ipykernel_28088\\1362002935.py:1: DtypeWarning: Columns (22,26) have mixed types. Specify dtype option on import or set low_memory=False.\n",
      "  data = pd.read_csv('MLdata/Output.csv/Output.csv')\n"
     ]
    }
   ],
   "source": [
    "data = pd.read_csv('MLdata/Output.csv/Output.csv')"
   ]
  },
  {
   "cell_type": "code",
   "execution_count": 3,
   "metadata": {},
   "outputs": [
    {
     "data": {
      "text/plain": [
       "Index(['Unnamed: 0.1', 'Districts and neighbourhoods',\n",
       "       'Registered nuisance (number)', 'year_x', 'latitude', 'longitude',\n",
       "       'cbs_grid_code', 'date', 'green_score', 'livability_score_x',\n",
       "       'neighborhood_name', 'TotalHouses', 'Population', 'Unnamed: 0', 'index',\n",
       "       'neighborhood', 'regions', 'year_y', 'livability_score_y', 'income',\n",
       "       'population', 'working_population', 'total_job_growth', 'Neighborhood',\n",
       "       'Income Index', 'Average Green Score', 'Average Income', 'Year',\n",
       "       'Electricity Consumption: total (kwh)', 'Natural Gas Consumption (m3)',\n",
       "       'Energy Consumption (including regenerative heat, solar power, motorways) (TJ)',\n",
       "       'Electricity consumption of all homes (kwh)',\n",
       "       'Gas consumption all homes (m3)',\n",
       "       'Electricity consumption companies and institutions (kwh)',\n",
       "       'Gas consumption by companies and institutions (m3)',\n",
       "       'Power of registered solar panels homes (kw peak)',\n",
       "       'Power of registered solar panels companies (kw peak)',\n",
       "       'Number of installations with registered solar panels in homes (number)',\n",
       "       'Number of installations with registered solar panel companies (number)',\n",
       "       'Renewable energy (%)', 'Renewable electricity (%)',\n",
       "       'CO2 emissions Traffic and transport incl. motorways and roads, excl. electr. rail traffic (tonnes)',\n",
       "       'CO2 emissions companies and institutions (tonnes)',\n",
       "       'CO2 emissions from homes, temperature corrected (tonnes)',\n",
       "       'CO2 emissions total (tonnes)',\n",
       "       'Energy Consumption (including regenerative heat, solar power, motorways) (kwh)',\n",
       "       'Renewable electricity (kwh)', 'Renewable energy (kwh)'],\n",
       "      dtype='object')"
      ]
     },
     "execution_count": 3,
     "metadata": {},
     "output_type": "execute_result"
    }
   ],
   "source": [
    "data.columns"
   ]
  },
  {
   "cell_type": "code",
   "execution_count": 4,
   "metadata": {},
   "outputs": [],
   "source": [
    "X = data[['CO2 emissions total (tonnes)',\n",
    "            'Electricity Consumption: total (kwh)',\n",
    "            'Natural Gas Consumption (m3)',\n",
    "            'Energy Consumption (including regenerative heat, solar power, motorways) (kwh)',\n",
    "            'Renewable energy (kwh)',\n",
    "            'Renewable electricity (kwh)',\n",
    "            'Number of installations with registered solar panels in homes (number)',\n",
    "            'Number of installations with registered solar panel companies (number)',\n",
    "]]\n",
    "\n",
    "y = data['green_score']"
   ]
  },
  {
   "cell_type": "code",
   "execution_count": 5,
   "metadata": {},
   "outputs": [],
   "source": [
    "homes = data[['CO2 emissions from homes, temperature corrected (tonnes)',\n",
    "                 'Electricity consumption of all homes (kwh)',\n",
    "                 'Gas consumption all homes (m3)',\n",
    "                 'Number of installations with registered solar panels in homes (number)',\n",
    "                 'Renewable electricity (kwh)',\n",
    "                 'Renewable energy (kwh)',\n",
    "\n",
    "]]\n",
    "\n",
    "companies = data[['CO2 emissions companies and institutions (tonnes)',\n",
    "                     'Electricity consumption companies and institutions (kwh)',\n",
    "                     'Gas consumption by companies and institutions (m3)',\n",
    "                     'Number of installations with registered solar panel companies (number)',\n",
    "                     'Renewable electricity (kwh)',\n",
    "                     'Renewable energy (kwh)'\n",
    "]]"
   ]
  },
  {
   "cell_type": "code",
   "execution_count": 6,
   "metadata": {},
   "outputs": [
    {
     "data": {
      "text/plain": [
       "(5169348, 8)"
      ]
     },
     "execution_count": 6,
     "metadata": {},
     "output_type": "execute_result"
    }
   ],
   "source": [
    "X.shape"
   ]
  },
  {
   "cell_type": "code",
   "execution_count": 8,
   "metadata": {},
   "outputs": [
    {
     "name": "stdout",
     "output_type": "stream",
     "text": [
      "Totals MSE 108.51062867194038\n",
      "Homes MSE 108.27553110263165\n",
      "Company MSE 108.37524847731328\n"
     ]
    }
   ],
   "source": [
    "X_train, X_test, y_train, y_test = train_test_split(X, y)\n",
    "X_train_homes, X_test_homes, y_train_homes, y_test_homes = train_test_split(homes, y)\n",
    "X_train_comps, X_test_comps, y_train_comps, y_test_comps = train_test_split(companies, y)\n",
    "\n",
    "# Train Model on Totals\n",
    "forest_totals = RandomForestRegressor()\n",
    "forest_totals.fit(X_train, y_train)\n",
    "\n",
    "# Evaluate Totals\n",
    "predictions_totals = forest_totals.predict(X_test)\n",
    "mse_totals = mean_squared_error(predictions_totals, y_test)\n",
    "print('Totals MSE', mse_totals)\n",
    "\n",
    "# Train Model on Homes\n",
    "forest_homes = RandomForestRegressor()\n",
    "forest_homes.fit(X_train_homes, y_train_homes)\n",
    "\n",
    "# Evaluate Homes\n",
    "predictions_homes = forest_homes.predict(X_test_homes)\n",
    "mse_homes = mean_squared_error(predictions_homes, y_test_homes)\n",
    "print('Homes MSE', mse_homes)\n",
    "\n",
    "# Train Model on Companies\n",
    "forest_comps = RandomForestRegressor()\n",
    "forest_comps.fit(X_train_comps, y_train_comps)\n",
    "\n",
    "# Evaluate Companies\n",
    "predictions_comps = forest_comps.predict(X_test_comps)\n",
    "mse_comps = mean_squared_error(predictions_comps, y_test_comps)\n",
    "print('Company MSE', mse_comps)"
   ]
  }
 ],
 "metadata": {
  "kernelspec": {
   "display_name": "verbeterenv",
   "language": "python",
   "name": "python3"
  },
  "language_info": {
   "codemirror_mode": {
    "name": "ipython",
    "version": 3
   },
   "file_extension": ".py",
   "mimetype": "text/x-python",
   "name": "python",
   "nbconvert_exporter": "python",
   "pygments_lexer": "ipython3",
   "version": "3.11.3"
  },
  "orig_nbformat": 4
 },
 "nbformat": 4,
 "nbformat_minor": 2
}
