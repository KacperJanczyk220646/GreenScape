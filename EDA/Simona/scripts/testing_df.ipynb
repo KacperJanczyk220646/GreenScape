{
 "cells": [
  {
   "cell_type": "code",
   "execution_count": 2,
   "metadata": {},
   "outputs": [],
   "source": [
    "import plotly.graph_objs as go\n",
    "import streamlit as st\n",
    "import plotly.express as px\n",
    "import pandas as pd\n",
    "import plotly.graph_objects as go\n",
    "from plotly.subplots import make_subplots"
   ]
  },
  {
   "cell_type": "code",
   "execution_count": 4,
   "metadata": {},
   "outputs": [],
   "source": [
    "df_read = pd.read_csv('Preprocessed_Dataset.csv', index_col=0)"
   ]
  },
  {
   "cell_type": "code",
   "execution_count": 5,
   "metadata": {},
   "outputs": [],
   "source": [
    "def preprocess(df):\n",
    "    df['Year'] = df['Year'].astype(str)\n",
    "    df['date'] = pd.to_datetime(df['date'])\n",
    "    df['months'] = df['date'].dt.month_name(locale='English')\n",
    "    df = df.sort_values(by='date', ascending=True)\n",
    "    df = df.groupby(by=['date', 'Year', 'months',\n",
    "                    'Neighborhood', 'regions']).mean()\n",
    "    df.reset_index(inplace=True)\n",
    "    return df"
   ]
  },
  {
   "cell_type": "code",
   "execution_count": 6,
   "metadata": {},
   "outputs": [],
   "source": [
    "df_preprocessed = preprocess(df_read)"
   ]
  },
  {
   "cell_type": "code",
   "execution_count": 7,
   "metadata": {},
   "outputs": [
    {
     "name": "stdout",
     "output_type": "stream",
     "text": [
      "<class 'pandas.core.frame.DataFrame'>\n",
      "RangeIndex: 216 entries, 0 to 215\n",
      "Data columns (total 26 columns):\n",
      " #   Column                                                                         Non-Null Count  Dtype         \n",
      "---  ------                                                                         --------------  -----         \n",
      " 0   date                                                                           216 non-null    datetime64[ns]\n",
      " 1   Year                                                                           216 non-null    object        \n",
      " 2   months                                                                         216 non-null    object        \n",
      " 3   Neighborhood                                                                   216 non-null    object        \n",
      " 4   regions                                                                        216 non-null    object        \n",
      " 5   green_score                                                                    216 non-null    float64       \n",
      " 6   livability_score_x                                                             216 non-null    float64       \n",
      " 7   TotalHouses                                                                    216 non-null    float64       \n",
      " 8   Population                                                                     216 non-null    float64       \n",
      " 9   working_population                                                             216 non-null    float64       \n",
      " 10  Income Index                                                                   216 non-null    float64       \n",
      " 11  income                                                                         216 non-null    float64       \n",
      " 12  Registered nuisance (number)                                                   216 non-null    float64       \n",
      " 13  Natural Gas Consumption (m3)                                                   216 non-null    float64       \n",
      " 14  Energy Consumption (including regenerative heat, solar power, motorways) (TJ)  216 non-null    float64       \n",
      " 15  Electricity Consumption: total (kwh)                                           216 non-null    float64       \n",
      " 16  Electricity consumption of all homes (kwh)                                     216 non-null    float64       \n",
      " 17  Gas consumption all homes (m3)                                                 216 non-null    float64       \n",
      " 18  Power of registered solar panels homes (kw peak)                               216 non-null    float64       \n",
      " 19  Number of installations with registered solar panels in homes (number)         216 non-null    float64       \n",
      " 20  Renewable energy (kwh)                                                         216 non-null    float64       \n",
      " 21  Renewable energy (%)                                                           216 non-null    float64       \n",
      " 22  CO2 emissions from homes, temperature corrected (tonnes)                       216 non-null    float64       \n",
      " 23  CO2 emissions total (tonnes)                                                   216 non-null    float64       \n",
      " 24  Renewable electricity (kwh)                                                    216 non-null    float64       \n",
      " 25  Renewable electricity (%)                                                      216 non-null    float64       \n",
      "dtypes: datetime64[ns](1), float64(21), object(4)\n",
      "memory usage: 44.0+ KB\n"
     ]
    }
   ],
   "source": [
    "df_preprocessed.info()"
   ]
  },
  {
   "cell_type": "code",
   "execution_count": 8,
   "metadata": {},
   "outputs": [
    {
     "name": "stderr",
     "output_type": "stream",
     "text": [
      "C:\\Users\\dsimo\\AppData\\Local\\Temp\\ipykernel_2508\\1468622687.py:1: FutureWarning: Indexing with multiple keys (implicitly converted to a tuple of keys) will be deprecated, use a list instead.\n",
      "  df_groupby_months = df_preprocessed.groupby(by='months')[\n",
      "C:\\Users\\dsimo\\AppData\\Local\\Temp\\ipykernel_2508\\1468622687.py:4: FutureWarning: Indexing with multiple keys (implicitly converted to a tuple of keys) will be deprecated, use a list instead.\n",
      "  df_groupby_regions = df_preprocessed.groupby(by='regions')[\n",
      "C:\\Users\\dsimo\\AppData\\Local\\Temp\\ipykernel_2508\\1468622687.py:6: FutureWarning: Indexing with multiple keys (implicitly converted to a tuple of keys) will be deprecated, use a list instead.\n",
      "  df_groupby_neighborhoods = df_preprocessed.groupby(by='Neighborhood')[\n"
     ]
    }
   ],
   "source": [
    "df_groupby_months = df_preprocessed.groupby(by='months')[\n",
    "    'green_score', 'livability_score_x', 'TotalHouses', 'Population', 'income', 'Registered nuisance (number)'].mean()\n",
    "df_groupby_years = df_preprocessed.groupby(by=['Year'], as_index=False).mean()\n",
    "df_groupby_regions = df_preprocessed.groupby(by='regions')[\n",
    "    'green_score', 'livability_score_x', 'TotalHouses', 'Population', 'income', 'Registered nuisance (number)'].mean()\n",
    "df_groupby_neighborhoods = df_preprocessed.groupby(by='Neighborhood')[\n",
    "    'green_score', 'livability_score_x', 'TotalHouses', 'Population', 'income', 'Registered nuisance (number)'].mean()"
   ]
  },
  {
   "cell_type": "code",
   "execution_count": 22,
   "metadata": {},
   "outputs": [],
   "source": [
    "df_groupby_years = df_preprocessed.groupby(by = \"Year\").agg(avg_green_score=(\"green_score\", 'mean'),\n",
    "                                                            avg_livability_score_x=('livability_score_x','mean'),\n",
    "                                                            avg_total_houses=('TotalHouses','mean'),\n",
    "                                                            avg_population=('Population','mean'),\n",
    "                                                            avg_income=('income','mean')).reset_index().round(2)\n",
    "df_groupby_months = df_preprocessed.groupby(by = \"months\").agg(avg_green_score=(\"green_score\", 'mean'),\n",
    "                                                            avg_livability_score_x=('livability_score_x','mean'),\n",
    "                                                            avg_total_houses=('TotalHouses','mean'),\n",
    "                                                            avg_population=('Population','mean'),\n",
    "                                                            avg_income=('income','mean')).reset_index().round(2)\n",
    "df_groupby_neighborhoods = df_preprocessed.groupby(by = \"Neighborhood\").agg(avg_green_score=(\"green_score\", 'mean'),\n",
    "                                                            avg_livability_score_x=('livability_score_x','mean'),\n",
    "                                                            avg_total_houses=('TotalHouses','mean'),\n",
    "                                                            avg_population=('Population','mean'),\n",
    "                                                            avg_income=('income','mean')).round(2)\n",
    "df_groupby_regions = df_preprocessed.groupby(by = \"regions\").agg(avg_green_score=(\"green_score\", 'mean'),\n",
    "                                                            avg_livability_score_x=('livability_score_x','mean'),\n",
    "                                                            avg_total_houses=('TotalHouses','mean'),\n",
    "                                                            avg_population=('Population','mean'),\n",
    "                                                            avg_income=('income','mean')).round(2)"
   ]
  },
  {
   "cell_type": "code",
   "execution_count": 24,
   "metadata": {},
   "outputs": [
    {
     "data": {
      "text/plain": [
       "Index(['avg_green_score', 'avg_livability_score_x', 'avg_total_houses',\n",
       "       'avg_population', 'avg_income'],\n",
       "      dtype='object')"
      ]
     },
     "execution_count": 24,
     "metadata": {},
     "output_type": "execute_result"
    }
   ],
   "source": []
  },
  {
   "cell_type": "code",
   "execution_count": null,
   "metadata": {},
   "outputs": [],
   "source": []
  }
 ],
 "metadata": {
  "kernelspec": {
   "display_name": "base",
   "language": "python",
   "name": "python3"
  },
  "language_info": {
   "codemirror_mode": {
    "name": "ipython",
    "version": 3
   },
   "file_extension": ".py",
   "mimetype": "text/x-python",
   "name": "python",
   "nbconvert_exporter": "python",
   "pygments_lexer": "ipython3",
   "version": "3.9.13"
  },
  "orig_nbformat": 4
 },
 "nbformat": 4,
 "nbformat_minor": 2
}
