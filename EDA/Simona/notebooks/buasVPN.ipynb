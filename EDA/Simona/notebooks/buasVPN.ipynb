{
 "cells": [
  {
   "cell_type": "code",
   "execution_count": 5,
   "metadata": {},
   "outputs": [],
   "source": [
    "from sqlalchemy import create_engine\n",
    "\n",
    "user = \"user1\"\n",
    "password = \"1234\"\n",
    "host = \"145.101.164.141\"\n",
    "port = \"5432\"\n",
    "database = \"adsai_1d\"\n",
    "\n",
    "# PostgreSQL connection string\n",
    "connection_string = f\"postgresql://{user}:{password}@{host}:{port}/{database}\"\n",
    "\n",
    "# Create a new SQLAlchemy engine using the connection string\n",
    "engine = create_engine(connection_string)"
   ]
  },
  {
   "cell_type": "code",
   "execution_count": 6,
   "metadata": {},
   "outputs": [
    {
     "name": "stdout",
     "output_type": "stream",
     "text": [
      "Connection successful!\n"
     ]
    }
   ],
   "source": [
    "from sqlalchemy import text\n",
    "\n",
    "# Define a simple query to test the connection\n",
    "test_query = text(\"SELECT 1\")\n",
    "\n",
    "# Execute the query using the SQLAlchemy engine\n",
    "result = engine.execute(test_query)\n",
    "\n",
    "# Check if the result matches the expected output\n",
    "if result.scalar() == 1:\n",
    "    print(\"Connection successful!\")\n",
    "else:\n",
    "    print(\"Connection failed!\")"
   ]
  },
  {
   "cell_type": "code",
   "execution_count": 7,
   "metadata": {},
   "outputs": [
    {
     "name": "stdout",
     "output_type": "stream",
     "text": [
      "Tables:\n",
      "green_index\n",
      "buurtenqute_datum_dim\n",
      "buurtenqute_fact\n",
      "buurtenqute_antwoord_dim\n",
      "buurtenqute_buurt_dim\n",
      "buurtenqute_samengestelde_indicator_dim\n",
      "buurtenqute_vraag_dim\n",
      "livability_index\n",
      "\n",
      "Relationships:\n",
      "Table: green_index\n",
      "Table: buurtenqute_datum_dim\n",
      "Table: buurtenqute_fact\n",
      "  Foreign key: ['AntwoordKey'] -> buurtenqute_antwoord_dim.['AntwoordKey']\n",
      "  Foreign key: ['BuurtKey'] -> buurtenqute_buurt_dim.['BuurtKey']\n",
      "  Foreign key: ['DatumKey'] -> buurtenqute_datum_dim.['DatumKey']\n",
      "  Foreign key: ['SamengesteldeIndicatorKey'] -> buurtenqute_samengestelde_indicator_dim.['SamengesteldeIndicatorKey']\n",
      "  Foreign key: ['VraagKey'] -> buurtenqute_vraag_dim.['VraagKey']\n",
      "Table: buurtenqute_antwoord_dim\n",
      "Table: buurtenqute_buurt_dim\n",
      "Table: buurtenqute_samengestelde_indicator_dim\n",
      "Table: buurtenqute_vraag_dim\n",
      "Table: livability_index\n"
     ]
    }
   ],
   "source": [
    "from sqlalchemy import create_engine, MetaData\n",
    "from sqlalchemy.orm import declarative_base\n",
    "from sqlalchemy.inspection import inspect\n",
    "\n",
    "metadata = MetaData(bind=engine)\n",
    "metadata.reflect()\n",
    "\n",
    "Base = declarative_base(metadata=metadata)\n",
    "\n",
    "# List available tables\n",
    "print(\"Tables:\")\n",
    "for table_name in metadata.tables:\n",
    "    print(table_name)\n",
    "\n",
    "# List relationships\n",
    "print(\"\\nRelationships:\")\n",
    "inspector = inspect(engine)\n",
    "for table_name in metadata.tables:\n",
    "    print(f\"Table: {table_name}\")\n",
    "    for foreign_key in inspector.get_foreign_keys(table_name):\n",
    "        print(f\"  Foreign key: {foreign_key['constrained_columns']} -> {foreign_key['referred_table']}.{foreign_key['referred_columns']}\")"
   ]
  },
  {
   "cell_type": "code",
   "execution_count": null,
   "metadata": {},
   "outputs": [],
   "source": []
  }
 ],
 "metadata": {
  "kernelspec": {
   "display_name": "base",
   "language": "python",
   "name": "python3"
  },
  "language_info": {
   "codemirror_mode": {
    "name": "ipython",
    "version": 3
   },
   "file_extension": ".py",
   "mimetype": "text/x-python",
   "name": "python",
   "nbconvert_exporter": "python",
   "pygments_lexer": "ipython3",
   "version": "3.9.16"
  },
  "orig_nbformat": 4
 },
 "nbformat": 4,
 "nbformat_minor": 2
}
