{
 "cells": [
  {
   "cell_type": "code",
   "execution_count": 1,
   "metadata": {},
   "outputs": [],
   "source": [
    "import pandas as pd\n",
    "import numpy as np"
   ]
  },
  {
   "cell_type": "code",
   "execution_count": 5,
   "metadata": {},
   "outputs": [],
   "source": [
    "df = pd.read_csv('C:/Users/dsimo/Downloads/GreenScape-main/GreenScape/EDA/Simona/scripts/Preprocessed_Dataset.csv',index_col=0)"
   ]
  },
  {
   "cell_type": "code",
   "execution_count": 6,
   "metadata": {},
   "outputs": [
    {
     "name": "stdout",
     "output_type": "stream",
     "text": [
      "<class 'pandas.core.frame.DataFrame'>\n",
      "Int64Index: 178528 entries, 2751492 to 455607\n",
      "Data columns (total 25 columns):\n",
      " #   Column                                                                         Non-Null Count   Dtype  \n",
      "---  ------                                                                         --------------   -----  \n",
      " 0   Year                                                                           178528 non-null  int64  \n",
      " 1   date                                                                           178528 non-null  object \n",
      " 2   regions                                                                        178528 non-null  object \n",
      " 3   Neighborhood                                                                   178528 non-null  object \n",
      " 4   green_score                                                                    178528 non-null  float64\n",
      " 5   livability_score_x                                                             178528 non-null  float64\n",
      " 6   TotalHouses                                                                    178528 non-null  int64  \n",
      " 7   Population                                                                     178528 non-null  int64  \n",
      " 8   working_population                                                             178528 non-null  int64  \n",
      " 9   Income Index                                                                   178528 non-null  float64\n",
      " 10  income                                                                         178528 non-null  int64  \n",
      " 11  Registered nuisance (number)                                                   178528 non-null  int64  \n",
      " 12  Natural Gas Consumption (m3)                                                   178528 non-null  float64\n",
      " 13  Energy Consumption (including regenerative heat, solar power, motorways) (TJ)  178528 non-null  float64\n",
      " 14  Electricity Consumption: total (kwh)                                           178528 non-null  int64  \n",
      " 15  Electricity consumption of all homes (kwh)                                     178528 non-null  float64\n",
      " 16  Gas consumption all homes (m3)                                                 178528 non-null  float64\n",
      " 17  Power of registered solar panels homes (kw peak)                               178528 non-null  float64\n",
      " 18  Number of installations with registered solar panels in homes (number)         178528 non-null  float64\n",
      " 19  Renewable energy (kwh)                                                         178528 non-null  float64\n",
      " 20  Renewable energy (%)                                                           178528 non-null  float64\n",
      " 21  CO2 emissions from homes, temperature corrected (tonnes)                       178528 non-null  float64\n",
      " 22  CO2 emissions total (tonnes)                                                   178528 non-null  float64\n",
      " 23  Renewable electricity (kwh)                                                    178528 non-null  float64\n",
      " 24  Renewable electricity (%)                                                      178528 non-null  float64\n",
      "dtypes: float64(15), int64(7), object(3)\n",
      "memory usage: 35.4+ MB\n"
     ]
    }
   ],
   "source": [
    "df.info()"
   ]
  },
  {
   "cell_type": "code",
   "execution_count": null,
   "metadata": {},
   "outputs": [],
   "source": []
  }
 ],
 "metadata": {
  "kernelspec": {
   "display_name": "base",
   "language": "python",
   "name": "python3"
  },
  "language_info": {
   "codemirror_mode": {
    "name": "ipython",
    "version": 3
   },
   "file_extension": ".py",
   "mimetype": "text/x-python",
   "name": "python",
   "nbconvert_exporter": "python",
   "pygments_lexer": "ipython3",
   "version": "3.9.13"
  },
  "orig_nbformat": 4
 },
 "nbformat": 4,
 "nbformat_minor": 2
}
