{
 "cells": [
  {
   "cell_type": "code",
   "execution_count": 1,
   "metadata": {},
   "outputs": [],
   "source": [
    "import pandas as pd\n",
    "import numpy as np\n",
    "from matplotlib import pyplot as plt\n",
    "from deep_translator import GoogleTranslator\n",
    "import numpy as np\n",
    "from tqdm import tqdm\n",
    "from num2words import num2words\n",
    "batch = False"
   ]
  },
  {
   "cell_type": "code",
   "execution_count": null,
   "metadata": {},
   "outputs": [],
   "source": [
    "responses_db = pd.read_csv('EDA/Simona/data/csv_files/buurtenqute_antwoord_dim.csv', encoding='latin1',skiprows=[1])\n",
    "neighborhoods_db = pd.read_csv('EDA/Simona/data/csv_files/buurtenqute_buurt_dim.csv',encoding='latin1',skiprows=[1])\n",
    "dates_db = pd.read_csv('EDA/Simona/data/csv_files/buurtenqute_datum_dim.csv',encoding='latin1')\n",
    "report_n_responses_db = pd.read_csv('EDA/Simona/data/csv_files/buurtenqute_fact.csv',encoding='latin1')\n",
    "composite_indicator_db = pd.read_csv('EDA/Simona/data/csv_files/buurtenqute_samengestelde_indicator_dim.csv',encoding='latin1',skiprows=[1])\n",
    "questions_db = pd.read_csv('EDA/Simona/data/csv_files/buurtenqute_vraag_dim.csv',encoding='latin1',skiprows=[1])\n",
    "green_index_df = pd.read_csv('EDA/Simona/data/csv_files/green_index.csv',encoding='latin1')\n",
    "livability_index_df = pd.read_csv('EDA/Simona/data/csv_files/livability_index.csv',encoding='latin1')\n",
    "print('successfully read csv files')"
   ]
  },
  {
   "cell_type": "code",
   "execution_count": 3,
   "metadata": {},
   "outputs": [],
   "source": [
    "def dutch_to_english(text, batch=False):\n",
    "    if len(text) > 1:\n",
    "        try:\n",
    "            if batch:\n",
    "                keywords = []\n",
    "                for words in text:\n",
    "                    try:\n",
    "                        keywords.append(GoogleTranslator(\n",
    "                            source='auto', target='en').translate(words))\n",
    "                    except:\n",
    "                        num_word = num2words(float(words))\n",
    "                        keywords.append(GoogleTranslator(\n",
    "                            source='auto', target='en').translate(num_word))\n",
    "                return keywords\n",
    "            return GoogleTranslator(source='nl', target='en').translate(text)\n",
    "        except:\n",
    "            return text\n",
    "    else:\n",
    "        return np.nan"
   ]
  },
  {
   "attachments": {},
   "cell_type": "markdown",
   "metadata": {},
   "source": [
    "# Preprocessing\n",
    "----"
   ]
  },
  {
   "attachments": {},
   "cell_type": "markdown",
   "metadata": {},
   "source": [
    "### 1) Responses survey"
   ]
  },
  {
   "cell_type": "code",
   "execution_count": 152,
   "metadata": {},
   "outputs": [
    {
     "data": {
      "text/html": [
       "<div>\n",
       "<style scoped>\n",
       "    .dataframe tbody tr th:only-of-type {\n",
       "        vertical-align: middle;\n",
       "    }\n",
       "\n",
       "    .dataframe tbody tr th {\n",
       "        vertical-align: top;\n",
       "    }\n",
       "\n",
       "    .dataframe thead th {\n",
       "        text-align: right;\n",
       "    }\n",
       "</style>\n",
       "<table border=\"1\" class=\"dataframe\">\n",
       "  <thead>\n",
       "    <tr style=\"text-align: right;\">\n",
       "      <th></th>\n",
       "      <th>AntwoordKey</th>\n",
       "      <th>Antwoordoptie</th>\n",
       "      <th>Antwoordomschrijving</th>\n",
       "    </tr>\n",
       "  </thead>\n",
       "  <tbody>\n",
       "    <tr>\n",
       "      <th>0</th>\n",
       "      <td>1</td>\n",
       "      <td>1.0</td>\n",
       "      <td>Ja</td>\n",
       "    </tr>\n",
       "    <tr>\n",
       "      <th>1</th>\n",
       "      <td>2</td>\n",
       "      <td>2.0</td>\n",
       "      <td>Nee</td>\n",
       "    </tr>\n",
       "    <tr>\n",
       "      <th>2</th>\n",
       "      <td>3</td>\n",
       "      <td>3.0</td>\n",
       "      <td>Weet niet/geen mening</td>\n",
       "    </tr>\n",
       "    <tr>\n",
       "      <th>3</th>\n",
       "      <td>4</td>\n",
       "      <td>1.0</td>\n",
       "      <td>Ja</td>\n",
       "    </tr>\n",
       "    <tr>\n",
       "      <th>4</th>\n",
       "      <td>5</td>\n",
       "      <td>2.0</td>\n",
       "      <td>Nee</td>\n",
       "    </tr>\n",
       "  </tbody>\n",
       "</table>\n",
       "</div>"
      ],
      "text/plain": [
       "   AntwoordKey  Antwoordoptie   Antwoordomschrijving\n",
       "0            1            1.0                     Ja\n",
       "1            2            2.0                    Nee\n",
       "2            3            3.0  Weet niet/geen mening\n",
       "3            4            1.0                     Ja\n",
       "4            5            2.0                    Nee"
      ]
     },
     "execution_count": 152,
     "metadata": {},
     "output_type": "execute_result"
    }
   ],
   "source": [
    "responses_db.head()"
   ]
  },
  {
   "cell_type": "code",
   "execution_count": 153,
   "metadata": {},
   "outputs": [
    {
     "name": "stdout",
     "output_type": "stream",
     "text": [
      "<class 'pandas.core.frame.DataFrame'>\n",
      "RangeIndex: 8713 entries, 0 to 8712\n",
      "Data columns (total 3 columns):\n",
      " #   Column                Non-Null Count  Dtype  \n",
      "---  ------                --------------  -----  \n",
      " 0   AntwoordKey           8713 non-null   int64  \n",
      " 1   Antwoordoptie         8076 non-null   float64\n",
      " 2   Antwoordomschrijving  8085 non-null   object \n",
      "dtypes: float64(1), int64(1), object(1)\n",
      "memory usage: 204.3+ KB\n"
     ]
    }
   ],
   "source": [
    "responses_db.info()"
   ]
  },
  {
   "cell_type": "code",
   "execution_count": 154,
   "metadata": {},
   "outputs": [
    {
     "data": {
      "text/plain": [
       "AntwoordKey               0\n",
       "Antwoordoptie           637\n",
       "Antwoordomschrijving    628\n",
       "dtype: int64"
      ]
     },
     "execution_count": 154,
     "metadata": {},
     "output_type": "execute_result"
    }
   ],
   "source": [
    "# printing all missing values from the df\n",
    "responses_db.isnull().sum()"
   ]
  },
  {
   "cell_type": "code",
   "execution_count": 155,
   "metadata": {},
   "outputs": [],
   "source": [
    "# droping missing values\n",
    "# reset index and remove first column 'index'\n",
    "responses_db.dropna(inplace=True)\n",
    "responses_db.reset_index(inplace=True)\n",
    "responses_db.drop('index',axis=1, inplace=True)"
   ]
  },
  {
   "cell_type": "code",
   "execution_count": 164,
   "metadata": {},
   "outputs": [],
   "source": [
    "# translating columns from survey responses df\n",
    "responses_db.columns = ['id_response','response_option','response_description']"
   ]
  },
  {
   "cell_type": "code",
   "execution_count": null,
   "metadata": {},
   "outputs": [],
   "source": [
    "# translating values\n",
    "responses_db['response_description'] = [dutch_to_english(x) for x in tqdm(responses_db['response_description'])]\n",
    "print(\"***** completed translating data  *******\")"
   ]
  },
  {
   "cell_type": "code",
   "execution_count": 167,
   "metadata": {},
   "outputs": [
    {
     "data": {
      "text/html": [
       "<div>\n",
       "<style scoped>\n",
       "    .dataframe tbody tr th:only-of-type {\n",
       "        vertical-align: middle;\n",
       "    }\n",
       "\n",
       "    .dataframe tbody tr th {\n",
       "        vertical-align: top;\n",
       "    }\n",
       "\n",
       "    .dataframe thead th {\n",
       "        text-align: right;\n",
       "    }\n",
       "</style>\n",
       "<table border=\"1\" class=\"dataframe\">\n",
       "  <thead>\n",
       "    <tr style=\"text-align: right;\">\n",
       "      <th></th>\n",
       "      <th>id_response</th>\n",
       "      <th>response_option</th>\n",
       "      <th>response_description</th>\n",
       "    </tr>\n",
       "  </thead>\n",
       "  <tbody>\n",
       "    <tr>\n",
       "      <th>0</th>\n",
       "      <td>1</td>\n",
       "      <td>1.0</td>\n",
       "      <td>Yes</td>\n",
       "    </tr>\n",
       "    <tr>\n",
       "      <th>1</th>\n",
       "      <td>2</td>\n",
       "      <td>2.0</td>\n",
       "      <td>No</td>\n",
       "    </tr>\n",
       "    <tr>\n",
       "      <th>2</th>\n",
       "      <td>3</td>\n",
       "      <td>3.0</td>\n",
       "      <td>Do not know / no opinion</td>\n",
       "    </tr>\n",
       "    <tr>\n",
       "      <th>3</th>\n",
       "      <td>4</td>\n",
       "      <td>1.0</td>\n",
       "      <td>Yes</td>\n",
       "    </tr>\n",
       "    <tr>\n",
       "      <th>4</th>\n",
       "      <td>5</td>\n",
       "      <td>2.0</td>\n",
       "      <td>No</td>\n",
       "    </tr>\n",
       "    <tr>\n",
       "      <th>...</th>\n",
       "      <td>...</td>\n",
       "      <td>...</td>\n",
       "      <td>...</td>\n",
       "    </tr>\n",
       "    <tr>\n",
       "      <th>8070</th>\n",
       "      <td>8709</td>\n",
       "      <td>8.0</td>\n",
       "      <td>Because of the house itself</td>\n",
       "    </tr>\n",
       "    <tr>\n",
       "      <th>8071</th>\n",
       "      <td>8710</td>\n",
       "      <td>8.0</td>\n",
       "      <td>Because of the house itself</td>\n",
       "    </tr>\n",
       "    <tr>\n",
       "      <th>8072</th>\n",
       "      <td>8711</td>\n",
       "      <td>3.0</td>\n",
       "      <td>Marriage / cohabitation</td>\n",
       "    </tr>\n",
       "    <tr>\n",
       "      <th>8073</th>\n",
       "      <td>8712</td>\n",
       "      <td>4.0</td>\n",
       "      <td>Family expansion</td>\n",
       "    </tr>\n",
       "    <tr>\n",
       "      <th>8074</th>\n",
       "      <td>8713</td>\n",
       "      <td>11.0</td>\n",
       "      <td>Living environment/residential neighbourhood</td>\n",
       "    </tr>\n",
       "  </tbody>\n",
       "</table>\n",
       "<p>8075 rows × 3 columns</p>\n",
       "</div>"
      ],
      "text/plain": [
       "      id_response  response_option   \n",
       "0               1              1.0  \\\n",
       "1               2              2.0   \n",
       "2               3              3.0   \n",
       "3               4              1.0   \n",
       "4               5              2.0   \n",
       "...           ...              ...   \n",
       "8070         8709              8.0   \n",
       "8071         8710              8.0   \n",
       "8072         8711              3.0   \n",
       "8073         8712              4.0   \n",
       "8074         8713             11.0   \n",
       "\n",
       "                              response_description  \n",
       "0                                              Yes  \n",
       "1                                               No  \n",
       "2                         Do not know / no opinion  \n",
       "3                                              Yes  \n",
       "4                                               No  \n",
       "...                                            ...  \n",
       "8070                   Because of the house itself  \n",
       "8071                   Because of the house itself  \n",
       "8072                       Marriage / cohabitation  \n",
       "8073                              Family expansion  \n",
       "8074  Living environment/residential neighbourhood  \n",
       "\n",
       "[8075 rows x 3 columns]"
      ]
     },
     "execution_count": 167,
     "metadata": {},
     "output_type": "execute_result"
    }
   ],
   "source": [
    "responses_db"
   ]
  },
  {
   "cell_type": "code",
   "execution_count": 176,
   "metadata": {},
   "outputs": [],
   "source": [
    "# saving translated df\n",
    "responses_db.to_csv('C:/Users/dsimo/OneDrive/2022-23d-1fcmgt-reg-ai-01-SD222667/src/GreenScape/GreenScape/src/greenscape/data/responses_db.csv')"
   ]
  },
  {
   "attachments": {},
   "cell_type": "markdown",
   "metadata": {},
   "source": [
    "#### preprocessing survey responses done!\n",
    "---"
   ]
  },
  {
   "attachments": {},
   "cell_type": "markdown",
   "metadata": {},
   "source": [
    "### 2) Neighborhoods survey"
   ]
  },
  {
   "cell_type": "code",
   "execution_count": 179,
   "metadata": {},
   "outputs": [
    {
     "data": {
      "text/html": [
       "<div>\n",
       "<style scoped>\n",
       "    .dataframe tbody tr th:only-of-type {\n",
       "        vertical-align: middle;\n",
       "    }\n",
       "\n",
       "    .dataframe tbody tr th {\n",
       "        vertical-align: top;\n",
       "    }\n",
       "\n",
       "    .dataframe thead th {\n",
       "        text-align: right;\n",
       "    }\n",
       "</style>\n",
       "<table border=\"1\" class=\"dataframe\">\n",
       "  <thead>\n",
       "    <tr style=\"text-align: right;\">\n",
       "      <th></th>\n",
       "      <th>BuurtKey</th>\n",
       "      <th>WijkOmschrijving</th>\n",
       "      <th>BuurtOmschrijving</th>\n",
       "    </tr>\n",
       "  </thead>\n",
       "  <tbody>\n",
       "    <tr>\n",
       "      <th>0</th>\n",
       "      <td>1</td>\n",
       "      <td>Breda centrum</td>\n",
       "      <td>Valkenberg</td>\n",
       "    </tr>\n",
       "    <tr>\n",
       "      <th>1</th>\n",
       "      <td>2</td>\n",
       "      <td>Breda centrum</td>\n",
       "      <td>Chassé</td>\n",
       "    </tr>\n",
       "    <tr>\n",
       "      <th>2</th>\n",
       "      <td>3</td>\n",
       "      <td>Breda centrum</td>\n",
       "      <td>Fellenoord</td>\n",
       "    </tr>\n",
       "    <tr>\n",
       "      <th>3</th>\n",
       "      <td>4</td>\n",
       "      <td>Breda centrum</td>\n",
       "      <td>Schorsmolen</td>\n",
       "    </tr>\n",
       "    <tr>\n",
       "      <th>4</th>\n",
       "      <td>5</td>\n",
       "      <td>Breda centrum</td>\n",
       "      <td>Station</td>\n",
       "    </tr>\n",
       "  </tbody>\n",
       "</table>\n",
       "</div>"
      ],
      "text/plain": [
       "   BuurtKey WijkOmschrijving BuurtOmschrijving\n",
       "0         1    Breda centrum        Valkenberg\n",
       "1         2    Breda centrum            Chassé\n",
       "2         3    Breda centrum        Fellenoord\n",
       "3         4    Breda centrum       Schorsmolen\n",
       "4         5    Breda centrum           Station"
      ]
     },
     "execution_count": 179,
     "metadata": {},
     "output_type": "execute_result"
    }
   ],
   "source": [
    "neighborhoods_db.head()"
   ]
  },
  {
   "cell_type": "code",
   "execution_count": 181,
   "metadata": {},
   "outputs": [
    {
     "name": "stdout",
     "output_type": "stream",
     "text": [
      "<class 'pandas.core.frame.DataFrame'>\n",
      "RangeIndex: 61 entries, 0 to 60\n",
      "Data columns (total 3 columns):\n",
      " #   Column             Non-Null Count  Dtype \n",
      "---  ------             --------------  ----- \n",
      " 0   BuurtKey           61 non-null     int64 \n",
      " 1   WijkOmschrijving   61 non-null     object\n",
      " 2   BuurtOmschrijving  61 non-null     object\n",
      "dtypes: int64(1), object(2)\n",
      "memory usage: 1.6+ KB\n"
     ]
    }
   ],
   "source": [
    "neighborhoods_db.info()"
   ]
  },
  {
   "cell_type": "code",
   "execution_count": 184,
   "metadata": {},
   "outputs": [],
   "source": [
    "# resetting index and removing missing values\n",
    "neighborhoods_db.dropna(inplace=True)\n",
    "neighborhoods_db.reset_index(inplace=True)\n",
    "neighborhoods_db.drop('index',axis=1, inplace=True)"
   ]
  },
  {
   "cell_type": "code",
   "execution_count": 190,
   "metadata": {},
   "outputs": [],
   "source": [
    "# tranlsating columns\n",
    "neighborhoods_db.columns = ['id_neighborhood','region','neighborhoods']"
   ]
  },
  {
   "cell_type": "code",
   "execution_count": 192,
   "metadata": {},
   "outputs": [],
   "source": [
    "# saving df to .csv\n",
    "neighborhoods_db.to_csv('C:/Users/dsimo/OneDrive/2022-23d-1fcmgt-reg-ai-01-SD222667/src/GreenScape/GreenScape/src/greenscape/data/neighborhoods_db.csv')"
   ]
  },
  {
   "attachments": {},
   "cell_type": "markdown",
   "metadata": {},
   "source": [
    "#### preprocessing neighborhoods survey done!\n",
    "---"
   ]
  },
  {
   "attachments": {},
   "cell_type": "markdown",
   "metadata": {},
   "source": [
    "### 3) Dates survey  "
   ]
  },
  {
   "cell_type": "code",
   "execution_count": 193,
   "metadata": {},
   "outputs": [
    {
     "data": {
      "text/html": [
       "<div>\n",
       "<style scoped>\n",
       "    .dataframe tbody tr th:only-of-type {\n",
       "        vertical-align: middle;\n",
       "    }\n",
       "\n",
       "    .dataframe tbody tr th {\n",
       "        vertical-align: top;\n",
       "    }\n",
       "\n",
       "    .dataframe thead th {\n",
       "        text-align: right;\n",
       "    }\n",
       "</style>\n",
       "<table border=\"1\" class=\"dataframe\">\n",
       "  <thead>\n",
       "    <tr style=\"text-align: right;\">\n",
       "      <th></th>\n",
       "      <th>DatumKey</th>\n",
       "      <th>DatumDate</th>\n",
       "      <th>Datum</th>\n",
       "      <th>Italian_date</th>\n",
       "      <th>Jaar</th>\n",
       "    </tr>\n",
       "  </thead>\n",
       "  <tbody>\n",
       "    <tr>\n",
       "      <th>0</th>\n",
       "      <td>20150101</td>\n",
       "      <td>2015-01-01 00:00:00</td>\n",
       "      <td>2015-01-01 00:00:00.000</td>\n",
       "      <td>2015-01-01 00:00:00</td>\n",
       "      <td>2015</td>\n",
       "    </tr>\n",
       "    <tr>\n",
       "      <th>1</th>\n",
       "      <td>20170101</td>\n",
       "      <td>2017-01-01 00:00:00</td>\n",
       "      <td>2017-01-01 00:00:00.000</td>\n",
       "      <td>2017-01-01 00:00:00</td>\n",
       "      <td>2017</td>\n",
       "    </tr>\n",
       "    <tr>\n",
       "      <th>2</th>\n",
       "      <td>20190101</td>\n",
       "      <td>2019-01-01 00:00:00</td>\n",
       "      <td>2019-01-01 00:00:00.000</td>\n",
       "      <td>2019-01-01 00:00:00</td>\n",
       "      <td>2019</td>\n",
       "    </tr>\n",
       "    <tr>\n",
       "      <th>3</th>\n",
       "      <td>20210101</td>\n",
       "      <td>2021-01-01 00:00:00</td>\n",
       "      <td>2021-01-01 00:00:00.000</td>\n",
       "      <td>2021-01-01 00:00:00</td>\n",
       "      <td>2021</td>\n",
       "    </tr>\n",
       "  </tbody>\n",
       "</table>\n",
       "</div>"
      ],
      "text/plain": [
       "   DatumKey            DatumDate                    Datum   \n",
       "0  20150101  2015-01-01 00:00:00  2015-01-01 00:00:00.000  \\\n",
       "1  20170101  2017-01-01 00:00:00  2017-01-01 00:00:00.000   \n",
       "2  20190101  2019-01-01 00:00:00  2019-01-01 00:00:00.000   \n",
       "3  20210101  2021-01-01 00:00:00  2021-01-01 00:00:00.000   \n",
       "\n",
       "          Italian_date  Jaar  \n",
       "0  2015-01-01 00:00:00  2015  \n",
       "1  2017-01-01 00:00:00  2017  \n",
       "2  2019-01-01 00:00:00  2019  \n",
       "3  2021-01-01 00:00:00  2021  "
      ]
     },
     "execution_count": 193,
     "metadata": {},
     "output_type": "execute_result"
    }
   ],
   "source": [
    "dates_db.head()"
   ]
  },
  {
   "cell_type": "code",
   "execution_count": 201,
   "metadata": {},
   "outputs": [
    {
     "name": "stdout",
     "output_type": "stream",
     "text": [
      "<class 'pandas.core.frame.DataFrame'>\n",
      "RangeIndex: 4 entries, 0 to 3\n",
      "Data columns (total 5 columns):\n",
      " #   Column        Non-Null Count  Dtype \n",
      "---  ------        --------------  ----- \n",
      " 0   DatumKey      4 non-null      int64 \n",
      " 1   DatumDate     4 non-null      object\n",
      " 2   Datum         4 non-null      object\n",
      " 3   Italian_date  4 non-null      object\n",
      " 4   Jaar          4 non-null      int64 \n",
      "dtypes: int64(2), object(3)\n",
      "memory usage: 288.0+ bytes\n"
     ]
    }
   ],
   "source": [
    "dates_db.info()"
   ]
  },
  {
   "cell_type": "code",
   "execution_count": 56,
   "metadata": {},
   "outputs": [
    {
     "data": {
      "text/plain": [
       "0"
      ]
     },
     "execution_count": 56,
     "metadata": {},
     "output_type": "execute_result"
    }
   ],
   "source": [
    "# printing all missing values from the df\n",
    "dates_db.isnull().sum().sum()"
   ]
  },
  {
   "cell_type": "code",
   "execution_count": 202,
   "metadata": {},
   "outputs": [],
   "source": [
    "# droping duplicated columns and translating\n",
    "dates_db.drop(columns = ['DatumDate','Italian_date'], inplace = True)\n",
    "dates_db.columns = ['id_date','date','year']"
   ]
  },
  {
   "cell_type": "code",
   "execution_count": 204,
   "metadata": {},
   "outputs": [],
   "source": [
    "# saving df to .csv \n",
    "dates_db.to_csv('C:/Users/dsimo/OneDrive/2022-23d-1fcmgt-reg-ai-01-SD222667/src/GreenScape/GreenScape/src/greenscape/data/dates_db.csv')"
   ]
  },
  {
   "attachments": {},
   "cell_type": "markdown",
   "metadata": {},
   "source": [
    "##### preprocessing dates done!\n",
    "----"
   ]
  },
  {
   "attachments": {},
   "cell_type": "markdown",
   "metadata": {},
   "source": [
    "### 4) Report neighborhoods-responses"
   ]
  },
  {
   "cell_type": "code",
   "execution_count": 205,
   "metadata": {},
   "outputs": [
    {
     "data": {
      "text/html": [
       "<div>\n",
       "<style scoped>\n",
       "    .dataframe tbody tr th:only-of-type {\n",
       "        vertical-align: middle;\n",
       "    }\n",
       "\n",
       "    .dataframe tbody tr th {\n",
       "        vertical-align: top;\n",
       "    }\n",
       "\n",
       "    .dataframe thead th {\n",
       "        text-align: right;\n",
       "    }\n",
       "</style>\n",
       "<table border=\"1\" class=\"dataframe\">\n",
       "  <thead>\n",
       "    <tr style=\"text-align: right;\">\n",
       "      <th></th>\n",
       "      <th>DatumKey</th>\n",
       "      <th>BuurtKey</th>\n",
       "      <th>AntwoordKey</th>\n",
       "      <th>VraagKey</th>\n",
       "      <th>SamengesteldeIndicatorKey</th>\n",
       "      <th>BerekendeWaarde</th>\n",
       "    </tr>\n",
       "  </thead>\n",
       "  <tbody>\n",
       "    <tr>\n",
       "      <th>0</th>\n",
       "      <td>20150101</td>\n",
       "      <td>1</td>\n",
       "      <td>-1</td>\n",
       "      <td>-1</td>\n",
       "      <td>-1</td>\n",
       "      <td>1.578410e-01</td>\n",
       "    </tr>\n",
       "    <tr>\n",
       "      <th>1</th>\n",
       "      <td>20150101</td>\n",
       "      <td>1</td>\n",
       "      <td>-1</td>\n",
       "      <td>-1</td>\n",
       "      <td>29</td>\n",
       "      <td>2.702958e+06</td>\n",
       "    </tr>\n",
       "    <tr>\n",
       "      <th>2</th>\n",
       "      <td>20150101</td>\n",
       "      <td>1</td>\n",
       "      <td>-1</td>\n",
       "      <td>-1</td>\n",
       "      <td>33</td>\n",
       "      <td>6.717265e+06</td>\n",
       "    </tr>\n",
       "    <tr>\n",
       "      <th>3</th>\n",
       "      <td>20150101</td>\n",
       "      <td>1</td>\n",
       "      <td>-1</td>\n",
       "      <td>-1</td>\n",
       "      <td>37</td>\n",
       "      <td>2.410750e-01</td>\n",
       "    </tr>\n",
       "    <tr>\n",
       "      <th>4</th>\n",
       "      <td>20150101</td>\n",
       "      <td>1</td>\n",
       "      <td>-1</td>\n",
       "      <td>-1</td>\n",
       "      <td>41</td>\n",
       "      <td>8.035460e-01</td>\n",
       "    </tr>\n",
       "  </tbody>\n",
       "</table>\n",
       "</div>"
      ],
      "text/plain": [
       "   DatumKey  BuurtKey  AntwoordKey  VraagKey  SamengesteldeIndicatorKey   \n",
       "0  20150101         1           -1        -1                         -1  \\\n",
       "1  20150101         1           -1        -1                         29   \n",
       "2  20150101         1           -1        -1                         33   \n",
       "3  20150101         1           -1        -1                         37   \n",
       "4  20150101         1           -1        -1                         41   \n",
       "\n",
       "   BerekendeWaarde  \n",
       "0     1.578410e-01  \n",
       "1     2.702958e+06  \n",
       "2     6.717265e+06  \n",
       "3     2.410750e-01  \n",
       "4     8.035460e-01  "
      ]
     },
     "execution_count": 205,
     "metadata": {},
     "output_type": "execute_result"
    }
   ],
   "source": [
    "report_n_responses_db.head()"
   ]
  },
  {
   "cell_type": "code",
   "execution_count": 206,
   "metadata": {},
   "outputs": [
    {
     "name": "stdout",
     "output_type": "stream",
     "text": [
      "<class 'pandas.core.frame.DataFrame'>\n",
      "RangeIndex: 373410 entries, 0 to 373409\n",
      "Data columns (total 6 columns):\n",
      " #   Column                     Non-Null Count   Dtype  \n",
      "---  ------                     --------------   -----  \n",
      " 0   DatumKey                   373410 non-null  int64  \n",
      " 1   BuurtKey                   373410 non-null  int64  \n",
      " 2   AntwoordKey                373410 non-null  int64  \n",
      " 3   VraagKey                   373410 non-null  int64  \n",
      " 4   SamengesteldeIndicatorKey  373410 non-null  int64  \n",
      " 5   BerekendeWaarde            373410 non-null  float64\n",
      "dtypes: float64(1), int64(5)\n",
      "memory usage: 17.1 MB\n"
     ]
    }
   ],
   "source": [
    "report_n_responses_db.info()"
   ]
  },
  {
   "cell_type": "code",
   "execution_count": 208,
   "metadata": {},
   "outputs": [
    {
     "data": {
      "text/plain": [
       "0"
      ]
     },
     "execution_count": 208,
     "metadata": {},
     "output_type": "execute_result"
    }
   ],
   "source": [
    "# printing all missing values from the df\n",
    "report_n_responses_db.isnull().sum().sum()"
   ]
  },
  {
   "cell_type": "code",
   "execution_count": 209,
   "metadata": {},
   "outputs": [],
   "source": [
    "# translating columns\n",
    "report_n_responses_db.columns = ['id_date','id_neighborhood','id_response','id_question','id_compositeIndicator', 'calculated_value']"
   ]
  },
  {
   "cell_type": "code",
   "execution_count": 212,
   "metadata": {},
   "outputs": [],
   "source": [
    "# saving df to csv file\n",
    "report_n_responses_db.to_csv('C:/Users/dsimo/OneDrive/2022-23d-1fcmgt-reg-ai-01-SD222667/src/GreenScape/GreenScape/src/greenscape/data/report_n_responses_db.csv')"
   ]
  },
  {
   "attachments": {},
   "cell_type": "markdown",
   "metadata": {},
   "source": [
    "##### preprocessing neighborhoods-responses report done!\n",
    "----"
   ]
  },
  {
   "attachments": {},
   "cell_type": "markdown",
   "metadata": {},
   "source": [
    "### 5) Composite indicator survey"
   ]
  },
  {
   "cell_type": "code",
   "execution_count": 214,
   "metadata": {},
   "outputs": [
    {
     "data": {
      "text/html": [
       "<div>\n",
       "<style scoped>\n",
       "    .dataframe tbody tr th:only-of-type {\n",
       "        vertical-align: middle;\n",
       "    }\n",
       "\n",
       "    .dataframe tbody tr th {\n",
       "        vertical-align: top;\n",
       "    }\n",
       "\n",
       "    .dataframe thead th {\n",
       "        text-align: right;\n",
       "    }\n",
       "</style>\n",
       "<table border=\"1\" class=\"dataframe\">\n",
       "  <thead>\n",
       "    <tr style=\"text-align: right;\">\n",
       "      <th></th>\n",
       "      <th>SamengesteldeIndicatorKey</th>\n",
       "      <th>IndicatorOmschrijving</th>\n",
       "    </tr>\n",
       "  </thead>\n",
       "  <tbody>\n",
       "    <tr>\n",
       "      <th>0</th>\n",
       "      <td>1</td>\n",
       "      <td>Discriminatie</td>\n",
       "    </tr>\n",
       "    <tr>\n",
       "      <th>1</th>\n",
       "      <td>2</td>\n",
       "      <td>Discriminatie</td>\n",
       "    </tr>\n",
       "    <tr>\n",
       "      <th>2</th>\n",
       "      <td>3</td>\n",
       "      <td>Discriminatie</td>\n",
       "    </tr>\n",
       "    <tr>\n",
       "      <th>3</th>\n",
       "      <td>4</td>\n",
       "      <td>Discriminatie</td>\n",
       "    </tr>\n",
       "    <tr>\n",
       "      <th>4</th>\n",
       "      <td>5</td>\n",
       "      <td>Discriminatie</td>\n",
       "    </tr>\n",
       "  </tbody>\n",
       "</table>\n",
       "</div>"
      ],
      "text/plain": [
       "   SamengesteldeIndicatorKey IndicatorOmschrijving\n",
       "0                          1         Discriminatie\n",
       "1                          2         Discriminatie\n",
       "2                          3         Discriminatie\n",
       "3                          4         Discriminatie\n",
       "4                          5         Discriminatie"
      ]
     },
     "execution_count": 214,
     "metadata": {},
     "output_type": "execute_result"
    }
   ],
   "source": [
    "composite_indicator_db.head()"
   ]
  },
  {
   "cell_type": "code",
   "execution_count": 215,
   "metadata": {},
   "outputs": [
    {
     "name": "stdout",
     "output_type": "stream",
     "text": [
      "<class 'pandas.core.frame.DataFrame'>\n",
      "RangeIndex: 140 entries, 0 to 139\n",
      "Data columns (total 2 columns):\n",
      " #   Column                     Non-Null Count  Dtype \n",
      "---  ------                     --------------  ----- \n",
      " 0   SamengesteldeIndicatorKey  140 non-null    int64 \n",
      " 1   IndicatorOmschrijving      140 non-null    object\n",
      "dtypes: int64(1), object(1)\n",
      "memory usage: 2.3+ KB\n"
     ]
    }
   ],
   "source": [
    "composite_indicator_db.info()"
   ]
  },
  {
   "cell_type": "code",
   "execution_count": 217,
   "metadata": {},
   "outputs": [
    {
     "name": "stderr",
     "output_type": "stream",
     "text": [
      "100%|██████████| 140/140 [01:08<00:00,  2.04it/s]"
     ]
    },
    {
     "name": "stdout",
     "output_type": "stream",
     "text": [
      "***** completed translating data  *******\n"
     ]
    },
    {
     "name": "stderr",
     "output_type": "stream",
     "text": [
      "\n"
     ]
    }
   ],
   "source": [
    "# translating columns and values\n",
    "composite_indicator_db.columns = ['id_composite_indicator','indicator_description']\n",
    "composite_indicator_db['indicator_description'] = [dutch_to_english(x) for x in tqdm(composite_indicator_db['indicator_description'])]\n",
    "print(\"***** completed translating data  *******\")"
   ]
  },
  {
   "cell_type": "code",
   "execution_count": 223,
   "metadata": {},
   "outputs": [],
   "source": [
    "# saving df to csv file\n",
    "composite_indicator_db.to_csv('C:/Users/dsimo/OneDrive/2022-23d-1fcmgt-reg-ai-01-SD222667/src/GreenScape/GreenScape/src/greenscape/data/composite_indicator_db.csv')"
   ]
  },
  {
   "attachments": {},
   "cell_type": "markdown",
   "metadata": {},
   "source": [
    "##### preporcessing composite indicator data done!\n",
    "----"
   ]
  },
  {
   "attachments": {},
   "cell_type": "markdown",
   "metadata": {},
   "source": [
    "### 6) Questions survey"
   ]
  },
  {
   "cell_type": "code",
   "execution_count": 4,
   "metadata": {},
   "outputs": [
    {
     "data": {
      "text/html": [
       "<div>\n",
       "<style scoped>\n",
       "    .dataframe tbody tr th:only-of-type {\n",
       "        vertical-align: middle;\n",
       "    }\n",
       "\n",
       "    .dataframe tbody tr th {\n",
       "        vertical-align: top;\n",
       "    }\n",
       "\n",
       "    .dataframe thead th {\n",
       "        text-align: right;\n",
       "    }\n",
       "</style>\n",
       "<table border=\"1\" class=\"dataframe\">\n",
       "  <thead>\n",
       "    <tr style=\"text-align: right;\">\n",
       "      <th></th>\n",
       "      <th>VraagKey</th>\n",
       "      <th>VraagOmschrijving</th>\n",
       "      <th>DeelVraagOmschrijving</th>\n",
       "      <th>Verkorte_Vraagstelling</th>\n",
       "    </tr>\n",
       "  </thead>\n",
       "  <tbody>\n",
       "    <tr>\n",
       "      <th>0</th>\n",
       "      <td>1</td>\n",
       "      <td>Waar of wanneer was dit?</td>\n",
       "      <td>Bij het vinden van een (huur)huis (herberekend...</td>\n",
       "      <td>Oneerlijk/ongelijk behandeld bij vinden van ee...</td>\n",
       "    </tr>\n",
       "    <tr>\n",
       "      <th>1</th>\n",
       "      <td>2</td>\n",
       "      <td>In hoeverre bent u het eens of oneens met onde...</td>\n",
       "      <td>De gemeente doet een beroep op de buurtbewoner...</td>\n",
       "      <td>De gemeente doet een beroep op de buurtbewoner...</td>\n",
       "    </tr>\n",
       "    <tr>\n",
       "      <th>2</th>\n",
       "      <td>3</td>\n",
       "      <td>Wanneer u hulp of zorg nodig heeft, kunt u dan...</td>\n",
       "      <td>mensen in de buurt</td>\n",
       "      <td>Kan terugvallen op mensen in de buurt</td>\n",
       "    </tr>\n",
       "    <tr>\n",
       "      <th>3</th>\n",
       "      <td>4</td>\n",
       "      <td>Wanneer u hulp of zorg nodig heeft, kunt u dan...</td>\n",
       "      <td>vrienden</td>\n",
       "      <td>Kan terugvallen op vrienden</td>\n",
       "    </tr>\n",
       "    <tr>\n",
       "      <th>4</th>\n",
       "      <td>5</td>\n",
       "      <td>Krijgt u ergens hulp bij?</td>\n",
       "      <td>Uw lichamelijke gezondheid</td>\n",
       "      <td>Krijg hulp bij lichamelijke gezondheid</td>\n",
       "    </tr>\n",
       "  </tbody>\n",
       "</table>\n",
       "</div>"
      ],
      "text/plain": [
       "   VraagKey                                  VraagOmschrijving   \n",
       "0         1                          Waar of wanneer was dit?   \\\n",
       "1         2  In hoeverre bent u het eens of oneens met onde...   \n",
       "2         3  Wanneer u hulp of zorg nodig heeft, kunt u dan...   \n",
       "3         4  Wanneer u hulp of zorg nodig heeft, kunt u dan...   \n",
       "4         5                          Krijgt u ergens hulp bij?   \n",
       "\n",
       "                               DeelVraagOmschrijving   \n",
       "0  Bij het vinden van een (huur)huis (herberekend...  \\\n",
       "1  De gemeente doet een beroep op de buurtbewoner...   \n",
       "2                                 mensen in de buurt   \n",
       "3                                           vrienden   \n",
       "4                         Uw lichamelijke gezondheid   \n",
       "\n",
       "                              Verkorte_Vraagstelling  \n",
       "0  Oneerlijk/ongelijk behandeld bij vinden van ee...  \n",
       "1  De gemeente doet een beroep op de buurtbewoner...  \n",
       "2              Kan terugvallen op mensen in de buurt  \n",
       "3                        Kan terugvallen op vrienden  \n",
       "4             Krijg hulp bij lichamelijke gezondheid  "
      ]
     },
     "execution_count": 4,
     "metadata": {},
     "output_type": "execute_result"
    }
   ],
   "source": [
    "questions_db.head()"
   ]
  },
  {
   "cell_type": "code",
   "execution_count": 5,
   "metadata": {},
   "outputs": [
    {
     "name": "stdout",
     "output_type": "stream",
     "text": [
      "<class 'pandas.core.frame.DataFrame'>\n",
      "RangeIndex: 2288 entries, 0 to 2287\n",
      "Data columns (total 4 columns):\n",
      " #   Column                  Non-Null Count  Dtype \n",
      "---  ------                  --------------  ----- \n",
      " 0   VraagKey                2288 non-null   int64 \n",
      " 1   VraagOmschrijving       2288 non-null   object\n",
      " 2   DeelVraagOmschrijving   1988 non-null   object\n",
      " 3   Verkorte_Vraagstelling  2120 non-null   object\n",
      "dtypes: int64(1), object(3)\n",
      "memory usage: 71.6+ KB\n"
     ]
    }
   ],
   "source": [
    "questions_db.info()"
   ]
  },
  {
   "cell_type": "code",
   "execution_count": 6,
   "metadata": {},
   "outputs": [
    {
     "data": {
      "text/plain": [
       "VraagKey                    0\n",
       "VraagOmschrijving           0\n",
       "DeelVraagOmschrijving     300\n",
       "Verkorte_Vraagstelling    168\n",
       "dtype: int64"
      ]
     },
     "execution_count": 6,
     "metadata": {},
     "output_type": "execute_result"
    }
   ],
   "source": [
    "# printing all missing values from the df\n",
    "questions_db.isnull().sum()"
   ]
  },
  {
   "cell_type": "code",
   "execution_count": 7,
   "metadata": {},
   "outputs": [],
   "source": [
    "# drop missing from df and resetting index\n",
    "questions_db.dropna(inplace=True)\n",
    "questions_db.reset_index(inplace=True)\n",
    "questions_db.drop('index',axis=1, inplace=True)"
   ]
  },
  {
   "cell_type": "code",
   "execution_count": 8,
   "metadata": {},
   "outputs": [],
   "source": [
    "# translating columns\n",
    "questions_db.columns = ['id_question','question_description','subquestion_description','abbreviated_question']"
   ]
  },
  {
   "cell_type": "code",
   "execution_count": 9,
   "metadata": {},
   "outputs": [
    {
     "name": "stderr",
     "output_type": "stream",
     "text": [
      "100%|██████████| 1844/1844 [14:25<00:00,  2.13it/s]\n"
     ]
    },
    {
     "name": "stdout",
     "output_type": "stream",
     "text": [
      "***** completed translating data  *******\n"
     ]
    },
    {
     "name": "stderr",
     "output_type": "stream",
     "text": [
      "100%|██████████| 1844/1844 [14:45<00:00,  2.08it/s]\n"
     ]
    },
    {
     "name": "stdout",
     "output_type": "stream",
     "text": [
      "***** completed translating data  *******\n"
     ]
    },
    {
     "name": "stderr",
     "output_type": "stream",
     "text": [
      "100%|██████████| 1844/1844 [14:21<00:00,  2.14it/s]"
     ]
    },
    {
     "name": "stdout",
     "output_type": "stream",
     "text": [
      "***** completed translating data  *******\n"
     ]
    },
    {
     "name": "stderr",
     "output_type": "stream",
     "text": [
      "\n"
     ]
    }
   ],
   "source": [
    "# translating values\n",
    "questions_db['question_description'] = [dutch_to_english(x) for x in tqdm(questions_db['question_description'])]\n",
    "print(\"***** completed translating data  *******\")\n",
    "questions_db['subquestion_description'] = [dutch_to_english(x) for x in tqdm(questions_db['subquestion_description'])]\n",
    "print(\"***** completed translating data  *******\")\n",
    "questions_db['abbreviated_question'] = [dutch_to_english(x) for x in tqdm(questions_db['abbreviated_question'])]\n",
    "print(\"***** completed translating data  *******\")"
   ]
  },
  {
   "cell_type": "code",
   "execution_count": 11,
   "metadata": {},
   "outputs": [],
   "source": [
    "questions_db.to_csv('C:/Users/dsimo/OneDrive/2022-23d-1fcmgt-reg-ai-01-SD222667/src/GreenScape/GreenScape/src/greenscape/data/questions_db.csv')"
   ]
  },
  {
   "attachments": {},
   "cell_type": "markdown",
   "metadata": {},
   "source": [
    "##### preprocessing questions data done!\n",
    "----"
   ]
  },
  {
   "attachments": {},
   "cell_type": "markdown",
   "metadata": {},
   "source": [
    "### 7) Green index "
   ]
  },
  {
   "cell_type": "code",
   "execution_count": 25,
   "metadata": {},
   "outputs": [
    {
     "data": {
      "text/html": [
       "<div>\n",
       "<style scoped>\n",
       "    .dataframe tbody tr th:only-of-type {\n",
       "        vertical-align: middle;\n",
       "    }\n",
       "\n",
       "    .dataframe tbody tr th {\n",
       "        vertical-align: top;\n",
       "    }\n",
       "\n",
       "    .dataframe thead th {\n",
       "        text-align: right;\n",
       "    }\n",
       "</style>\n",
       "<table border=\"1\" class=\"dataframe\">\n",
       "  <thead>\n",
       "    <tr style=\"text-align: right;\">\n",
       "      <th></th>\n",
       "      <th>year</th>\n",
       "      <th>image_id</th>\n",
       "      <th>latitude</th>\n",
       "      <th>longitude</th>\n",
       "      <th>date</th>\n",
       "      <th>green_score</th>\n",
       "      <th>cbs_grid_code,,</th>\n",
       "    </tr>\n",
       "  </thead>\n",
       "  <tbody>\n",
       "    <tr>\n",
       "      <th>0</th>\n",
       "      <td>2018</td>\n",
       "      <td>G5cqqBoLsR_OGx0kZyr_bQ</td>\n",
       "      <td>51,581681454</td>\n",
       "      <td>4,7808467483</td>\n",
       "      <td>2018-09-01</td>\n",
       "      <td>8</td>\n",
       "      <td>E1129N3993</td>\n",
       "    </tr>\n",
       "    <tr>\n",
       "      <th>1</th>\n",
       "      <td>2018</td>\n",
       "      <td>G5cqqBoLsR_OGx0kZyr_bQ</td>\n",
       "      <td>51,581681454</td>\n",
       "      <td>4,7808467483</td>\n",
       "      <td>2018-09-01</td>\n",
       "      <td>6</td>\n",
       "      <td>E1129N3993</td>\n",
       "    </tr>\n",
       "    <tr>\n",
       "      <th>2</th>\n",
       "      <td>2016</td>\n",
       "      <td>G5Durc0VsRb3goPZXWpmUQ</td>\n",
       "      <td>51,620614209</td>\n",
       "      <td>4,7420451329</td>\n",
       "      <td>2016-08-01</td>\n",
       "      <td>86</td>\n",
       "      <td>E1103N4037</td>\n",
       "    </tr>\n",
       "    <tr>\n",
       "      <th>3</th>\n",
       "      <td>2016</td>\n",
       "      <td>G5Durc0VsRb3goPZXWpmUQ</td>\n",
       "      <td>51,620614209</td>\n",
       "      <td>4,7420451329</td>\n",
       "      <td>2016-08-01</td>\n",
       "      <td>84</td>\n",
       "      <td>E1103N4037</td>\n",
       "    </tr>\n",
       "    <tr>\n",
       "      <th>4</th>\n",
       "      <td>2016</td>\n",
       "      <td>G5Durc0VsRb3goPZXWpmUQ</td>\n",
       "      <td>51,620614209</td>\n",
       "      <td>4,7420451329</td>\n",
       "      <td>2016-08-01</td>\n",
       "      <td>49</td>\n",
       "      <td>E1103N4037</td>\n",
       "    </tr>\n",
       "  </tbody>\n",
       "</table>\n",
       "</div>"
      ],
      "text/plain": [
       "   year                image_id      latitude     longitude        date   \n",
       "0  2018  G5cqqBoLsR_OGx0kZyr_bQ  51,581681454  4,7808467483  2018-09-01  \\\n",
       "1  2018  G5cqqBoLsR_OGx0kZyr_bQ  51,581681454  4,7808467483  2018-09-01   \n",
       "2  2016  G5Durc0VsRb3goPZXWpmUQ  51,620614209  4,7420451329  2016-08-01   \n",
       "3  2016  G5Durc0VsRb3goPZXWpmUQ  51,620614209  4,7420451329  2016-08-01   \n",
       "4  2016  G5Durc0VsRb3goPZXWpmUQ  51,620614209  4,7420451329  2016-08-01   \n",
       "\n",
       "   green_score cbs_grid_code,,  \n",
       "0            8      E1129N3993  \n",
       "1            6      E1129N3993  \n",
       "2           86      E1103N4037  \n",
       "3           84      E1103N4037  \n",
       "4           49      E1103N4037  "
      ]
     },
     "execution_count": 25,
     "metadata": {},
     "output_type": "execute_result"
    }
   ],
   "source": [
    "green_index_df.head()"
   ]
  },
  {
   "cell_type": "code",
   "execution_count": 19,
   "metadata": {},
   "outputs": [
    {
     "name": "stdout",
     "output_type": "stream",
     "text": [
      "<class 'pandas.core.frame.DataFrame'>\n",
      "RangeIndex: 298038 entries, 0 to 298037\n",
      "Data columns (total 7 columns):\n",
      " #   Column           Non-Null Count   Dtype \n",
      "---  ------           --------------   ----- \n",
      " 0   year             298038 non-null  int64 \n",
      " 1   image_id         298038 non-null  object\n",
      " 2   latitude         298038 non-null  object\n",
      " 3   longitude        298038 non-null  object\n",
      " 4   date             298038 non-null  object\n",
      " 5   green_score      298038 non-null  int64 \n",
      " 6   cbs_grid_code,,  297984 non-null  object\n",
      "dtypes: int64(2), object(5)\n",
      "memory usage: 15.9+ MB\n"
     ]
    }
   ],
   "source": [
    "green_index_df.info()"
   ]
  },
  {
   "cell_type": "code",
   "execution_count": 20,
   "metadata": {},
   "outputs": [
    {
     "data": {
      "text/plain": [
       "year                0\n",
       "image_id            0\n",
       "latitude            0\n",
       "longitude           0\n",
       "date                0\n",
       "green_score         0\n",
       "cbs_grid_code,,    54\n",
       "dtype: int64"
      ]
     },
     "execution_count": 20,
     "metadata": {},
     "output_type": "execute_result"
    }
   ],
   "source": [
    "# printing all missing values from the df\n",
    "green_index_df.isnull().sum()"
   ]
  },
  {
   "cell_type": "code",
   "execution_count": 21,
   "metadata": {},
   "outputs": [],
   "source": [
    "# drop missing values and resetting indexes\n",
    "green_index_df.dropna(inplace=True)\n",
    "green_index_df.reset_index(inplace=True)\n",
    "green_index_df.drop('index',axis=1, inplace=True)"
   ]
  },
  {
   "cell_type": "code",
   "execution_count": 22,
   "metadata": {},
   "outputs": [
    {
     "data": {
      "text/plain": [
       "297984"
      ]
     },
     "execution_count": 22,
     "metadata": {},
     "output_type": "execute_result"
    }
   ],
   "source": [
    "len(green_index_df)"
   ]
  },
  {
   "cell_type": "code",
   "execution_count": 23,
   "metadata": {},
   "outputs": [],
   "source": [
    "# saving green_index to csv file\n",
    "green_index_df.to_csv('C:/Users/dsimo/OneDrive/2022-23d-1fcmgt-reg-ai-01-SD222667/src/GreenScape/GreenScape/src/greenscape/data/green_index_db.csv')"
   ]
  },
  {
   "attachments": {},
   "cell_type": "markdown",
   "metadata": {},
   "source": [
    "##### preprocessing green index done!\n",
    "---"
   ]
  },
  {
   "attachments": {},
   "cell_type": "markdown",
   "metadata": {},
   "source": [
    "### 8) Livability index  "
   ]
  },
  {
   "cell_type": "code",
   "execution_count": 26,
   "metadata": {},
   "outputs": [
    {
     "data": {
      "text/html": [
       "<div>\n",
       "<style scoped>\n",
       "    .dataframe tbody tr th:only-of-type {\n",
       "        vertical-align: middle;\n",
       "    }\n",
       "\n",
       "    .dataframe tbody tr th {\n",
       "        vertical-align: top;\n",
       "    }\n",
       "\n",
       "    .dataframe thead th {\n",
       "        text-align: right;\n",
       "    }\n",
       "</style>\n",
       "<table border=\"1\" class=\"dataframe\">\n",
       "  <thead>\n",
       "    <tr style=\"text-align: right;\">\n",
       "      <th></th>\n",
       "      <th>cbs_grid_code</th>\n",
       "      <th>livability_score</th>\n",
       "    </tr>\n",
       "  </thead>\n",
       "  <tbody>\n",
       "    <tr>\n",
       "      <th>0</th>\n",
       "      <td>E1068N3982</td>\n",
       "      <td>2.423907</td>\n",
       "    </tr>\n",
       "    <tr>\n",
       "      <th>1</th>\n",
       "      <td>E1071N4012</td>\n",
       "      <td>2.376780</td>\n",
       "    </tr>\n",
       "    <tr>\n",
       "      <th>2</th>\n",
       "      <td>E1073N4018</td>\n",
       "      <td>2.533115</td>\n",
       "    </tr>\n",
       "    <tr>\n",
       "      <th>3</th>\n",
       "      <td>E1074N4011</td>\n",
       "      <td>2.405825</td>\n",
       "    </tr>\n",
       "    <tr>\n",
       "      <th>4</th>\n",
       "      <td>E1074N4017</td>\n",
       "      <td>2.502466</td>\n",
       "    </tr>\n",
       "  </tbody>\n",
       "</table>\n",
       "</div>"
      ],
      "text/plain": [
       "  cbs_grid_code  livability_score\n",
       "0    E1068N3982          2.423907\n",
       "1    E1071N4012          2.376780\n",
       "2    E1073N4018          2.533115\n",
       "3    E1074N4011          2.405825\n",
       "4    E1074N4017          2.502466"
      ]
     },
     "execution_count": 26,
     "metadata": {},
     "output_type": "execute_result"
    }
   ],
   "source": [
    "livability_index_df.head()"
   ]
  },
  {
   "cell_type": "code",
   "execution_count": 27,
   "metadata": {},
   "outputs": [
    {
     "name": "stdout",
     "output_type": "stream",
     "text": [
      "<class 'pandas.core.frame.DataFrame'>\n",
      "RangeIndex: 2937 entries, 0 to 2936\n",
      "Data columns (total 2 columns):\n",
      " #   Column            Non-Null Count  Dtype  \n",
      "---  ------            --------------  -----  \n",
      " 0   cbs_grid_code     2937 non-null   object \n",
      " 1   livability_score  2937 non-null   float64\n",
      "dtypes: float64(1), object(1)\n",
      "memory usage: 46.0+ KB\n"
     ]
    }
   ],
   "source": [
    "livability_index_df.info()"
   ]
  },
  {
   "cell_type": "code",
   "execution_count": 28,
   "metadata": {},
   "outputs": [
    {
     "data": {
      "text/plain": [
       "cbs_grid_code       0\n",
       "livability_score    0\n",
       "dtype: int64"
      ]
     },
     "execution_count": 28,
     "metadata": {},
     "output_type": "execute_result"
    }
   ],
   "source": [
    "livability_index_df.isnull().sum()"
   ]
  },
  {
   "cell_type": "code",
   "execution_count": 29,
   "metadata": {},
   "outputs": [],
   "source": [
    "livability_index_df.to_csv('C:/Users/dsimo/OneDrive/2022-23d-1fcmgt-reg-ai-01-SD222667/src/GreenScape/GreenScape/src/greenscape/data/livability_index_db.csv')"
   ]
  }
 ],
 "metadata": {
  "kernelspec": {
   "display_name": "sqlenv",
   "language": "python",
   "name": "python3"
  },
  "language_info": {
   "codemirror_mode": {
    "name": "ipython",
    "version": 3
   },
   "file_extension": ".py",
   "mimetype": "text/x-python",
   "name": "python",
   "nbconvert_exporter": "python",
   "pygments_lexer": "ipython3",
   "version": "3.9.13"
  },
  "orig_nbformat": 4
 },
 "nbformat": 4,
 "nbformat_minor": 2
}
