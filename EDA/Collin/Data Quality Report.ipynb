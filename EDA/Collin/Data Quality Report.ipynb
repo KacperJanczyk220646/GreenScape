{
 "cells": [
  {
   "cell_type": "code",
   "execution_count": null,
   "metadata": {},
   "outputs": [],
   "source": [
    "import pandas as pd"
   ]
  },
  {
   "cell_type": "code",
   "execution_count": null,
   "metadata": {},
   "outputs": [],
   "source": [
    "def data_quality_report(data):\n",
    "    report = {}\n",
    "    report[\"Number of Rows\"] = len(data)\n",
    "    report[\"Number of Columns\"] = len(data.columns)\n",
    "    \n",
    "    report[\"Column Data Types\"] = data.dtypes\n",
    "    report[\"Number of Missing Values\"] = data.isnull().sum()\n",
    "    report[\"Percentage of Missing Values\"] = (data.isnull().sum() / len(data)) * 100\n",
    "    \n",
    "    report[\"Total Missing Values\"] = report[\"Number of Missing Values\"].sum()\n",
    "    report[\"Total Percentage of Missing Values\"] = (report[\"Total Missing Values\"] / (len(data) * len(data.columns))) * 100\n",
    "    \n",
    "    return pd.DataFrame(report)"
   ]
  },
  {
   "cell_type": "code",
   "execution_count": null,
   "metadata": {},
   "outputs": [],
   "source": [
    "data = pd.read_csv(\"./Datasets/Green.csv\")\n",
    "report = data_quality_report(data)\n",
    "\n",
    "print(report)\n",
    "\n",
    "data = pd.read_csv(\"./Datasets/Income.csv\")\n",
    "report = data_quality_report(data)\n",
    "\n",
    "print(report)"
   ]
  }
 ],
 "metadata": {
  "language_info": {
   "name": "python"
  },
  "orig_nbformat": 4
 },
 "nbformat": 4,
 "nbformat_minor": 2
}
