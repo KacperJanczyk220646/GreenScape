{
 "cells": [
  {
   "cell_type": "code",
   "execution_count": 1,
   "metadata": {},
   "outputs": [],
   "source": [
    "import pandas as pd"
   ]
  },
  {
   "cell_type": "code",
   "execution_count": 2,
   "metadata": {},
   "outputs": [],
   "source": [
    "def data_quality_report(data):\n",
    "    report = {}\n",
    "    report[\"Number of Rows\"] = len(data)\n",
    "    report[\"Number of Columns\"] = len(data.columns)\n",
    "    \n",
    "    report[\"Column Data Types\"] = data.dtypes\n",
    "    report[\"Number of Missing Values\"] = data.isnull().sum()\n",
    "    report[\"Percentage of Missing Values\"] = (data.isnull().sum() / len(data)) * 100\n",
    "    \n",
    "    report[\"Total Missing Values\"] = report[\"Number of Missing Values\"].sum()\n",
    "    report[\"Total Percentage of Missing Values\"] = (report[\"Total Missing Values\"] / (len(data) * len(data.columns))) * 100\n",
    "    \n",
    "    return pd.DataFrame(report)"
   ]
  },
  {
   "cell_type": "code",
   "execution_count": 3,
   "metadata": {},
   "outputs": [
    {
     "name": "stdout",
     "output_type": "stream",
     "text": [
      "               Number of Rows  Number of Columns Column Data Types   \n",
      "Year                   298038                  7             int64  \\\n",
      "Image ID               298038                  7            object   \n",
      "Latitude               298038                  7            object   \n",
      "Longitude              298038                  7            object   \n",
      "Date                   298038                  7            object   \n",
      "Green Score            298038                  7             int64   \n",
      "CBS Grid Code          298038                  7            object   \n",
      "\n",
      "               Number of Missing Values  Percentage of Missing Values   \n",
      "Year                                  0                      0.000000  \\\n",
      "Image ID                              0                      0.000000   \n",
      "Latitude                              0                      0.000000   \n",
      "Longitude                             0                      0.000000   \n",
      "Date                                  0                      0.000000   \n",
      "Green Score                           0                      0.000000   \n",
      "CBS Grid Code                        54                      0.018118   \n",
      "\n",
      "               Total Missing Values  Total Percentage of Missing Values  \n",
      "Year                             54                            0.002588  \n",
      "Image ID                         54                            0.002588  \n",
      "Latitude                         54                            0.002588  \n",
      "Longitude                        54                            0.002588  \n",
      "Date                             54                            0.002588  \n",
      "Green Score                      54                            0.002588  \n",
      "CBS Grid Code                    54                            0.002588  \n",
      "                     Number of Rows  Number of Columns Column Data Types   \n",
      "Neighborhood;Income              41                  1            object  \\\n",
      "\n",
      "                     Number of Missing Values  Percentage of Missing Values   \n",
      "Neighborhood;Income                         0                           0.0  \\\n",
      "\n",
      "                     Total Missing Values  Total Percentage of Missing Values  \n",
      "Neighborhood;Income                     0                                 0.0  \n"
     ]
    }
   ],
   "source": [
    "data = pd.read_csv(\"./Datasets/Green.csv\")\n",
    "report = data_quality_report(data)\n",
    "\n",
    "print(report)\n",
    "\n",
    "data = pd.read_csv(\"./Datasets/Income.csv\")\n",
    "report = data_quality_report(data)\n",
    "\n",
    "print(report)"
   ]
  }
 ],
 "metadata": {
  "kernelspec": {
   "display_name": "Python 3",
   "language": "python",
   "name": "python3"
  },
  "language_info": {
   "codemirror_mode": {
    "name": "ipython",
    "version": 3
   },
   "file_extension": ".py",
   "mimetype": "text/x-python",
   "name": "python",
   "nbconvert_exporter": "python",
   "pygments_lexer": "ipython3",
   "version": "3.11.3"
  },
  "orig_nbformat": 4
 },
 "nbformat": 4,
 "nbformat_minor": 2
}
