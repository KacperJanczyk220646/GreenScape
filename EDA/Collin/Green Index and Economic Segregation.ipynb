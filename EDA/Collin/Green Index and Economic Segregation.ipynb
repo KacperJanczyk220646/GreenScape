{
 "cells": [
  {
   "cell_type": "code",
   "execution_count": 1,
   "metadata": {},
   "outputs": [],
   "source": [
    "from shapely import Point\n",
    "from tqdm import tqdm\n",
    "import matplotlib.pyplot as plt\n",
    "import geopandas as gpd\n",
    "import pandas as pd"
   ]
  },
  {
   "cell_type": "code",
   "execution_count": 2,
   "metadata": {},
   "outputs": [],
   "source": [
    "shapefile = gpd.read_file(\"./Shapefiles/Breda.shp\")\n",
    "\n",
    "green = pd.read_csv(\"./Datasets/Green.csv\")\n",
    "income = pd.read_csv(\"./Datasets/Income.csv\")"
   ]
  },
  {
   "cell_type": "code",
   "execution_count": 3,
   "metadata": {},
   "outputs": [],
   "source": [
    "def identify_neighborhood(lon, lat):\n",
    "    point = Point(lon, lat)\n",
    "    for index, feature in shapefile.iterrows():\n",
    "        if feature.geometry.contains(point):\n",
    "            return feature[\"BUURT\"]\n",
    "    return \"Out of Bounds\"\n",
    "\n",
    "def calculate_average_green_index(neighborhood):\n",
    "    if neighborhood != \"Out of Bounds\":\n",
    "        neighborhood_green = green.loc[green[\"Neighborhood\"] == neighborhood]\n",
    "        if not neighborhood_green.empty:\n",
    "            return neighborhood_green[\"Green Score\"].mean()\n",
    "    return None"
   ]
  },
  {
   "cell_type": "code",
   "execution_count": 4,
   "metadata": {},
   "outputs": [
    {
     "name": "stderr",
     "output_type": "stream",
     "text": [
      "Splitting coordinates...: 100%|██████████| 2/2 [00:00<00:00,  5.74it/s]\n",
      "Converting to numeric...: 100%|██████████| 2/2 [00:00<00:00,  5.77it/s]\n",
      "Identifying neighborhoods...: 100%|██████████| 298038/298038 [03:43<00:00, 1336.37it/s]\n"
     ]
    }
   ],
   "source": [
    "tqdm.pandas(desc = \"Splitting coordinates...\")\n",
    "green[[\"Longitude\", \"Latitude\"]] = green[[\"Longitude\", \"Latitude\"]].progress_apply(lambda x: x.str.split(\",\"))\n",
    "\n",
    "tqdm.pandas(desc = \"Converting to numeric...\")\n",
    "green[[\"Longitude\", \"Latitude\"]] = green[[\"Longitude\", \"Latitude\"]].progress_apply(lambda x: pd.to_numeric(x.str[0] + \".\" + x.str[1]))\n",
    "\n",
    "tqdm.pandas(desc = \"Identifying neighborhoods...\")\n",
    "green[\"Neighborhood\"] = green.progress_apply(lambda row: identify_neighborhood(row[\"Longitude\"], row[\"Latitude\"]), axis = 1)"
   ]
  },
  {
   "cell_type": "code",
   "execution_count": 5,
   "metadata": {},
   "outputs": [
    {
     "name": "stdout",
     "output_type": "stream",
     "text": [
      "  Neighborhood  Income  Normalized Income\n",
      "0         City       2           0.333333\n",
      "1   Valkenberg       2           0.333333\n",
      "2       Chasse       2           0.333333\n",
      "3   Fellenoord       1           0.000000\n",
      "4   Schormolen       1           0.000000\n"
     ]
    },
    {
     "ename": "KeyError",
     "evalue": "('Normalized Income', 'Normalized Green Index', 'Relative Difference', 'Controlled Green Index')",
     "output_type": "error",
     "traceback": [
      "\u001b[0;31m---------------------------------------------------------------------------\u001b[0m",
      "\u001b[0;31mKeyError\u001b[0m                                  Traceback (most recent call last)",
      "File \u001b[0;32m~/.pyenv/versions/3.11.3/lib/python3.11/site-packages/pandas/core/indexes/base.py:3652\u001b[0m, in \u001b[0;36mIndex.get_loc\u001b[0;34m(self, key)\u001b[0m\n\u001b[1;32m   3651\u001b[0m \u001b[39mtry\u001b[39;00m:\n\u001b[0;32m-> 3652\u001b[0m     \u001b[39mreturn\u001b[39;00m \u001b[39mself\u001b[39;49m\u001b[39m.\u001b[39;49m_engine\u001b[39m.\u001b[39;49mget_loc(casted_key)\n\u001b[1;32m   3653\u001b[0m \u001b[39mexcept\u001b[39;00m \u001b[39mKeyError\u001b[39;00m \u001b[39mas\u001b[39;00m err:\n",
      "File \u001b[0;32m~/.pyenv/versions/3.11.3/lib/python3.11/site-packages/pandas/_libs/index.pyx:147\u001b[0m, in \u001b[0;36mpandas._libs.index.IndexEngine.get_loc\u001b[0;34m()\u001b[0m\n",
      "File \u001b[0;32m~/.pyenv/versions/3.11.3/lib/python3.11/site-packages/pandas/_libs/index.pyx:176\u001b[0m, in \u001b[0;36mpandas._libs.index.IndexEngine.get_loc\u001b[0;34m()\u001b[0m\n",
      "File \u001b[0;32mpandas/_libs/hashtable_class_helper.pxi:7080\u001b[0m, in \u001b[0;36mpandas._libs.hashtable.PyObjectHashTable.get_item\u001b[0;34m()\u001b[0m\n",
      "File \u001b[0;32mpandas/_libs/hashtable_class_helper.pxi:7088\u001b[0m, in \u001b[0;36mpandas._libs.hashtable.PyObjectHashTable.get_item\u001b[0;34m()\u001b[0m\n",
      "\u001b[0;31mKeyError\u001b[0m: ('Normalized Income', 'Normalized Green Index', 'Relative Difference', 'Controlled Green Index')",
      "\nThe above exception was the direct cause of the following exception:\n",
      "\u001b[0;31mKeyError\u001b[0m                                  Traceback (most recent call last)",
      "Cell \u001b[0;32mIn[5], line 26\u001b[0m\n\u001b[1;32m     22\u001b[0m max_controlled_green \u001b[39m=\u001b[39m merged[\u001b[39m\"\u001b[39m\u001b[39mControlled Green Index\u001b[39m\u001b[39m\"\u001b[39m]\u001b[39m.\u001b[39mmax()\n\u001b[1;32m     24\u001b[0m merged[\u001b[39m\"\u001b[39m\u001b[39mRelative Difference\u001b[39m\u001b[39m\"\u001b[39m] \u001b[39m=\u001b[39m merged[\u001b[39m\"\u001b[39m\u001b[39mNormalized Green Index\u001b[39m\u001b[39m\"\u001b[39m] \u001b[39m-\u001b[39m merged[\u001b[39m\"\u001b[39m\u001b[39mControlled Green Index\u001b[39m\u001b[39m\"\u001b[39m]\n\u001b[0;32m---> 26\u001b[0m merged[\u001b[39m\"\u001b[39;49m\u001b[39mNormalized Income\u001b[39;49m\u001b[39m\"\u001b[39;49m, \u001b[39m\"\u001b[39;49m\u001b[39mNormalized Green Index\u001b[39;49m\u001b[39m\"\u001b[39;49m, \u001b[39m\"\u001b[39;49m\u001b[39mRelative Difference\u001b[39;49m\u001b[39m\"\u001b[39;49m, \u001b[39m\"\u001b[39;49m\u001b[39mControlled Green Index\u001b[39;49m\u001b[39m\"\u001b[39;49m]\u001b[39m.\u001b[39mfillna(\u001b[39m0\u001b[39m, inplace \u001b[39m=\u001b[39m \u001b[39mTrue\u001b[39;00m)\n\u001b[1;32m     27\u001b[0m merged[\u001b[39m\"\u001b[39m\u001b[39mNormalized Controlled Green Index\u001b[39m\u001b[39m\"\u001b[39m] \u001b[39m=\u001b[39m (merged[\u001b[39m\"\u001b[39m\u001b[39mControlled Green Index\u001b[39m\u001b[39m\"\u001b[39m] \u001b[39m-\u001b[39m min_controlled_green) \u001b[39m/\u001b[39m (max_controlled_green \u001b[39m-\u001b[39m min_controlled_green)\n",
      "File \u001b[0;32m~/.pyenv/versions/3.11.3/lib/python3.11/site-packages/geopandas/geodataframe.py:1475\u001b[0m, in \u001b[0;36mGeoDataFrame.__getitem__\u001b[0;34m(self, key)\u001b[0m\n\u001b[1;32m   1469\u001b[0m \u001b[39mdef\u001b[39;00m \u001b[39m__getitem__\u001b[39m(\u001b[39mself\u001b[39m, key):\n\u001b[1;32m   1470\u001b[0m \u001b[39m    \u001b[39m\u001b[39m\"\"\"\u001b[39;00m\n\u001b[1;32m   1471\u001b[0m \u001b[39m    If the result is a column containing only 'geometry', return a\u001b[39;00m\n\u001b[1;32m   1472\u001b[0m \u001b[39m    GeoSeries. If it's a DataFrame with any columns of GeometryDtype,\u001b[39;00m\n\u001b[1;32m   1473\u001b[0m \u001b[39m    return a GeoDataFrame.\u001b[39;00m\n\u001b[1;32m   1474\u001b[0m \u001b[39m    \"\"\"\u001b[39;00m\n\u001b[0;32m-> 1475\u001b[0m     result \u001b[39m=\u001b[39m \u001b[39msuper\u001b[39;49m()\u001b[39m.\u001b[39;49m\u001b[39m__getitem__\u001b[39;49m(key)\n\u001b[1;32m   1476\u001b[0m     \u001b[39m# Custom logic to avoid waiting for pandas GH51895\u001b[39;00m\n\u001b[1;32m   1477\u001b[0m     \u001b[39m# result is not geometry dtype for multi-indexes\u001b[39;00m\n\u001b[1;32m   1478\u001b[0m     \u001b[39mif\u001b[39;00m (\n\u001b[1;32m   1479\u001b[0m         pd\u001b[39m.\u001b[39mapi\u001b[39m.\u001b[39mtypes\u001b[39m.\u001b[39mis_scalar(key)\n\u001b[1;32m   1480\u001b[0m         \u001b[39mand\u001b[39;00m key \u001b[39m==\u001b[39m \u001b[39m\"\u001b[39m\u001b[39m\"\u001b[39m\n\u001b[0;32m   (...)\u001b[0m\n\u001b[1;32m   1483\u001b[0m         \u001b[39mand\u001b[39;00m \u001b[39mnot\u001b[39;00m is_geometry_type(result)\n\u001b[1;32m   1484\u001b[0m     ):\n",
      "File \u001b[0;32m~/.pyenv/versions/3.11.3/lib/python3.11/site-packages/pandas/core/frame.py:3761\u001b[0m, in \u001b[0;36mDataFrame.__getitem__\u001b[0;34m(self, key)\u001b[0m\n\u001b[1;32m   3759\u001b[0m \u001b[39mif\u001b[39;00m \u001b[39mself\u001b[39m\u001b[39m.\u001b[39mcolumns\u001b[39m.\u001b[39mnlevels \u001b[39m>\u001b[39m \u001b[39m1\u001b[39m:\n\u001b[1;32m   3760\u001b[0m     \u001b[39mreturn\u001b[39;00m \u001b[39mself\u001b[39m\u001b[39m.\u001b[39m_getitem_multilevel(key)\n\u001b[0;32m-> 3761\u001b[0m indexer \u001b[39m=\u001b[39m \u001b[39mself\u001b[39;49m\u001b[39m.\u001b[39;49mcolumns\u001b[39m.\u001b[39;49mget_loc(key)\n\u001b[1;32m   3762\u001b[0m \u001b[39mif\u001b[39;00m is_integer(indexer):\n\u001b[1;32m   3763\u001b[0m     indexer \u001b[39m=\u001b[39m [indexer]\n",
      "File \u001b[0;32m~/.pyenv/versions/3.11.3/lib/python3.11/site-packages/pandas/core/indexes/base.py:3654\u001b[0m, in \u001b[0;36mIndex.get_loc\u001b[0;34m(self, key)\u001b[0m\n\u001b[1;32m   3652\u001b[0m     \u001b[39mreturn\u001b[39;00m \u001b[39mself\u001b[39m\u001b[39m.\u001b[39m_engine\u001b[39m.\u001b[39mget_loc(casted_key)\n\u001b[1;32m   3653\u001b[0m \u001b[39mexcept\u001b[39;00m \u001b[39mKeyError\u001b[39;00m \u001b[39mas\u001b[39;00m err:\n\u001b[0;32m-> 3654\u001b[0m     \u001b[39mraise\u001b[39;00m \u001b[39mKeyError\u001b[39;00m(key) \u001b[39mfrom\u001b[39;00m \u001b[39merr\u001b[39;00m\n\u001b[1;32m   3655\u001b[0m \u001b[39mexcept\u001b[39;00m \u001b[39mTypeError\u001b[39;00m:\n\u001b[1;32m   3656\u001b[0m     \u001b[39m# If we have a listlike key, _check_indexing_error will raise\u001b[39;00m\n\u001b[1;32m   3657\u001b[0m     \u001b[39m#  InvalidIndexError. Otherwise we fall through and re-raise\u001b[39;00m\n\u001b[1;32m   3658\u001b[0m     \u001b[39m#  the TypeError.\u001b[39;00m\n\u001b[1;32m   3659\u001b[0m     \u001b[39mself\u001b[39m\u001b[39m.\u001b[39m_check_indexing_error(key)\n",
      "\u001b[0;31mKeyError\u001b[0m: ('Normalized Income', 'Normalized Green Index', 'Relative Difference', 'Controlled Green Index')"
     ]
    }
   ],
   "source": [
    "averages = income.copy()\n",
    "averages[[\"Neighborhood\", \"Income\"]] = averages[\"Neighborhood;Income\"].str.split(\";\", expand = True)\n",
    "averages = averages.drop(columns = [\"Neighborhood;Income\"])\n",
    "averages[\"Income\"] = pd.to_numeric(averages[\"Income\"], errors = \"coerce\")\n",
    "\n",
    "min_income, max_income = averages[\"Income\"].min(), averages[\"Income\"].max()\n",
    "averages[\"Normalized Income\"] = (averages[\"Income\"] - min_income) / (max_income - min_income)\n",
    "\n",
    "print(averages.head())\n",
    "averages[\"Average Green Index\"] = averages.apply(lambda row: calculate_average_green_index(row[\"Neighborhood\"]), axis = 1)\n",
    "\n",
    "min_green, max_green = averages[\"Average Green Index\"].min(), averages[\"Average Green Index\"].max()\n",
    "averages[\"Normalized Green Index\"] = (averages[\"Average Green Index\"] - min_green) / (max_green - min_green)\n",
    "\n",
    "merged = shapefile.merge(averages, left_on = \"BUURT\", right_on = \"Neighborhood\", how = \"left\")\n",
    "\n",
    "correlation = merged[[\"Normalized Green Index\", \"Normalized Income\"]].corr().iloc[0, 1]\n",
    "\n",
    "merged[\"Controlled Green Index\"] = merged[\"Normalized Green Index\"] - (correlation * merged[\"Normalized Income\"])\n",
    "\n",
    "min_controlled_green = merged[\"Controlled Green Index\"].min()\n",
    "max_controlled_green = merged[\"Controlled Green Index\"].max()\n",
    "\n",
    "merged[\"Relative Difference\"] = merged[\"Normalized Green Index\"] - merged[\"Controlled Green Index\"]\n",
    "\n",
    "merged[\"Controlled Green Index\"].fillna(0, inplace = True)\n",
    "merged[\"Normalized Controlled Green Index\"] = (merged[\"Controlled Green Index\"] - min_controlled_green) / (max_controlled_green - min_controlled_green)"
   ]
  },
  {
   "cell_type": "code",
   "execution_count": null,
   "metadata": {},
   "outputs": [],
   "source": [
    "fig, (ax1, ax2, ax3, ax4) = plt.subplots(nrows = 1, ncols = 4, figsize = (24, 6))\n",
    "\n",
    "merged.plot(\n",
    "    column = \"Normalized Income\",\n",
    "    cmap = \"Blues\",\n",
    "    linewidth = 0.8,\n",
    "    ax = ax1,\n",
    "    edgecolor = \"Black\",\n",
    "    legend = True,\n",
    "    vmin = 0,\n",
    "    vmax = 1\n",
    ")\n",
    "ax1.set_title(\"Average Income\")\n",
    "\n",
    "merged.plot(\n",
    "    column = \"Normalized Green Index\",\n",
    "    cmap = \"Greens\",\n",
    "    linewidth = 0.8,\n",
    "    ax = ax2,\n",
    "    edgecolor = \"Black\",\n",
    "    legend = True,\n",
    "    vmin = 0,\n",
    "    vmax = 1\n",
    ")\n",
    "ax2.set_title(\"Average Green Score\")\n",
    "\n",
    "merged.plot(\n",
    "    column = \"Controlled Green Index\",\n",
    "    cmap = \"Greens\",\n",
    "    linewidth = 0.8,\n",
    "    ax = ax3, \n",
    "    edgecolor = \"Black\",\n",
    "    legend = True,\n",
    "    vmin = 0,\n",
    "    vmax = 1\n",
    ")\n",
    "ax3.set_title(\"Green Index Controlled for Income\")\n",
    "\n",
    "merged.plot(\n",
    "    column = \"Relative Difference\",\n",
    "    cmap = \"Reds\",\n",
    "    linewidth = 0.8,\n",
    "    ax = ax4,\n",
    "    edgecolor = \"Black\",\n",
    "    legend = True,\n",
    "    vmin = 0,\n",
    "    vmax = 1\n",
    ")\n",
    "ax4.set_title(\"Uncontrolled vs Controlled Difference\")\n",
    "\n",
    "ax1.set_axis_off()\n",
    "ax2.set_axis_off()\n",
    "ax3.set_axis_off()\n",
    "ax4.set_axis_off()\n",
    "\n",
    "plt.show()"
   ]
  }
 ],
 "metadata": {
  "kernelspec": {
   "display_name": "Python 3",
   "language": "python",
   "name": "python3"
  },
  "language_info": {
   "codemirror_mode": {
    "name": "ipython",
    "version": 3
   },
   "file_extension": ".py",
   "mimetype": "text/x-python",
   "name": "python",
   "nbconvert_exporter": "python",
   "pygments_lexer": "ipython3",
   "version": "3.11.3"
  },
  "orig_nbformat": 4
 },
 "nbformat": 4,
 "nbformat_minor": 2
}
