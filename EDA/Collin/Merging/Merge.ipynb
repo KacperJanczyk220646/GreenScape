{
 "cells": [
  {
   "cell_type": "code",
   "execution_count": null,
   "metadata": {},
   "outputs": [],
   "source": [
    "import pandas as pd"
   ]
  },
  {
   "cell_type": "code",
   "execution_count": null,
   "metadata": {},
   "outputs": [],
   "source": [
    "collin = pd.read_csv(\"./Datasets/Collin.csv\")\n",
    "kacper = pd.read_csv(\"./Datasets/Kacper.csv\")\n",
    "simona = pd.read_csv(\"./Datasets/Simona.csv\")\n",
    "\n",
    "merged = pd.merge(kacper, simona, left_on = \"neighborhood_name\", right_on = \"neighborhood\")\n",
    "merged = pd.merge(merged, collin, left_on = \"neighborhood\", right_on = \"Neighborhood\", how = \"left\")\n",
    "\n",
    "compression = {\"method\": \"zip\"}\n",
    "merged.to_csv(f\"./Datasets/Output.zip\", compression = compression)"
   ]
  }
 ],
 "metadata": {
  "kernelspec": {
   "display_name": "Python 3",
   "language": "python",
   "name": "python3"
  },
  "language_info": {
   "codemirror_mode": {
    "name": "ipython",
    "version": 3
   },
   "file_extension": ".py",
   "mimetype": "text/x-python",
   "name": "python",
   "nbconvert_exporter": "python",
   "pygments_lexer": "ipython3",
   "version": "3.11.3"
  },
  "orig_nbformat": 4
 },
 "nbformat": 4,
 "nbformat_minor": 2
}
