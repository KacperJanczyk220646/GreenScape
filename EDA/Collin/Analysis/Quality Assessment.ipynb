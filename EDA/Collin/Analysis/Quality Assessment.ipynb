{
 "cells": [
  {
   "cell_type": "code",
   "execution_count": 4,
   "metadata": {},
   "outputs": [],
   "source": [
    "import pandas as pd"
   ]
  },
  {
   "cell_type": "code",
   "execution_count": 5,
   "metadata": {},
   "outputs": [],
   "source": [
    "data = pd.read_csv(\"./Datasets/Income.csv\")"
   ]
  },
  {
   "cell_type": "code",
   "execution_count": 6,
   "metadata": {},
   "outputs": [
    {
     "name": "stdout",
     "output_type": "stream",
     "text": [
      "              Number of Rows  Number of Columns Column Data Types  \\\n",
      "Neighborhood              41                  2            object   \n",
      "Income Index              41                  2             int64   \n",
      "\n",
      "              Number of Missing Values  Percentage of Missing Values  \\\n",
      "Neighborhood                         0                           0.0   \n",
      "Income Index                         0                           0.0   \n",
      "\n",
      "              Total Missing Values  Total Percentage of Missing Values  \n",
      "Neighborhood                     0                                 0.0  \n",
      "Income Index                     0                                 0.0  \n"
     ]
    }
   ],
   "source": [
    "def data_quality_report(data): \n",
    "    report = {} \n",
    "\n",
    "    report['Number of Rows'] = len(data) \n",
    "    report['Number of Columns'] = len(data.columns) \n",
    "    report['Column Data Types'] = data.dtypes \n",
    "\n",
    "    report['Number of Missing Values'] = data.isnull().sum() \n",
    "    report['Percentage of Missing Values'] = (data.isnull().sum() / len(data)) * 100 \n",
    "    report['Total Missing Values'] = report['Number of Missing Values'].sum() \n",
    "    report['Total Percentage of Missing Values'] = (report['Total Missing Values'] / (len(data) * len(data.columns))) * 100 \n",
    "\n",
    "    return pd.DataFrame(report)\n",
    "\n",
    "report = data_quality_report(data) \n",
    "print(report)"
   ]
  }
 ],
 "metadata": {
  "kernelspec": {
   "display_name": "Python 3",
   "language": "python",
   "name": "python3"
  },
  "language_info": {
   "codemirror_mode": {
    "name": "ipython",
    "version": 3
   },
   "file_extension": ".py",
   "mimetype": "text/x-python",
   "name": "python",
   "nbconvert_exporter": "python",
   "pygments_lexer": "ipython3",
   "version": "3.11.4"
  },
  "orig_nbformat": 4
 },
 "nbformat": 4,
 "nbformat_minor": 2
}
