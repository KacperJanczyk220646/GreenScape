{
 "cells": [
  {
   "cell_type": "code",
   "execution_count": 1,
   "metadata": {},
   "outputs": [],
   "source": [
    "import pandas as pd\n",
    "from sklearn.ensemble import RandomForestRegressor\n",
    "import ipywidgets as widgets"
   ]
  },
  {
   "cell_type": "code",
   "execution_count": 3,
   "metadata": {},
   "outputs": [
    {
     "name": "stderr",
     "output_type": "stream",
     "text": [
      "/var/folders/yj/tlnytz_95x13vfm_gll8n6xh0000gn/T/ipykernel_90198/2458645879.py:1: DtypeWarning: Columns (22,26) have mixed types. Specify dtype option on import or set low_memory=False.\n",
      "  data = pd.read_csv(\"./Datasets/Output.csv\")\n"
     ]
    },
    {
     "name": "stdout",
     "output_type": "stream",
     "text": [
      "Index(['Unnamed: 0.1', 'Districts and neighbourhoods',\n",
      "       'Registered nuisance (number)', 'year_x', 'latitude', 'longitude',\n",
      "       'cbs_grid_code', 'date', 'green_score', 'livability_score_x',\n",
      "       'neighborhood_name', 'TotalHouses', 'Population', 'Unnamed: 0', 'index',\n",
      "       'neighborhood', 'regions', 'year_y', 'livability_score_y', 'income',\n",
      "       'population', 'working_population', 'total_job_growth', 'Neighborhood',\n",
      "       'Income Index', 'Average Green Score', 'Average Income', 'Year',\n",
      "       'Electricity Consumption: total (kwh)', 'Natural Gas Consumption (m3)',\n",
      "       'Energy Consumption (including regenerative heat, solar power, motorways) (TJ)',\n",
      "       'Electricity consumption of all homes (kwh)',\n",
      "       'Gas consumption all homes (m3)',\n",
      "       'Electricity consumption companies and institutions (kwh)',\n",
      "       'Gas consumption by companies and institutions (m3)',\n",
      "       'Power of registered solar panels homes (kw peak)',\n",
      "       'Power of registered solar panels companies (kw peak)',\n",
      "       'Number of installations with registered solar panels in homes (number)',\n",
      "       'Number of installations with registered solar panel companies (number)',\n",
      "       'Renewable energy (%)', 'Renewable electricity (%)',\n",
      "       'CO2 emissions Traffic and transport incl. motorways and roads, excl. electr. rail traffic (tonnes)',\n",
      "       'CO2 emissions companies and institutions (tonnes)',\n",
      "       'CO2 emissions from homes, temperature corrected (tonnes)',\n",
      "       'CO2 emissions total (tonnes)',\n",
      "       'Energy Consumption (including regenerative heat, solar power, motorways) (kwh)',\n",
      "       'Renewable electricity (kwh)', 'Renewable energy (kwh)'],\n",
      "      dtype='object')\n"
     ]
    }
   ],
   "source": [
    "data = pd.read_csv(\"./Datasets/Output.csv\")\n",
    "data = data.loc[[\"Neighborhood\", \"Average Green Score\", \"Average Income\"]]\n",
    "\n",
    "target = \"Average Income\"\n",
    "\n",
    "causes = data.columns.drop(target)\n",
    "\n",
    "model = RandomForestRegressor()\n",
    "model.fit(data[causes], data[target])\n",
    "\n",
    "sliders = {}\n",
    "\n",
    "button = widgets.Button(description=\"Predict\")"
   ]
  },
  {
   "cell_type": "code",
   "execution_count": null,
   "metadata": {},
   "outputs": [],
   "source": [
    "for feature in causes:\n",
    "    min_val = data[feature].min()\n",
    "    max_val = data[feature].max()\n",
    "    sliders[feature] = widgets.FloatSlider(\n",
    "        value = data.loc[0, feature],\n",
    "        min = min_val,\n",
    "        max = max_val,\n",
    "        step = 0.01,\n",
    "        description = feature\n",
    "    )"
   ]
  },
  {
   "cell_type": "code",
   "execution_count": null,
   "metadata": {},
   "outputs": [],
   "source": [
    "def predict_change(**kwargs):\n",
    "    row = data.loc[0].copy()\n",
    "    \n",
    "    for feature, value in kwargs.items():\n",
    "        row[feature] = value\n",
    "    \n",
    "    predicted_change = model.predict([row[causes]])[0]\n",
    "    \n",
    "    print(f\"Predicted change in {target}: {predicted_change:.2f}\")\n",
    "\n",
    "def on_button_click(b):\n",
    "    slider_values = {feature: slider.value for feature, slider in sliders.items()}\n",
    "    \n",
    "    predict_change(** slider_values)\n"
   ]
  },
  {
   "cell_type": "code",
   "execution_count": null,
   "metadata": {},
   "outputs": [],
   "source": [
    "button.on_click(on_button_click)\n",
    "display(* sliders.values(), button)"
   ]
  }
 ],
 "metadata": {
  "kernelspec": {
   "display_name": "Python 3",
   "language": "python",
   "name": "python3"
  },
  "language_info": {
   "codemirror_mode": {
    "name": "ipython",
    "version": 3
   },
   "file_extension": ".py",
   "mimetype": "text/x-python",
   "name": "python",
   "nbconvert_exporter": "python",
   "pygments_lexer": "ipython3",
   "version": "3.11.3"
  },
  "orig_nbformat": 4
 },
 "nbformat": 4,
 "nbformat_minor": 2
}
