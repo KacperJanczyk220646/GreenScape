{
 "cells": [
  {
   "attachments": {},
   "cell_type": "markdown",
   "metadata": {},
   "source": [
    "# GreenScape - Machine Learning Algorithm Lifecycle"
   ]
  },
  {
   "attachments": {},
   "cell_type": "markdown",
   "metadata": {},
   "source": [
    "### This file serves as a documentation for Machine Learning Project Lifecycle of Team GreenScape's project member - Kacper (personal contribution)"
   ]
  },
  {
   "attachments": {},
   "cell_type": "markdown",
   "metadata": {},
   "source": [
    "### 1. Data Preprocessing (from final merged CSV file)"
   ]
  },
  {
   "cell_type": "code",
   "execution_count": 1,
   "metadata": {},
   "outputs": [
    {
     "name": "stderr",
     "output_type": "stream",
     "text": [
      "C:\\Users\\kacpe\\AppData\\Local\\Temp\\ipykernel_70352\\3246404991.py:4: DtypeWarning: Columns (22,26) have mixed types. Specify dtype option on import or set low_memory=False.\n",
      "  df = pd.read_csv('Output.csv')\n"
     ]
    },
    {
     "name": "stdout",
     "output_type": "stream",
     "text": [
      "<class 'pandas.core.frame.DataFrame'>\n",
      "RangeIndex: 5169348 entries, 0 to 5169347\n",
      "Data columns (total 48 columns):\n",
      " #   Column                                                                                              Dtype  \n",
      "---  ------                                                                                              -----  \n",
      " 0   Unnamed: 0.1                                                                                        int64  \n",
      " 1   Districts and neighbourhoods                                                                        object \n",
      " 2   Registered nuisance (number)                                                                        int64  \n",
      " 3   year_x                                                                                              int64  \n",
      " 4   latitude                                                                                            float64\n",
      " 5   longitude                                                                                           float64\n",
      " 6   cbs_grid_code                                                                                       object \n",
      " 7   date                                                                                                object \n",
      " 8   green_score                                                                                         float64\n",
      " 9   livability_score_x                                                                                  float64\n",
      " 10  neighborhood_name                                                                                   object \n",
      " 11  TotalHouses                                                                                         int64  \n",
      " 12  Population                                                                                          int64  \n",
      " 13  Unnamed: 0                                                                                          int64  \n",
      " 14  index                                                                                               int64  \n",
      " 15  neighborhood                                                                                        object \n",
      " 16  regions                                                                                             object \n",
      " 17  year_y                                                                                              int64  \n",
      " 18  livability_score_y                                                                                  float64\n",
      " 19  income                                                                                              int64  \n",
      " 20  population                                                                                          int64  \n",
      " 21  working_population                                                                                  int64  \n",
      " 22  total_job_growth                                                                                    object \n",
      " 23  Neighborhood                                                                                        object \n",
      " 24  Income Index                                                                                        float64\n",
      " 25  Average Green Score                                                                                 float64\n",
      " 26  Average Income                                                                                      object \n",
      " 27  Year                                                                                                int64  \n",
      " 28  Electricity Consumption: total (kwh)                                                                int64  \n",
      " 29  Natural Gas Consumption (m3)                                                                        float64\n",
      " 30  Energy Consumption (including regenerative heat, solar power, motorways) (TJ)                       float64\n",
      " 31  Electricity consumption of all homes (kwh)                                                          float64\n",
      " 32  Gas consumption all homes (m3)                                                                      float64\n",
      " 33  Electricity consumption companies and institutions (kwh)                                            float64\n",
      " 34  Gas consumption by companies and institutions (m3)                                                  float64\n",
      " 35  Power of registered solar panels homes (kw peak)                                                    float64\n",
      " 36  Power of registered solar panels companies (kw peak)                                                float64\n",
      " 37  Number of installations with registered solar panels in homes (number)                              float64\n",
      " 38  Number of installations with registered solar panel companies (number)                              float64\n",
      " 39  Renewable energy (%)                                                                                float64\n",
      " 40  Renewable electricity (%)                                                                           float64\n",
      " 41  CO2 emissions Traffic and transport incl. motorways and roads, excl. electr. rail traffic (tonnes)  float64\n",
      " 42  CO2 emissions companies and institutions (tonnes)                                                   float64\n",
      " 43  CO2 emissions from homes, temperature corrected (tonnes)                                            float64\n",
      " 44  CO2 emissions total (tonnes)                                                                        float64\n",
      " 45  Energy Consumption (including regenerative heat, solar power, motorways) (kwh)                      float64\n",
      " 46  Renewable electricity (kwh)                                                                         float64\n",
      " 47  Renewable energy (kwh)                                                                              float64\n",
      "dtypes: float64(26), int64(13), object(9)\n",
      "memory usage: 1.8+ GB\n"
     ]
    }
   ],
   "source": [
    "import pandas as pd\n",
    "\n",
    "# Load the dataframe from the 'Output.csv' file\n",
    "df = pd.read_csv('Output.csv')\n",
    "\n",
    "# Display information about the dataframe\n",
    "df.info()"
   ]
  },
  {
   "cell_type": "code",
   "execution_count": 2,
   "metadata": {},
   "outputs": [],
   "source": [
    "# Drop specified columns from the dataframe\n",
    "df = df.drop(columns=[\n",
    "    'Unnamed: 0.1', 'Districts and neighbourhoods', 'cbs_grid_code', 'Unnamed: 0', 'index', 'neighborhood', 'regions', \n",
    "    'year_y', 'livability_score_y', 'population', 'Neighborhood', 'Income Index', 'Average Green Score', 'latitude', \n",
    "    'longitude', 'date', 'working_population', 'Average Income', 'Year', 'Natural Gas Consumption (m3)', \n",
    "    'Energy Consumption (including regenerative heat, solar power, motorways) (TJ)', \n",
    "    'Electricity consumption of all homes (kwh)', 'Electricity consumption of all homes (kwh)', \n",
    "    'Electricity consumption companies and institutions (kwh)', 'Gas consumption by companies and institutions (m3)', \n",
    "    'Power of registered solar panels homes (kw peak)', 'Power of registered solar panels companies (kw peak)', \n",
    "    'Number of installations with registered solar panels in homes (number)', \n",
    "    'Number of installations with registered solar panel companies (number)', 'Renewable energy (%)', \n",
    "    'Renewable electricity (%)', 'CO2 emissions Traffic and transport incl. motorways and roads, excl. electr. rail traffic (tonnes)', \n",
    "    'CO2 emissions companies and institutions (tonnes)', 'CO2 emissions total (tonnes)', \n",
    "    'Energy Consumption (including regenerative heat, solar power, motorways) (kwh)', 'Renewable electricity (kwh)', \n",
    "    'Renewable energy (kwh)'\n",
    "])"
   ]
  },
  {
   "cell_type": "code",
   "execution_count": 3,
   "metadata": {},
   "outputs": [
    {
     "name": "stdout",
     "output_type": "stream",
     "text": [
      "<class 'pandas.core.frame.DataFrame'>\n",
      "RangeIndex: 5169348 entries, 0 to 5169347\n",
      "Data columns (total 12 columns):\n",
      " #   Column                                                    Dtype  \n",
      "---  ------                                                    -----  \n",
      " 0   Registered nuisance (number)                              int64  \n",
      " 1   year_x                                                    int64  \n",
      " 2   green_score                                               float64\n",
      " 3   livability_score_x                                        float64\n",
      " 4   neighborhood_name                                         object \n",
      " 5   TotalHouses                                               int64  \n",
      " 6   Population                                                int64  \n",
      " 7   income                                                    int64  \n",
      " 8   total_job_growth                                          object \n",
      " 9   Electricity Consumption: total (kwh)                      int64  \n",
      " 10  Gas consumption all homes (m3)                            float64\n",
      " 11  CO2 emissions from homes, temperature corrected (tonnes)  float64\n",
      "dtypes: float64(4), int64(6), object(2)\n",
      "memory usage: 473.3+ MB\n"
     ]
    }
   ],
   "source": [
    "# Printing out information on the dataframe, after removing unnecessary columns\n",
    "df.info()"
   ]
  },
  {
   "cell_type": "code",
   "execution_count": 4,
   "metadata": {},
   "outputs": [
    {
     "data": {
      "text/html": [
       "<div>\n",
       "<style scoped>\n",
       "    .dataframe tbody tr th:only-of-type {\n",
       "        vertical-align: middle;\n",
       "    }\n",
       "\n",
       "    .dataframe tbody tr th {\n",
       "        vertical-align: top;\n",
       "    }\n",
       "\n",
       "    .dataframe thead th {\n",
       "        text-align: right;\n",
       "    }\n",
       "</style>\n",
       "<table border=\"1\" class=\"dataframe\">\n",
       "  <thead>\n",
       "    <tr style=\"text-align: right;\">\n",
       "      <th></th>\n",
       "      <th>Registered nuisance (number)</th>\n",
       "      <th>year_x</th>\n",
       "      <th>green_score</th>\n",
       "      <th>livability_score_x</th>\n",
       "      <th>neighborhood_name</th>\n",
       "      <th>TotalHouses</th>\n",
       "      <th>Population</th>\n",
       "      <th>income</th>\n",
       "      <th>total_job_growth</th>\n",
       "      <th>Electricity Consumption: total (kwh)</th>\n",
       "      <th>Gas consumption all homes (m3)</th>\n",
       "      <th>CO2 emissions from homes, temperature corrected (tonnes)</th>\n",
       "    </tr>\n",
       "  </thead>\n",
       "  <tbody>\n",
       "    <tr>\n",
       "      <th>0</th>\n",
       "      <td>121</td>\n",
       "      <td>2018</td>\n",
       "      <td>22.833333</td>\n",
       "      <td>2.16915</td>\n",
       "      <td>Valkenberg</td>\n",
       "      <td>83253</td>\n",
       "      <td>1960</td>\n",
       "      <td>1800</td>\n",
       "      <td>-0.80%</td>\n",
       "      <td>2880</td>\n",
       "      <td>1040.0</td>\n",
       "      <td>277797.0</td>\n",
       "    </tr>\n",
       "    <tr>\n",
       "      <th>1</th>\n",
       "      <td>121</td>\n",
       "      <td>2018</td>\n",
       "      <td>22.833333</td>\n",
       "      <td>2.16915</td>\n",
       "      <td>Valkenberg</td>\n",
       "      <td>83253</td>\n",
       "      <td>1960</td>\n",
       "      <td>1800</td>\n",
       "      <td>-0.80%</td>\n",
       "      <td>2880</td>\n",
       "      <td>1040.0</td>\n",
       "      <td>277797.0</td>\n",
       "    </tr>\n",
       "    <tr>\n",
       "      <th>2</th>\n",
       "      <td>121</td>\n",
       "      <td>2018</td>\n",
       "      <td>22.833333</td>\n",
       "      <td>2.16915</td>\n",
       "      <td>Valkenberg</td>\n",
       "      <td>83253</td>\n",
       "      <td>1960</td>\n",
       "      <td>1800</td>\n",
       "      <td>-0.80%</td>\n",
       "      <td>2880</td>\n",
       "      <td>1040.0</td>\n",
       "      <td>277797.0</td>\n",
       "    </tr>\n",
       "    <tr>\n",
       "      <th>3</th>\n",
       "      <td>121</td>\n",
       "      <td>2018</td>\n",
       "      <td>22.833333</td>\n",
       "      <td>2.16915</td>\n",
       "      <td>Valkenberg</td>\n",
       "      <td>83253</td>\n",
       "      <td>1960</td>\n",
       "      <td>1800</td>\n",
       "      <td>-0.80%</td>\n",
       "      <td>2880</td>\n",
       "      <td>1040.0</td>\n",
       "      <td>277797.0</td>\n",
       "    </tr>\n",
       "    <tr>\n",
       "      <th>4</th>\n",
       "      <td>121</td>\n",
       "      <td>2018</td>\n",
       "      <td>22.833333</td>\n",
       "      <td>2.16915</td>\n",
       "      <td>Valkenberg</td>\n",
       "      <td>83253</td>\n",
       "      <td>1960</td>\n",
       "      <td>1800</td>\n",
       "      <td>-0.80%</td>\n",
       "      <td>2880</td>\n",
       "      <td>1040.0</td>\n",
       "      <td>277797.0</td>\n",
       "    </tr>\n",
       "    <tr>\n",
       "      <th>5</th>\n",
       "      <td>121</td>\n",
       "      <td>2018</td>\n",
       "      <td>22.833333</td>\n",
       "      <td>2.16915</td>\n",
       "      <td>Valkenberg</td>\n",
       "      <td>83253</td>\n",
       "      <td>1960</td>\n",
       "      <td>1800</td>\n",
       "      <td>-0.80%</td>\n",
       "      <td>2880</td>\n",
       "      <td>1040.0</td>\n",
       "      <td>277797.0</td>\n",
       "    </tr>\n",
       "    <tr>\n",
       "      <th>6</th>\n",
       "      <td>121</td>\n",
       "      <td>2018</td>\n",
       "      <td>22.833333</td>\n",
       "      <td>2.16915</td>\n",
       "      <td>Valkenberg</td>\n",
       "      <td>83253</td>\n",
       "      <td>1960</td>\n",
       "      <td>1800</td>\n",
       "      <td>-0.80%</td>\n",
       "      <td>2880</td>\n",
       "      <td>1040.0</td>\n",
       "      <td>277797.0</td>\n",
       "    </tr>\n",
       "    <tr>\n",
       "      <th>7</th>\n",
       "      <td>121</td>\n",
       "      <td>2018</td>\n",
       "      <td>22.833333</td>\n",
       "      <td>2.16915</td>\n",
       "      <td>Valkenberg</td>\n",
       "      <td>83253</td>\n",
       "      <td>1960</td>\n",
       "      <td>1800</td>\n",
       "      <td>-0.80%</td>\n",
       "      <td>2880</td>\n",
       "      <td>1040.0</td>\n",
       "      <td>277797.0</td>\n",
       "    </tr>\n",
       "    <tr>\n",
       "      <th>8</th>\n",
       "      <td>121</td>\n",
       "      <td>2018</td>\n",
       "      <td>22.833333</td>\n",
       "      <td>2.16915</td>\n",
       "      <td>Valkenberg</td>\n",
       "      <td>83253</td>\n",
       "      <td>1960</td>\n",
       "      <td>1800</td>\n",
       "      <td>-0.80%</td>\n",
       "      <td>2880</td>\n",
       "      <td>1040.0</td>\n",
       "      <td>277797.0</td>\n",
       "    </tr>\n",
       "    <tr>\n",
       "      <th>9</th>\n",
       "      <td>121</td>\n",
       "      <td>2018</td>\n",
       "      <td>22.833333</td>\n",
       "      <td>2.16915</td>\n",
       "      <td>Valkenberg</td>\n",
       "      <td>83253</td>\n",
       "      <td>1960</td>\n",
       "      <td>1800</td>\n",
       "      <td>-0.80%</td>\n",
       "      <td>2880</td>\n",
       "      <td>1040.0</td>\n",
       "      <td>277797.0</td>\n",
       "    </tr>\n",
       "  </tbody>\n",
       "</table>\n",
       "</div>"
      ],
      "text/plain": [
       "   Registered nuisance (number)  year_x  green_score  livability_score_x  \\\n",
       "0                           121    2018    22.833333             2.16915   \n",
       "1                           121    2018    22.833333             2.16915   \n",
       "2                           121    2018    22.833333             2.16915   \n",
       "3                           121    2018    22.833333             2.16915   \n",
       "4                           121    2018    22.833333             2.16915   \n",
       "5                           121    2018    22.833333             2.16915   \n",
       "6                           121    2018    22.833333             2.16915   \n",
       "7                           121    2018    22.833333             2.16915   \n",
       "8                           121    2018    22.833333             2.16915   \n",
       "9                           121    2018    22.833333             2.16915   \n",
       "\n",
       "  neighborhood_name  TotalHouses  Population  income total_job_growth  \\\n",
       "0        Valkenberg        83253        1960    1800           -0.80%   \n",
       "1        Valkenberg        83253        1960    1800           -0.80%   \n",
       "2        Valkenberg        83253        1960    1800           -0.80%   \n",
       "3        Valkenberg        83253        1960    1800           -0.80%   \n",
       "4        Valkenberg        83253        1960    1800           -0.80%   \n",
       "5        Valkenberg        83253        1960    1800           -0.80%   \n",
       "6        Valkenberg        83253        1960    1800           -0.80%   \n",
       "7        Valkenberg        83253        1960    1800           -0.80%   \n",
       "8        Valkenberg        83253        1960    1800           -0.80%   \n",
       "9        Valkenberg        83253        1960    1800           -0.80%   \n",
       "\n",
       "   Electricity Consumption: total (kwh)  Gas consumption all homes (m3)  \\\n",
       "0                                  2880                          1040.0   \n",
       "1                                  2880                          1040.0   \n",
       "2                                  2880                          1040.0   \n",
       "3                                  2880                          1040.0   \n",
       "4                                  2880                          1040.0   \n",
       "5                                  2880                          1040.0   \n",
       "6                                  2880                          1040.0   \n",
       "7                                  2880                          1040.0   \n",
       "8                                  2880                          1040.0   \n",
       "9                                  2880                          1040.0   \n",
       "\n",
       "   CO2 emissions from homes, temperature corrected (tonnes)  \n",
       "0                                           277797.0         \n",
       "1                                           277797.0         \n",
       "2                                           277797.0         \n",
       "3                                           277797.0         \n",
       "4                                           277797.0         \n",
       "5                                           277797.0         \n",
       "6                                           277797.0         \n",
       "7                                           277797.0         \n",
       "8                                           277797.0         \n",
       "9                                           277797.0         "
      ]
     },
     "execution_count": 4,
     "metadata": {},
     "output_type": "execute_result"
    }
   ],
   "source": [
    "# Printing out first 10 rows of the dataframe\n",
    "df.head(10)"
   ]
  },
  {
   "cell_type": "code",
   "execution_count": 5,
   "metadata": {},
   "outputs": [],
   "source": [
    "# Rename the \"Registered nuisance (number)\" column to \"reg_nuisance\"\n",
    "df = df.rename(columns={\"Registered nuisance (number)\": \"reg_nuisance\"})\n",
    "\n",
    "# Rename the \"year_x\" column to \"year\"\n",
    "df = df.rename(columns={\"year_x\": \"year\"})\n",
    "\n",
    "# Rename the \"livability_score_x\" column to \"livability_score\"\n",
    "df = df.rename(columns={\"livability_score_x\": \"livability_score\"})\n",
    "\n",
    "# Rename the \"TotalHouses\" column to \"houses_amount\"\n",
    "df = df.rename(columns={\"TotalHouses\": \"houses_amount\"})\n",
    "\n",
    "# Rename the \"Population\" column to \"population\"\n",
    "df = df.rename(columns={\"Population\": \"population\"})\n",
    "\n",
    "# Rename the \"Electricity Consumption: total (kwh)\" column to \"electricity_cons\"\n",
    "df = df.rename(columns={\"Electricity Consumption: total (kwh)\": \"electricity_cons\"})\n",
    "\n",
    "# Rename the \"CO2 emissions from homes, temperature corrected (tonnes)\" column to \"co2_emi\"\n",
    "df = df.rename(columns={\"CO2 emissions from homes, temperature corrected (tonnes)\": \"co2_emi\"})\n",
    "\n",
    "# Rename the \"Gas consumption all homes (m3)\" column to \"gas_cons\"\n",
    "df = df.rename(columns={\"Gas consumption all homes (m3)\": \"gas_cons\"})"
   ]
  },
  {
   "cell_type": "code",
   "execution_count": 6,
   "metadata": {},
   "outputs": [
    {
     "data": {
      "text/html": [
       "<div>\n",
       "<style scoped>\n",
       "    .dataframe tbody tr th:only-of-type {\n",
       "        vertical-align: middle;\n",
       "    }\n",
       "\n",
       "    .dataframe tbody tr th {\n",
       "        vertical-align: top;\n",
       "    }\n",
       "\n",
       "    .dataframe thead th {\n",
       "        text-align: right;\n",
       "    }\n",
       "</style>\n",
       "<table border=\"1\" class=\"dataframe\">\n",
       "  <thead>\n",
       "    <tr style=\"text-align: right;\">\n",
       "      <th></th>\n",
       "      <th>reg_nuisance</th>\n",
       "      <th>year</th>\n",
       "      <th>green_score</th>\n",
       "      <th>livability_score</th>\n",
       "      <th>neighborhood_name</th>\n",
       "      <th>houses_amount</th>\n",
       "      <th>population</th>\n",
       "      <th>income</th>\n",
       "      <th>total_job_growth</th>\n",
       "      <th>electricity_cons</th>\n",
       "      <th>gas_cons</th>\n",
       "      <th>co2_emi</th>\n",
       "    </tr>\n",
       "  </thead>\n",
       "  <tbody>\n",
       "    <tr>\n",
       "      <th>0</th>\n",
       "      <td>121</td>\n",
       "      <td>2018</td>\n",
       "      <td>22.833333</td>\n",
       "      <td>2.16915</td>\n",
       "      <td>Valkenberg</td>\n",
       "      <td>83253</td>\n",
       "      <td>1960</td>\n",
       "      <td>1800</td>\n",
       "      <td>-0.80%</td>\n",
       "      <td>2880</td>\n",
       "      <td>1040.0</td>\n",
       "      <td>277797.0</td>\n",
       "    </tr>\n",
       "    <tr>\n",
       "      <th>1</th>\n",
       "      <td>121</td>\n",
       "      <td>2018</td>\n",
       "      <td>22.833333</td>\n",
       "      <td>2.16915</td>\n",
       "      <td>Valkenberg</td>\n",
       "      <td>83253</td>\n",
       "      <td>1960</td>\n",
       "      <td>1800</td>\n",
       "      <td>-0.80%</td>\n",
       "      <td>2880</td>\n",
       "      <td>1040.0</td>\n",
       "      <td>277797.0</td>\n",
       "    </tr>\n",
       "    <tr>\n",
       "      <th>2</th>\n",
       "      <td>121</td>\n",
       "      <td>2018</td>\n",
       "      <td>22.833333</td>\n",
       "      <td>2.16915</td>\n",
       "      <td>Valkenberg</td>\n",
       "      <td>83253</td>\n",
       "      <td>1960</td>\n",
       "      <td>1800</td>\n",
       "      <td>-0.80%</td>\n",
       "      <td>2880</td>\n",
       "      <td>1040.0</td>\n",
       "      <td>277797.0</td>\n",
       "    </tr>\n",
       "    <tr>\n",
       "      <th>3</th>\n",
       "      <td>121</td>\n",
       "      <td>2018</td>\n",
       "      <td>22.833333</td>\n",
       "      <td>2.16915</td>\n",
       "      <td>Valkenberg</td>\n",
       "      <td>83253</td>\n",
       "      <td>1960</td>\n",
       "      <td>1800</td>\n",
       "      <td>-0.80%</td>\n",
       "      <td>2880</td>\n",
       "      <td>1040.0</td>\n",
       "      <td>277797.0</td>\n",
       "    </tr>\n",
       "    <tr>\n",
       "      <th>4</th>\n",
       "      <td>121</td>\n",
       "      <td>2018</td>\n",
       "      <td>22.833333</td>\n",
       "      <td>2.16915</td>\n",
       "      <td>Valkenberg</td>\n",
       "      <td>83253</td>\n",
       "      <td>1960</td>\n",
       "      <td>1800</td>\n",
       "      <td>-0.80%</td>\n",
       "      <td>2880</td>\n",
       "      <td>1040.0</td>\n",
       "      <td>277797.0</td>\n",
       "    </tr>\n",
       "    <tr>\n",
       "      <th>5</th>\n",
       "      <td>121</td>\n",
       "      <td>2018</td>\n",
       "      <td>22.833333</td>\n",
       "      <td>2.16915</td>\n",
       "      <td>Valkenberg</td>\n",
       "      <td>83253</td>\n",
       "      <td>1960</td>\n",
       "      <td>1800</td>\n",
       "      <td>-0.80%</td>\n",
       "      <td>2880</td>\n",
       "      <td>1040.0</td>\n",
       "      <td>277797.0</td>\n",
       "    </tr>\n",
       "    <tr>\n",
       "      <th>6</th>\n",
       "      <td>121</td>\n",
       "      <td>2018</td>\n",
       "      <td>22.833333</td>\n",
       "      <td>2.16915</td>\n",
       "      <td>Valkenberg</td>\n",
       "      <td>83253</td>\n",
       "      <td>1960</td>\n",
       "      <td>1800</td>\n",
       "      <td>-0.80%</td>\n",
       "      <td>2880</td>\n",
       "      <td>1040.0</td>\n",
       "      <td>277797.0</td>\n",
       "    </tr>\n",
       "    <tr>\n",
       "      <th>7</th>\n",
       "      <td>121</td>\n",
       "      <td>2018</td>\n",
       "      <td>22.833333</td>\n",
       "      <td>2.16915</td>\n",
       "      <td>Valkenberg</td>\n",
       "      <td>83253</td>\n",
       "      <td>1960</td>\n",
       "      <td>1800</td>\n",
       "      <td>-0.80%</td>\n",
       "      <td>2880</td>\n",
       "      <td>1040.0</td>\n",
       "      <td>277797.0</td>\n",
       "    </tr>\n",
       "    <tr>\n",
       "      <th>8</th>\n",
       "      <td>121</td>\n",
       "      <td>2018</td>\n",
       "      <td>22.833333</td>\n",
       "      <td>2.16915</td>\n",
       "      <td>Valkenberg</td>\n",
       "      <td>83253</td>\n",
       "      <td>1960</td>\n",
       "      <td>1800</td>\n",
       "      <td>-0.80%</td>\n",
       "      <td>2880</td>\n",
       "      <td>1040.0</td>\n",
       "      <td>277797.0</td>\n",
       "    </tr>\n",
       "    <tr>\n",
       "      <th>9</th>\n",
       "      <td>121</td>\n",
       "      <td>2018</td>\n",
       "      <td>22.833333</td>\n",
       "      <td>2.16915</td>\n",
       "      <td>Valkenberg</td>\n",
       "      <td>83253</td>\n",
       "      <td>1960</td>\n",
       "      <td>1800</td>\n",
       "      <td>-0.80%</td>\n",
       "      <td>2880</td>\n",
       "      <td>1040.0</td>\n",
       "      <td>277797.0</td>\n",
       "    </tr>\n",
       "  </tbody>\n",
       "</table>\n",
       "</div>"
      ],
      "text/plain": [
       "   reg_nuisance  year  green_score  livability_score neighborhood_name  \\\n",
       "0           121  2018    22.833333           2.16915        Valkenberg   \n",
       "1           121  2018    22.833333           2.16915        Valkenberg   \n",
       "2           121  2018    22.833333           2.16915        Valkenberg   \n",
       "3           121  2018    22.833333           2.16915        Valkenberg   \n",
       "4           121  2018    22.833333           2.16915        Valkenberg   \n",
       "5           121  2018    22.833333           2.16915        Valkenberg   \n",
       "6           121  2018    22.833333           2.16915        Valkenberg   \n",
       "7           121  2018    22.833333           2.16915        Valkenberg   \n",
       "8           121  2018    22.833333           2.16915        Valkenberg   \n",
       "9           121  2018    22.833333           2.16915        Valkenberg   \n",
       "\n",
       "   houses_amount  population  income total_job_growth  electricity_cons  \\\n",
       "0          83253        1960    1800           -0.80%              2880   \n",
       "1          83253        1960    1800           -0.80%              2880   \n",
       "2          83253        1960    1800           -0.80%              2880   \n",
       "3          83253        1960    1800           -0.80%              2880   \n",
       "4          83253        1960    1800           -0.80%              2880   \n",
       "5          83253        1960    1800           -0.80%              2880   \n",
       "6          83253        1960    1800           -0.80%              2880   \n",
       "7          83253        1960    1800           -0.80%              2880   \n",
       "8          83253        1960    1800           -0.80%              2880   \n",
       "9          83253        1960    1800           -0.80%              2880   \n",
       "\n",
       "   gas_cons   co2_emi  \n",
       "0    1040.0  277797.0  \n",
       "1    1040.0  277797.0  \n",
       "2    1040.0  277797.0  \n",
       "3    1040.0  277797.0  \n",
       "4    1040.0  277797.0  \n",
       "5    1040.0  277797.0  \n",
       "6    1040.0  277797.0  \n",
       "7    1040.0  277797.0  \n",
       "8    1040.0  277797.0  \n",
       "9    1040.0  277797.0  "
      ]
     },
     "execution_count": 6,
     "metadata": {},
     "output_type": "execute_result"
    }
   ],
   "source": [
    "# Printing out first 10 rows of the dataframe, after renaming certain columns\n",
    "df.head(10)"
   ]
  },
  {
   "cell_type": "code",
   "execution_count": 7,
   "metadata": {},
   "outputs": [],
   "source": [
    "import numpy as np\n",
    "\n",
    "# Convert the 'gas_cons' column to int64 data type\n",
    "df['gas_cons'] = df['gas_cons'].astype(np.int64)\n",
    "\n",
    "# Convert the 'co2_emi' column to int64 data type\n",
    "df['co2_emi'] = df['co2_emi'].astype(np.int64)\n",
    "\n",
    "# Remove commas, strip '%' symbol, and convert 'total_job_growth' column to float data type\n",
    "df['total_job_growth'] = df['total_job_growth'].str.replace(',', '.').str.strip('%').astype(float)"
   ]
  },
  {
   "cell_type": "code",
   "execution_count": 8,
   "metadata": {},
   "outputs": [
    {
     "name": "stdout",
     "output_type": "stream",
     "text": [
      "<class 'pandas.core.frame.DataFrame'>\n",
      "RangeIndex: 5169348 entries, 0 to 5169347\n",
      "Data columns (total 12 columns):\n",
      " #   Column             Dtype  \n",
      "---  ------             -----  \n",
      " 0   reg_nuisance       int64  \n",
      " 1   year               int64  \n",
      " 2   green_score        float64\n",
      " 3   livability_score   float64\n",
      " 4   neighborhood_name  object \n",
      " 5   houses_amount      int64  \n",
      " 6   population         int64  \n",
      " 7   income             int64  \n",
      " 8   total_job_growth   float64\n",
      " 9   electricity_cons   int64  \n",
      " 10  gas_cons           int64  \n",
      " 11  co2_emi            int64  \n",
      "dtypes: float64(3), int64(8), object(1)\n",
      "memory usage: 473.3+ MB\n"
     ]
    }
   ],
   "source": [
    "# Printing out information about dataframe, after changing data types of certain columns\n",
    "df.info()"
   ]
  },
  {
   "cell_type": "code",
   "execution_count": 9,
   "metadata": {},
   "outputs": [
    {
     "data": {
      "text/html": [
       "<div>\n",
       "<style scoped>\n",
       "    .dataframe tbody tr th:only-of-type {\n",
       "        vertical-align: middle;\n",
       "    }\n",
       "\n",
       "    .dataframe tbody tr th {\n",
       "        vertical-align: top;\n",
       "    }\n",
       "\n",
       "    .dataframe thead th {\n",
       "        text-align: right;\n",
       "    }\n",
       "</style>\n",
       "<table border=\"1\" class=\"dataframe\">\n",
       "  <thead>\n",
       "    <tr style=\"text-align: right;\">\n",
       "      <th></th>\n",
       "      <th>reg_nuisance</th>\n",
       "      <th>year</th>\n",
       "      <th>green_score</th>\n",
       "      <th>livability_score</th>\n",
       "      <th>neighborhood_name</th>\n",
       "      <th>houses_amount</th>\n",
       "      <th>population</th>\n",
       "      <th>income</th>\n",
       "      <th>total_job_growth</th>\n",
       "      <th>electricity_cons</th>\n",
       "      <th>gas_cons</th>\n",
       "      <th>co2_emi</th>\n",
       "    </tr>\n",
       "  </thead>\n",
       "  <tbody>\n",
       "    <tr>\n",
       "      <th>0</th>\n",
       "      <td>121</td>\n",
       "      <td>2018</td>\n",
       "      <td>22.833333</td>\n",
       "      <td>2.16915</td>\n",
       "      <td>Valkenberg</td>\n",
       "      <td>83253</td>\n",
       "      <td>1960</td>\n",
       "      <td>1800</td>\n",
       "      <td>-0.8</td>\n",
       "      <td>2880</td>\n",
       "      <td>1040</td>\n",
       "      <td>277797</td>\n",
       "    </tr>\n",
       "    <tr>\n",
       "      <th>1</th>\n",
       "      <td>121</td>\n",
       "      <td>2018</td>\n",
       "      <td>22.833333</td>\n",
       "      <td>2.16915</td>\n",
       "      <td>Valkenberg</td>\n",
       "      <td>83253</td>\n",
       "      <td>1960</td>\n",
       "      <td>1800</td>\n",
       "      <td>-0.8</td>\n",
       "      <td>2880</td>\n",
       "      <td>1040</td>\n",
       "      <td>277797</td>\n",
       "    </tr>\n",
       "    <tr>\n",
       "      <th>2</th>\n",
       "      <td>121</td>\n",
       "      <td>2018</td>\n",
       "      <td>22.833333</td>\n",
       "      <td>2.16915</td>\n",
       "      <td>Valkenberg</td>\n",
       "      <td>83253</td>\n",
       "      <td>1960</td>\n",
       "      <td>1800</td>\n",
       "      <td>-0.8</td>\n",
       "      <td>2880</td>\n",
       "      <td>1040</td>\n",
       "      <td>277797</td>\n",
       "    </tr>\n",
       "    <tr>\n",
       "      <th>3</th>\n",
       "      <td>121</td>\n",
       "      <td>2018</td>\n",
       "      <td>22.833333</td>\n",
       "      <td>2.16915</td>\n",
       "      <td>Valkenberg</td>\n",
       "      <td>83253</td>\n",
       "      <td>1960</td>\n",
       "      <td>1800</td>\n",
       "      <td>-0.8</td>\n",
       "      <td>2880</td>\n",
       "      <td>1040</td>\n",
       "      <td>277797</td>\n",
       "    </tr>\n",
       "    <tr>\n",
       "      <th>4</th>\n",
       "      <td>121</td>\n",
       "      <td>2018</td>\n",
       "      <td>22.833333</td>\n",
       "      <td>2.16915</td>\n",
       "      <td>Valkenberg</td>\n",
       "      <td>83253</td>\n",
       "      <td>1960</td>\n",
       "      <td>1800</td>\n",
       "      <td>-0.8</td>\n",
       "      <td>2880</td>\n",
       "      <td>1040</td>\n",
       "      <td>277797</td>\n",
       "    </tr>\n",
       "    <tr>\n",
       "      <th>5</th>\n",
       "      <td>121</td>\n",
       "      <td>2018</td>\n",
       "      <td>22.833333</td>\n",
       "      <td>2.16915</td>\n",
       "      <td>Valkenberg</td>\n",
       "      <td>83253</td>\n",
       "      <td>1960</td>\n",
       "      <td>1800</td>\n",
       "      <td>-0.8</td>\n",
       "      <td>2880</td>\n",
       "      <td>1040</td>\n",
       "      <td>277797</td>\n",
       "    </tr>\n",
       "    <tr>\n",
       "      <th>6</th>\n",
       "      <td>121</td>\n",
       "      <td>2018</td>\n",
       "      <td>22.833333</td>\n",
       "      <td>2.16915</td>\n",
       "      <td>Valkenberg</td>\n",
       "      <td>83253</td>\n",
       "      <td>1960</td>\n",
       "      <td>1800</td>\n",
       "      <td>-0.8</td>\n",
       "      <td>2880</td>\n",
       "      <td>1040</td>\n",
       "      <td>277797</td>\n",
       "    </tr>\n",
       "    <tr>\n",
       "      <th>7</th>\n",
       "      <td>121</td>\n",
       "      <td>2018</td>\n",
       "      <td>22.833333</td>\n",
       "      <td>2.16915</td>\n",
       "      <td>Valkenberg</td>\n",
       "      <td>83253</td>\n",
       "      <td>1960</td>\n",
       "      <td>1800</td>\n",
       "      <td>-0.8</td>\n",
       "      <td>2880</td>\n",
       "      <td>1040</td>\n",
       "      <td>277797</td>\n",
       "    </tr>\n",
       "    <tr>\n",
       "      <th>8</th>\n",
       "      <td>121</td>\n",
       "      <td>2018</td>\n",
       "      <td>22.833333</td>\n",
       "      <td>2.16915</td>\n",
       "      <td>Valkenberg</td>\n",
       "      <td>83253</td>\n",
       "      <td>1960</td>\n",
       "      <td>1800</td>\n",
       "      <td>-0.8</td>\n",
       "      <td>2880</td>\n",
       "      <td>1040</td>\n",
       "      <td>277797</td>\n",
       "    </tr>\n",
       "    <tr>\n",
       "      <th>9</th>\n",
       "      <td>121</td>\n",
       "      <td>2018</td>\n",
       "      <td>22.833333</td>\n",
       "      <td>2.16915</td>\n",
       "      <td>Valkenberg</td>\n",
       "      <td>83253</td>\n",
       "      <td>1960</td>\n",
       "      <td>1800</td>\n",
       "      <td>-0.8</td>\n",
       "      <td>2880</td>\n",
       "      <td>1040</td>\n",
       "      <td>277797</td>\n",
       "    </tr>\n",
       "  </tbody>\n",
       "</table>\n",
       "</div>"
      ],
      "text/plain": [
       "   reg_nuisance  year  green_score  livability_score neighborhood_name  \\\n",
       "0           121  2018    22.833333           2.16915        Valkenberg   \n",
       "1           121  2018    22.833333           2.16915        Valkenberg   \n",
       "2           121  2018    22.833333           2.16915        Valkenberg   \n",
       "3           121  2018    22.833333           2.16915        Valkenberg   \n",
       "4           121  2018    22.833333           2.16915        Valkenberg   \n",
       "5           121  2018    22.833333           2.16915        Valkenberg   \n",
       "6           121  2018    22.833333           2.16915        Valkenberg   \n",
       "7           121  2018    22.833333           2.16915        Valkenberg   \n",
       "8           121  2018    22.833333           2.16915        Valkenberg   \n",
       "9           121  2018    22.833333           2.16915        Valkenberg   \n",
       "\n",
       "   houses_amount  population  income  total_job_growth  electricity_cons  \\\n",
       "0          83253        1960    1800              -0.8              2880   \n",
       "1          83253        1960    1800              -0.8              2880   \n",
       "2          83253        1960    1800              -0.8              2880   \n",
       "3          83253        1960    1800              -0.8              2880   \n",
       "4          83253        1960    1800              -0.8              2880   \n",
       "5          83253        1960    1800              -0.8              2880   \n",
       "6          83253        1960    1800              -0.8              2880   \n",
       "7          83253        1960    1800              -0.8              2880   \n",
       "8          83253        1960    1800              -0.8              2880   \n",
       "9          83253        1960    1800              -0.8              2880   \n",
       "\n",
       "   gas_cons  co2_emi  \n",
       "0      1040   277797  \n",
       "1      1040   277797  \n",
       "2      1040   277797  \n",
       "3      1040   277797  \n",
       "4      1040   277797  \n",
       "5      1040   277797  \n",
       "6      1040   277797  \n",
       "7      1040   277797  \n",
       "8      1040   277797  \n",
       "9      1040   277797  "
      ]
     },
     "execution_count": 9,
     "metadata": {},
     "output_type": "execute_result"
    }
   ],
   "source": [
    "# Printing out first 10 rows of dataframe, after applying data types changes\n",
    "df.head(10)"
   ]
  },
  {
   "attachments": {},
   "cell_type": "markdown",
   "metadata": {},
   "source": [
    "### 2. Plotting correlations between columns present within dataframe"
   ]
  },
  {
   "cell_type": "code",
   "execution_count": 10,
   "metadata": {},
   "outputs": [
    {
     "data": {
      "application/vnd.plotly.v1+json": {
       "config": {
        "plotlyServerURL": "https://plot.ly"
       },
       "data": [
        {
         "coloraxis": "coloraxis",
         "hovertemplate": "x: %{x}<br>y: %{y}<br>Correlation: %{z}<extra></extra>",
         "name": "0",
         "type": "heatmap",
         "x": [
          "reg_nuisance",
          "year",
          "green_score",
          "livability_score",
          "houses_amount",
          "population",
          "income",
          "total_job_growth",
          "electricity_cons",
          "gas_cons",
          "co2_emi"
         ],
         "xaxis": "x",
         "y": [
          "reg_nuisance",
          "year",
          "green_score",
          "livability_score",
          "houses_amount",
          "population",
          "income",
          "total_job_growth",
          "electricity_cons",
          "gas_cons",
          "co2_emi"
         ],
         "yaxis": "y",
         "z": [
          [
           1,
           -0.01178254630458178,
           -0.0785717995163078,
           -0.1528433223455935,
           -0.013705784905161044,
           0.16433978727698417,
           0.16971471680711017,
           -0.02603882359245921,
           0.013793022954546779,
           -0.055187190582572536,
           0.00014006391600089344
          ],
          [
           -0.01178254630458178,
           1,
           -0.16008661104357158,
           0.037597636525400074,
           0.9852129112498175,
           0.025926926305346057,
           0.012785097280960646,
           -0.07159036508651298,
           -0.9969401567029189,
           0.3073114936093392,
           -0.9705080741433744
          ],
          [
           -0.0785717995163078,
           -0.16008661104357158,
           1,
           0.25852740665467355,
           -0.1775248673260859,
           -0.028065846956504215,
           -0.031757481714369803,
           -0.021427186415480148,
           0.16635979445222074,
           0.03306147170682548,
           0.16208684751973546
          ],
          [
           -0.1528433223455935,
           0.037597636525400074,
           0.25852740665467355,
           1,
           0.036313769823987936,
           -0.02331429881882761,
           -0.04276322429247812,
           -0.10039693406829076,
           -0.038558945884329676,
           0.08566056141042805,
           -0.024079430078131684
          ],
          [
           -0.013705784905161044,
           0.9852129112498175,
           -0.1775248673260859,
           0.036313769823987936,
           1,
           0.008468210789300422,
           -0.0047646537908245315,
           -0.0466258724167862,
           -0.9947748059886555,
           0.24190260704058456,
           -0.9440914358947758
          ],
          [
           0.16433978727698417,
           0.025926926305346057,
           -0.028065846956504215,
           -0.02331429881882761,
           0.008468210789300422,
           1,
           0.9973276636088458,
           0.11242552380269083,
           -0.020154135145394755,
           -0.010176804837291591,
           -0.01988871027573993
          ],
          [
           0.16971471680711017,
           0.012785097280960646,
           -0.031757481714369803,
           -0.04276322429247812,
           -0.0047646537908245315,
           0.9973276636088458,
           1,
           0.09942256109502337,
           -0.007117419440160016,
           -0.009686016575097902,
           -0.005646467168663182
          ],
          [
           -0.02603882359245921,
           -0.07159036508651298,
           -0.021427186415480148,
           -0.10039693406829076,
           -0.0466258724167862,
           0.11242552380269083,
           0.09942256109502337,
           1,
           0.059344984625814105,
           -0.14364887792981537,
           0.09111734879136403
          ],
          [
           0.013793022954546779,
           -0.9969401567029189,
           0.16635979445222074,
           -0.038558945884329676,
           -0.9947748059886555,
           -0.020154135145394755,
           -0.007117419440160016,
           0.059344984625814105,
           1,
           -0.2950287096773752,
           0.9561825572700281
          ],
          [
           -0.055187190582572536,
           0.3073114936093392,
           0.03306147170682548,
           0.08566056141042805,
           0.24190260704058456,
           -0.010176804837291591,
           -0.009686016575097902,
           -0.14364887792981537,
           -0.2950287096773752,
           1,
           -0.18822299758740912
          ],
          [
           0.00014006391600089344,
           -0.9705080741433744,
           0.16208684751973546,
           -0.024079430078131684,
           -0.9440914358947758,
           -0.01988871027573993,
           -0.005646467168663182,
           0.09111734879136403,
           0.9561825572700281,
           -0.18822299758740912,
           1
          ]
         ]
        }
       ],
       "layout": {
        "autosize": false,
        "coloraxis": {
         "colorbar": {
          "title": {
           "text": "Correlation"
          }
         },
         "colorscale": [
          [
           0,
           "#440154"
          ],
          [
           0.1111111111111111,
           "#482878"
          ],
          [
           0.2222222222222222,
           "#3e4989"
          ],
          [
           0.3333333333333333,
           "#31688e"
          ],
          [
           0.4444444444444444,
           "#26828e"
          ],
          [
           0.5555555555555556,
           "#1f9e89"
          ],
          [
           0.6666666666666666,
           "#35b779"
          ],
          [
           0.7777777777777778,
           "#6ece58"
          ],
          [
           0.8888888888888888,
           "#b5de2b"
          ],
          [
           1,
           "#fde725"
          ]
         ]
        },
        "height": 800,
        "template": {
         "data": {
          "bar": [
           {
            "error_x": {
             "color": "#2a3f5f"
            },
            "error_y": {
             "color": "#2a3f5f"
            },
            "marker": {
             "line": {
              "color": "#E5ECF6",
              "width": 0.5
             },
             "pattern": {
              "fillmode": "overlay",
              "size": 10,
              "solidity": 0.2
             }
            },
            "type": "bar"
           }
          ],
          "barpolar": [
           {
            "marker": {
             "line": {
              "color": "#E5ECF6",
              "width": 0.5
             },
             "pattern": {
              "fillmode": "overlay",
              "size": 10,
              "solidity": 0.2
             }
            },
            "type": "barpolar"
           }
          ],
          "carpet": [
           {
            "aaxis": {
             "endlinecolor": "#2a3f5f",
             "gridcolor": "white",
             "linecolor": "white",
             "minorgridcolor": "white",
             "startlinecolor": "#2a3f5f"
            },
            "baxis": {
             "endlinecolor": "#2a3f5f",
             "gridcolor": "white",
             "linecolor": "white",
             "minorgridcolor": "white",
             "startlinecolor": "#2a3f5f"
            },
            "type": "carpet"
           }
          ],
          "choropleth": [
           {
            "colorbar": {
             "outlinewidth": 0,
             "ticks": ""
            },
            "type": "choropleth"
           }
          ],
          "contour": [
           {
            "colorbar": {
             "outlinewidth": 0,
             "ticks": ""
            },
            "colorscale": [
             [
              0,
              "#0d0887"
             ],
             [
              0.1111111111111111,
              "#46039f"
             ],
             [
              0.2222222222222222,
              "#7201a8"
             ],
             [
              0.3333333333333333,
              "#9c179e"
             ],
             [
              0.4444444444444444,
              "#bd3786"
             ],
             [
              0.5555555555555556,
              "#d8576b"
             ],
             [
              0.6666666666666666,
              "#ed7953"
             ],
             [
              0.7777777777777778,
              "#fb9f3a"
             ],
             [
              0.8888888888888888,
              "#fdca26"
             ],
             [
              1,
              "#f0f921"
             ]
            ],
            "type": "contour"
           }
          ],
          "contourcarpet": [
           {
            "colorbar": {
             "outlinewidth": 0,
             "ticks": ""
            },
            "type": "contourcarpet"
           }
          ],
          "heatmap": [
           {
            "colorbar": {
             "outlinewidth": 0,
             "ticks": ""
            },
            "colorscale": [
             [
              0,
              "#0d0887"
             ],
             [
              0.1111111111111111,
              "#46039f"
             ],
             [
              0.2222222222222222,
              "#7201a8"
             ],
             [
              0.3333333333333333,
              "#9c179e"
             ],
             [
              0.4444444444444444,
              "#bd3786"
             ],
             [
              0.5555555555555556,
              "#d8576b"
             ],
             [
              0.6666666666666666,
              "#ed7953"
             ],
             [
              0.7777777777777778,
              "#fb9f3a"
             ],
             [
              0.8888888888888888,
              "#fdca26"
             ],
             [
              1,
              "#f0f921"
             ]
            ],
            "type": "heatmap"
           }
          ],
          "heatmapgl": [
           {
            "colorbar": {
             "outlinewidth": 0,
             "ticks": ""
            },
            "colorscale": [
             [
              0,
              "#0d0887"
             ],
             [
              0.1111111111111111,
              "#46039f"
             ],
             [
              0.2222222222222222,
              "#7201a8"
             ],
             [
              0.3333333333333333,
              "#9c179e"
             ],
             [
              0.4444444444444444,
              "#bd3786"
             ],
             [
              0.5555555555555556,
              "#d8576b"
             ],
             [
              0.6666666666666666,
              "#ed7953"
             ],
             [
              0.7777777777777778,
              "#fb9f3a"
             ],
             [
              0.8888888888888888,
              "#fdca26"
             ],
             [
              1,
              "#f0f921"
             ]
            ],
            "type": "heatmapgl"
           }
          ],
          "histogram": [
           {
            "marker": {
             "pattern": {
              "fillmode": "overlay",
              "size": 10,
              "solidity": 0.2
             }
            },
            "type": "histogram"
           }
          ],
          "histogram2d": [
           {
            "colorbar": {
             "outlinewidth": 0,
             "ticks": ""
            },
            "colorscale": [
             [
              0,
              "#0d0887"
             ],
             [
              0.1111111111111111,
              "#46039f"
             ],
             [
              0.2222222222222222,
              "#7201a8"
             ],
             [
              0.3333333333333333,
              "#9c179e"
             ],
             [
              0.4444444444444444,
              "#bd3786"
             ],
             [
              0.5555555555555556,
              "#d8576b"
             ],
             [
              0.6666666666666666,
              "#ed7953"
             ],
             [
              0.7777777777777778,
              "#fb9f3a"
             ],
             [
              0.8888888888888888,
              "#fdca26"
             ],
             [
              1,
              "#f0f921"
             ]
            ],
            "type": "histogram2d"
           }
          ],
          "histogram2dcontour": [
           {
            "colorbar": {
             "outlinewidth": 0,
             "ticks": ""
            },
            "colorscale": [
             [
              0,
              "#0d0887"
             ],
             [
              0.1111111111111111,
              "#46039f"
             ],
             [
              0.2222222222222222,
              "#7201a8"
             ],
             [
              0.3333333333333333,
              "#9c179e"
             ],
             [
              0.4444444444444444,
              "#bd3786"
             ],
             [
              0.5555555555555556,
              "#d8576b"
             ],
             [
              0.6666666666666666,
              "#ed7953"
             ],
             [
              0.7777777777777778,
              "#fb9f3a"
             ],
             [
              0.8888888888888888,
              "#fdca26"
             ],
             [
              1,
              "#f0f921"
             ]
            ],
            "type": "histogram2dcontour"
           }
          ],
          "mesh3d": [
           {
            "colorbar": {
             "outlinewidth": 0,
             "ticks": ""
            },
            "type": "mesh3d"
           }
          ],
          "parcoords": [
           {
            "line": {
             "colorbar": {
              "outlinewidth": 0,
              "ticks": ""
             }
            },
            "type": "parcoords"
           }
          ],
          "pie": [
           {
            "automargin": true,
            "type": "pie"
           }
          ],
          "scatter": [
           {
            "fillpattern": {
             "fillmode": "overlay",
             "size": 10,
             "solidity": 0.2
            },
            "type": "scatter"
           }
          ],
          "scatter3d": [
           {
            "line": {
             "colorbar": {
              "outlinewidth": 0,
              "ticks": ""
             }
            },
            "marker": {
             "colorbar": {
              "outlinewidth": 0,
              "ticks": ""
             }
            },
            "type": "scatter3d"
           }
          ],
          "scattercarpet": [
           {
            "marker": {
             "colorbar": {
              "outlinewidth": 0,
              "ticks": ""
             }
            },
            "type": "scattercarpet"
           }
          ],
          "scattergeo": [
           {
            "marker": {
             "colorbar": {
              "outlinewidth": 0,
              "ticks": ""
             }
            },
            "type": "scattergeo"
           }
          ],
          "scattergl": [
           {
            "marker": {
             "colorbar": {
              "outlinewidth": 0,
              "ticks": ""
             }
            },
            "type": "scattergl"
           }
          ],
          "scattermapbox": [
           {
            "marker": {
             "colorbar": {
              "outlinewidth": 0,
              "ticks": ""
             }
            },
            "type": "scattermapbox"
           }
          ],
          "scatterpolar": [
           {
            "marker": {
             "colorbar": {
              "outlinewidth": 0,
              "ticks": ""
             }
            },
            "type": "scatterpolar"
           }
          ],
          "scatterpolargl": [
           {
            "marker": {
             "colorbar": {
              "outlinewidth": 0,
              "ticks": ""
             }
            },
            "type": "scatterpolargl"
           }
          ],
          "scatterternary": [
           {
            "marker": {
             "colorbar": {
              "outlinewidth": 0,
              "ticks": ""
             }
            },
            "type": "scatterternary"
           }
          ],
          "surface": [
           {
            "colorbar": {
             "outlinewidth": 0,
             "ticks": ""
            },
            "colorscale": [
             [
              0,
              "#0d0887"
             ],
             [
              0.1111111111111111,
              "#46039f"
             ],
             [
              0.2222222222222222,
              "#7201a8"
             ],
             [
              0.3333333333333333,
              "#9c179e"
             ],
             [
              0.4444444444444444,
              "#bd3786"
             ],
             [
              0.5555555555555556,
              "#d8576b"
             ],
             [
              0.6666666666666666,
              "#ed7953"
             ],
             [
              0.7777777777777778,
              "#fb9f3a"
             ],
             [
              0.8888888888888888,
              "#fdca26"
             ],
             [
              1,
              "#f0f921"
             ]
            ],
            "type": "surface"
           }
          ],
          "table": [
           {
            "cells": {
             "fill": {
              "color": "#EBF0F8"
             },
             "line": {
              "color": "white"
             }
            },
            "header": {
             "fill": {
              "color": "#C8D4E3"
             },
             "line": {
              "color": "white"
             }
            },
            "type": "table"
           }
          ]
         },
         "layout": {
          "annotationdefaults": {
           "arrowcolor": "#2a3f5f",
           "arrowhead": 0,
           "arrowwidth": 1
          },
          "autotypenumbers": "strict",
          "coloraxis": {
           "colorbar": {
            "outlinewidth": 0,
            "ticks": ""
           }
          },
          "colorscale": {
           "diverging": [
            [
             0,
             "#8e0152"
            ],
            [
             0.1,
             "#c51b7d"
            ],
            [
             0.2,
             "#de77ae"
            ],
            [
             0.3,
             "#f1b6da"
            ],
            [
             0.4,
             "#fde0ef"
            ],
            [
             0.5,
             "#f7f7f7"
            ],
            [
             0.6,
             "#e6f5d0"
            ],
            [
             0.7,
             "#b8e186"
            ],
            [
             0.8,
             "#7fbc41"
            ],
            [
             0.9,
             "#4d9221"
            ],
            [
             1,
             "#276419"
            ]
           ],
           "sequential": [
            [
             0,
             "#0d0887"
            ],
            [
             0.1111111111111111,
             "#46039f"
            ],
            [
             0.2222222222222222,
             "#7201a8"
            ],
            [
             0.3333333333333333,
             "#9c179e"
            ],
            [
             0.4444444444444444,
             "#bd3786"
            ],
            [
             0.5555555555555556,
             "#d8576b"
            ],
            [
             0.6666666666666666,
             "#ed7953"
            ],
            [
             0.7777777777777778,
             "#fb9f3a"
            ],
            [
             0.8888888888888888,
             "#fdca26"
            ],
            [
             1,
             "#f0f921"
            ]
           ],
           "sequentialminus": [
            [
             0,
             "#0d0887"
            ],
            [
             0.1111111111111111,
             "#46039f"
            ],
            [
             0.2222222222222222,
             "#7201a8"
            ],
            [
             0.3333333333333333,
             "#9c179e"
            ],
            [
             0.4444444444444444,
             "#bd3786"
            ],
            [
             0.5555555555555556,
             "#d8576b"
            ],
            [
             0.6666666666666666,
             "#ed7953"
            ],
            [
             0.7777777777777778,
             "#fb9f3a"
            ],
            [
             0.8888888888888888,
             "#fdca26"
            ],
            [
             1,
             "#f0f921"
            ]
           ]
          },
          "colorway": [
           "#636efa",
           "#EF553B",
           "#00cc96",
           "#ab63fa",
           "#FFA15A",
           "#19d3f3",
           "#FF6692",
           "#B6E880",
           "#FF97FF",
           "#FECB52"
          ],
          "font": {
           "color": "#2a3f5f"
          },
          "geo": {
           "bgcolor": "white",
           "lakecolor": "white",
           "landcolor": "#E5ECF6",
           "showlakes": true,
           "showland": true,
           "subunitcolor": "white"
          },
          "hoverlabel": {
           "align": "left"
          },
          "hovermode": "closest",
          "mapbox": {
           "style": "light"
          },
          "paper_bgcolor": "white",
          "plot_bgcolor": "#E5ECF6",
          "polar": {
           "angularaxis": {
            "gridcolor": "white",
            "linecolor": "white",
            "ticks": ""
           },
           "bgcolor": "#E5ECF6",
           "radialaxis": {
            "gridcolor": "white",
            "linecolor": "white",
            "ticks": ""
           }
          },
          "scene": {
           "xaxis": {
            "backgroundcolor": "#E5ECF6",
            "gridcolor": "white",
            "gridwidth": 2,
            "linecolor": "white",
            "showbackground": true,
            "ticks": "",
            "zerolinecolor": "white"
           },
           "yaxis": {
            "backgroundcolor": "#E5ECF6",
            "gridcolor": "white",
            "gridwidth": 2,
            "linecolor": "white",
            "showbackground": true,
            "ticks": "",
            "zerolinecolor": "white"
           },
           "zaxis": {
            "backgroundcolor": "#E5ECF6",
            "gridcolor": "white",
            "gridwidth": 2,
            "linecolor": "white",
            "showbackground": true,
            "ticks": "",
            "zerolinecolor": "white"
           }
          },
          "shapedefaults": {
           "line": {
            "color": "#2a3f5f"
           }
          },
          "ternary": {
           "aaxis": {
            "gridcolor": "white",
            "linecolor": "white",
            "ticks": ""
           },
           "baxis": {
            "gridcolor": "white",
            "linecolor": "white",
            "ticks": ""
           },
           "bgcolor": "#E5ECF6",
           "caxis": {
            "gridcolor": "white",
            "linecolor": "white",
            "ticks": ""
           }
          },
          "title": {
           "x": 0.05
          },
          "xaxis": {
           "automargin": true,
           "gridcolor": "white",
           "linecolor": "white",
           "ticks": "",
           "title": {
            "standoff": 15
           },
           "zerolinecolor": "white",
           "zerolinewidth": 2
          },
          "yaxis": {
           "automargin": true,
           "gridcolor": "white",
           "linecolor": "white",
           "ticks": "",
           "title": {
            "standoff": 15
           },
           "zerolinecolor": "white",
           "zerolinewidth": 2
          }
         }
        },
        "title": {
         "text": "Correlations between values in the Dataframe"
        },
        "width": 800,
        "xaxis": {
         "anchor": "y",
         "constrain": "domain",
         "domain": [
          0,
          1
         ],
         "scaleanchor": "y"
        },
        "yaxis": {
         "anchor": "x",
         "autorange": "reversed",
         "constrain": "domain",
         "domain": [
          0,
          1
         ]
        }
       }
      }
     },
     "metadata": {},
     "output_type": "display_data"
    }
   ],
   "source": [
    "import plotly.express as px\n",
    "\n",
    "# Compute the correlation matrix\n",
    "correlation_matrix = df.corr()\n",
    "\n",
    "# Create a heatmap using Plotly Express\n",
    "fig = px.imshow(correlation_matrix,\n",
    "                labels=dict(color=\"Correlation\"),  # Set the label for the color scale\n",
    "                x=correlation_matrix.columns,  # Set the x-axis labels\n",
    "                y=correlation_matrix.columns,  # Set the y-axis labels\n",
    "                color_continuous_scale=\"Viridis\",  # Set the color scale\n",
    "                title=\"Correlations between values in the Dataframe\")  # Set the title of the heatmap\n",
    "\n",
    "# Configure the layout of the figure\n",
    "fig.update_layout(\n",
    "    autosize=False,  # Disable automatic size adjustment\n",
    "    width=800,  # Set the width of the figure\n",
    "    height=800  # Set the height of the figure\n",
    ")\n",
    "\n",
    "# Display the heatmap\n",
    "fig.show()\n"
   ]
  },
  {
   "cell_type": "code",
   "execution_count": 11,
   "metadata": {},
   "outputs": [],
   "source": [
    "# Reset the index of the dataframe\n",
    "df.reset_index(drop=True, inplace=True)"
   ]
  },
  {
   "cell_type": "code",
   "execution_count": 12,
   "metadata": {},
   "outputs": [
    {
     "name": "stdout",
     "output_type": "stream",
     "text": [
      "<class 'pandas.core.frame.DataFrame'>\n",
      "RangeIndex: 5169348 entries, 0 to 5169347\n",
      "Data columns (total 12 columns):\n",
      " #   Column             Dtype  \n",
      "---  ------             -----  \n",
      " 0   reg_nuisance       int64  \n",
      " 1   year               int64  \n",
      " 2   green_score        float64\n",
      " 3   livability_score   float64\n",
      " 4   neighborhood_name  object \n",
      " 5   houses_amount      int64  \n",
      " 6   population         int64  \n",
      " 7   income             int64  \n",
      " 8   total_job_growth   float64\n",
      " 9   electricity_cons   int64  \n",
      " 10  gas_cons           int64  \n",
      " 11  co2_emi            int64  \n",
      "dtypes: float64(3), int64(8), object(1)\n",
      "memory usage: 473.3+ MB\n"
     ]
    }
   ],
   "source": [
    "# Printing out information on dataframe, after reseting indexes\n",
    "df.info()"
   ]
  },
  {
   "cell_type": "code",
   "execution_count": 13,
   "metadata": {},
   "outputs": [],
   "source": [
    "# Drop rows with missing values\n",
    "df = df.dropna()\n",
    "\n",
    "# Reset the index of the dataframe\n",
    "df.reset_index(drop=True, inplace=True)"
   ]
  },
  {
   "cell_type": "code",
   "execution_count": 14,
   "metadata": {},
   "outputs": [
    {
     "name": "stdout",
     "output_type": "stream",
     "text": [
      "<class 'pandas.core.frame.DataFrame'>\n",
      "RangeIndex: 3210930 entries, 0 to 3210929\n",
      "Data columns (total 12 columns):\n",
      " #   Column             Dtype  \n",
      "---  ------             -----  \n",
      " 0   reg_nuisance       int64  \n",
      " 1   year               int64  \n",
      " 2   green_score        float64\n",
      " 3   livability_score   float64\n",
      " 4   neighborhood_name  object \n",
      " 5   houses_amount      int64  \n",
      " 6   population         int64  \n",
      " 7   income             int64  \n",
      " 8   total_job_growth   float64\n",
      " 9   electricity_cons   int64  \n",
      " 10  gas_cons           int64  \n",
      " 11  co2_emi            int64  \n",
      "dtypes: float64(3), int64(8), object(1)\n",
      "memory usage: 294.0+ MB\n"
     ]
    }
   ],
   "source": [
    "# Printing out information on dataframe, after dropping missing values and resetting indexes\n",
    "df.info()"
   ]
  },
  {
   "cell_type": "code",
   "execution_count": 15,
   "metadata": {},
   "outputs": [
    {
     "data": {
      "text/html": [
       "<div>\n",
       "<style scoped>\n",
       "    .dataframe tbody tr th:only-of-type {\n",
       "        vertical-align: middle;\n",
       "    }\n",
       "\n",
       "    .dataframe tbody tr th {\n",
       "        vertical-align: top;\n",
       "    }\n",
       "\n",
       "    .dataframe thead th {\n",
       "        text-align: right;\n",
       "    }\n",
       "</style>\n",
       "<table border=\"1\" class=\"dataframe\">\n",
       "  <thead>\n",
       "    <tr style=\"text-align: right;\">\n",
       "      <th></th>\n",
       "      <th>reg_nuisance</th>\n",
       "      <th>year</th>\n",
       "      <th>green_score</th>\n",
       "      <th>livability_score</th>\n",
       "      <th>neighborhood_name</th>\n",
       "      <th>houses_amount</th>\n",
       "      <th>population</th>\n",
       "      <th>income</th>\n",
       "      <th>total_job_growth</th>\n",
       "      <th>electricity_cons</th>\n",
       "      <th>gas_cons</th>\n",
       "      <th>co2_emi</th>\n",
       "    </tr>\n",
       "  </thead>\n",
       "  <tbody>\n",
       "    <tr>\n",
       "      <th>0</th>\n",
       "      <td>121</td>\n",
       "      <td>2018</td>\n",
       "      <td>22.833333</td>\n",
       "      <td>2.16915</td>\n",
       "      <td>Valkenberg</td>\n",
       "      <td>83253</td>\n",
       "      <td>1960</td>\n",
       "      <td>1800</td>\n",
       "      <td>-0.8</td>\n",
       "      <td>2880</td>\n",
       "      <td>1040</td>\n",
       "      <td>277797</td>\n",
       "    </tr>\n",
       "    <tr>\n",
       "      <th>1</th>\n",
       "      <td>121</td>\n",
       "      <td>2018</td>\n",
       "      <td>22.833333</td>\n",
       "      <td>2.16915</td>\n",
       "      <td>Valkenberg</td>\n",
       "      <td>83253</td>\n",
       "      <td>1960</td>\n",
       "      <td>1800</td>\n",
       "      <td>-0.8</td>\n",
       "      <td>2880</td>\n",
       "      <td>1040</td>\n",
       "      <td>277797</td>\n",
       "    </tr>\n",
       "    <tr>\n",
       "      <th>2</th>\n",
       "      <td>121</td>\n",
       "      <td>2018</td>\n",
       "      <td>22.833333</td>\n",
       "      <td>2.16915</td>\n",
       "      <td>Valkenberg</td>\n",
       "      <td>83253</td>\n",
       "      <td>1960</td>\n",
       "      <td>1800</td>\n",
       "      <td>-0.8</td>\n",
       "      <td>2880</td>\n",
       "      <td>1040</td>\n",
       "      <td>277797</td>\n",
       "    </tr>\n",
       "    <tr>\n",
       "      <th>3</th>\n",
       "      <td>121</td>\n",
       "      <td>2018</td>\n",
       "      <td>22.833333</td>\n",
       "      <td>2.16915</td>\n",
       "      <td>Valkenberg</td>\n",
       "      <td>83253</td>\n",
       "      <td>1960</td>\n",
       "      <td>1800</td>\n",
       "      <td>-0.8</td>\n",
       "      <td>2880</td>\n",
       "      <td>1040</td>\n",
       "      <td>277797</td>\n",
       "    </tr>\n",
       "    <tr>\n",
       "      <th>4</th>\n",
       "      <td>121</td>\n",
       "      <td>2018</td>\n",
       "      <td>22.833333</td>\n",
       "      <td>2.16915</td>\n",
       "      <td>Valkenberg</td>\n",
       "      <td>83253</td>\n",
       "      <td>1960</td>\n",
       "      <td>1800</td>\n",
       "      <td>-0.8</td>\n",
       "      <td>2880</td>\n",
       "      <td>1040</td>\n",
       "      <td>277797</td>\n",
       "    </tr>\n",
       "    <tr>\n",
       "      <th>5</th>\n",
       "      <td>121</td>\n",
       "      <td>2018</td>\n",
       "      <td>22.833333</td>\n",
       "      <td>2.16915</td>\n",
       "      <td>Valkenberg</td>\n",
       "      <td>83253</td>\n",
       "      <td>1960</td>\n",
       "      <td>1800</td>\n",
       "      <td>-0.8</td>\n",
       "      <td>2880</td>\n",
       "      <td>1040</td>\n",
       "      <td>277797</td>\n",
       "    </tr>\n",
       "    <tr>\n",
       "      <th>6</th>\n",
       "      <td>121</td>\n",
       "      <td>2018</td>\n",
       "      <td>22.833333</td>\n",
       "      <td>2.16915</td>\n",
       "      <td>Valkenberg</td>\n",
       "      <td>83253</td>\n",
       "      <td>1960</td>\n",
       "      <td>1800</td>\n",
       "      <td>-0.8</td>\n",
       "      <td>2880</td>\n",
       "      <td>1040</td>\n",
       "      <td>277797</td>\n",
       "    </tr>\n",
       "    <tr>\n",
       "      <th>7</th>\n",
       "      <td>121</td>\n",
       "      <td>2018</td>\n",
       "      <td>22.833333</td>\n",
       "      <td>2.16915</td>\n",
       "      <td>Valkenberg</td>\n",
       "      <td>83253</td>\n",
       "      <td>1960</td>\n",
       "      <td>1800</td>\n",
       "      <td>-0.8</td>\n",
       "      <td>2880</td>\n",
       "      <td>1040</td>\n",
       "      <td>277797</td>\n",
       "    </tr>\n",
       "    <tr>\n",
       "      <th>8</th>\n",
       "      <td>121</td>\n",
       "      <td>2018</td>\n",
       "      <td>22.833333</td>\n",
       "      <td>2.16915</td>\n",
       "      <td>Valkenberg</td>\n",
       "      <td>83253</td>\n",
       "      <td>1960</td>\n",
       "      <td>1800</td>\n",
       "      <td>-0.8</td>\n",
       "      <td>2880</td>\n",
       "      <td>1040</td>\n",
       "      <td>277797</td>\n",
       "    </tr>\n",
       "    <tr>\n",
       "      <th>9</th>\n",
       "      <td>121</td>\n",
       "      <td>2018</td>\n",
       "      <td>22.833333</td>\n",
       "      <td>2.16915</td>\n",
       "      <td>Valkenberg</td>\n",
       "      <td>83253</td>\n",
       "      <td>1960</td>\n",
       "      <td>1800</td>\n",
       "      <td>-0.8</td>\n",
       "      <td>2880</td>\n",
       "      <td>1040</td>\n",
       "      <td>277797</td>\n",
       "    </tr>\n",
       "  </tbody>\n",
       "</table>\n",
       "</div>"
      ],
      "text/plain": [
       "   reg_nuisance  year  green_score  livability_score neighborhood_name  \\\n",
       "0           121  2018    22.833333           2.16915        Valkenberg   \n",
       "1           121  2018    22.833333           2.16915        Valkenberg   \n",
       "2           121  2018    22.833333           2.16915        Valkenberg   \n",
       "3           121  2018    22.833333           2.16915        Valkenberg   \n",
       "4           121  2018    22.833333           2.16915        Valkenberg   \n",
       "5           121  2018    22.833333           2.16915        Valkenberg   \n",
       "6           121  2018    22.833333           2.16915        Valkenberg   \n",
       "7           121  2018    22.833333           2.16915        Valkenberg   \n",
       "8           121  2018    22.833333           2.16915        Valkenberg   \n",
       "9           121  2018    22.833333           2.16915        Valkenberg   \n",
       "\n",
       "   houses_amount  population  income  total_job_growth  electricity_cons  \\\n",
       "0          83253        1960    1800              -0.8              2880   \n",
       "1          83253        1960    1800              -0.8              2880   \n",
       "2          83253        1960    1800              -0.8              2880   \n",
       "3          83253        1960    1800              -0.8              2880   \n",
       "4          83253        1960    1800              -0.8              2880   \n",
       "5          83253        1960    1800              -0.8              2880   \n",
       "6          83253        1960    1800              -0.8              2880   \n",
       "7          83253        1960    1800              -0.8              2880   \n",
       "8          83253        1960    1800              -0.8              2880   \n",
       "9          83253        1960    1800              -0.8              2880   \n",
       "\n",
       "   gas_cons  co2_emi  \n",
       "0      1040   277797  \n",
       "1      1040   277797  \n",
       "2      1040   277797  \n",
       "3      1040   277797  \n",
       "4      1040   277797  \n",
       "5      1040   277797  \n",
       "6      1040   277797  \n",
       "7      1040   277797  \n",
       "8      1040   277797  \n",
       "9      1040   277797  "
      ]
     },
     "execution_count": 15,
     "metadata": {},
     "output_type": "execute_result"
    }
   ],
   "source": [
    "# Printing out first 10 rows after dropping missing values\n",
    "df.head(10)"
   ]
  },
  {
   "attachments": {},
   "cell_type": "markdown",
   "metadata": {},
   "source": [
    "### 3. **Encoding neighborhood names**\n",
    "### In this part of ML lifecycle, we will focus on encoding "
   ]
  },
  {
   "cell_type": "code",
   "execution_count": 16,
   "metadata": {},
   "outputs": [
    {
     "name": "stdout",
     "output_type": "stream",
     "text": [
      "Unique Neighborhood Names:\n",
      "['Valkenberg' 'Fellenoord' 'City' 'Belcrum' 'Biesdonk' 'Waterdonken'\n",
      " 'Zandberg' 'Heusdenhout' 'Ypelaar' 'Overakker' 'Ginneken' 'Mastbos'\n",
      " 'Haagpoort' 'Princenhage' 'Westerpark' 'Gageldonk' 'Kesteren'\n",
      " 'Muizenberg' 'Overkroeten' 'Kroeten' 'Hagebeemd' 'Bavel'\n",
      " 'Nieuw Wolfslaar' 'Ulvenhout' 'Buitengebied Ulvenhout' 'Prinsenbeek'\n",
      " 'Teteringen' 'Buitengebied Teteringen' 'Liesbos' 'Effen-Rith']\n"
     ]
    }
   ],
   "source": [
    "from sklearn.preprocessing import OrdinalEncoder\n",
    "\n",
    "# Access unique values in the 'neighborhood_name' column\n",
    "unique_neighborhoods = df['neighborhood_name'].unique()\n",
    "\n",
    "# Print the unique neighborhood names\n",
    "print(\"Unique Neighborhood Names:\")\n",
    "print(unique_neighborhoods)\n"
   ]
  },
  {
   "cell_type": "code",
   "execution_count": 17,
   "metadata": {},
   "outputs": [],
   "source": [
    "from sklearn.preprocessing import OrdinalEncoder\n",
    "\n",
    "# List of neighborhood names\n",
    "neighborhood = [\n",
    "    'Valkenberg', 'Fellenoord', 'City', 'Belcrum', 'Biesdonk', 'Waterdonken', 'Zandberg', 'Heusdenhout', 'Ypelaar',\n",
    "    'Overakker', 'Ginneken', 'Mastbos', 'Haagpoort', 'Princenhage', 'Westerpark', 'Gageldonk', 'Kesteren',\n",
    "    'Muizenberg', 'Overkroeten', 'Kroeten', 'Hagebeemd', 'Bavel', 'Nieuw Wolfslaar', 'Ulvenhout',\n",
    "    'Buitengebied Ulvenhout', 'Prinsenbeek', 'Teteringen', 'Buitengebied Teteringen', 'Liesbos', 'Effen-Rith'\n",
    "]\n",
    "\n",
    "# Create an instance of OrdinalEncoder with specified categories\n",
    "encoder = OrdinalEncoder(categories=[neighborhood])\n",
    "\n",
    "# Fit and transform the 'neighborhood_name' column\n",
    "df['neighborhood_encoded'] = encoder.fit_transform(df[['neighborhood_name']]) + 1\n"
   ]
  },
  {
   "cell_type": "code",
   "execution_count": 18,
   "metadata": {},
   "outputs": [
    {
     "data": {
      "text/html": [
       "<div>\n",
       "<style scoped>\n",
       "    .dataframe tbody tr th:only-of-type {\n",
       "        vertical-align: middle;\n",
       "    }\n",
       "\n",
       "    .dataframe tbody tr th {\n",
       "        vertical-align: top;\n",
       "    }\n",
       "\n",
       "    .dataframe thead th {\n",
       "        text-align: right;\n",
       "    }\n",
       "</style>\n",
       "<table border=\"1\" class=\"dataframe\">\n",
       "  <thead>\n",
       "    <tr style=\"text-align: right;\">\n",
       "      <th></th>\n",
       "      <th>reg_nuisance</th>\n",
       "      <th>year</th>\n",
       "      <th>green_score</th>\n",
       "      <th>livability_score</th>\n",
       "      <th>neighborhood_name</th>\n",
       "      <th>houses_amount</th>\n",
       "      <th>population</th>\n",
       "      <th>income</th>\n",
       "      <th>total_job_growth</th>\n",
       "      <th>electricity_cons</th>\n",
       "      <th>gas_cons</th>\n",
       "      <th>co2_emi</th>\n",
       "      <th>neighborhood_encoded</th>\n",
       "    </tr>\n",
       "  </thead>\n",
       "  <tbody>\n",
       "    <tr>\n",
       "      <th>0</th>\n",
       "      <td>121</td>\n",
       "      <td>2018</td>\n",
       "      <td>22.833333</td>\n",
       "      <td>2.16915</td>\n",
       "      <td>Valkenberg</td>\n",
       "      <td>83253</td>\n",
       "      <td>1960</td>\n",
       "      <td>1800</td>\n",
       "      <td>-0.8</td>\n",
       "      <td>2880</td>\n",
       "      <td>1040</td>\n",
       "      <td>277797</td>\n",
       "      <td>1.0</td>\n",
       "    </tr>\n",
       "    <tr>\n",
       "      <th>1</th>\n",
       "      <td>121</td>\n",
       "      <td>2018</td>\n",
       "      <td>22.833333</td>\n",
       "      <td>2.16915</td>\n",
       "      <td>Valkenberg</td>\n",
       "      <td>83253</td>\n",
       "      <td>1960</td>\n",
       "      <td>1800</td>\n",
       "      <td>-0.8</td>\n",
       "      <td>2880</td>\n",
       "      <td>1040</td>\n",
       "      <td>277797</td>\n",
       "      <td>1.0</td>\n",
       "    </tr>\n",
       "    <tr>\n",
       "      <th>2</th>\n",
       "      <td>121</td>\n",
       "      <td>2018</td>\n",
       "      <td>22.833333</td>\n",
       "      <td>2.16915</td>\n",
       "      <td>Valkenberg</td>\n",
       "      <td>83253</td>\n",
       "      <td>1960</td>\n",
       "      <td>1800</td>\n",
       "      <td>-0.8</td>\n",
       "      <td>2880</td>\n",
       "      <td>1040</td>\n",
       "      <td>277797</td>\n",
       "      <td>1.0</td>\n",
       "    </tr>\n",
       "    <tr>\n",
       "      <th>3</th>\n",
       "      <td>121</td>\n",
       "      <td>2018</td>\n",
       "      <td>22.833333</td>\n",
       "      <td>2.16915</td>\n",
       "      <td>Valkenberg</td>\n",
       "      <td>83253</td>\n",
       "      <td>1960</td>\n",
       "      <td>1800</td>\n",
       "      <td>-0.8</td>\n",
       "      <td>2880</td>\n",
       "      <td>1040</td>\n",
       "      <td>277797</td>\n",
       "      <td>1.0</td>\n",
       "    </tr>\n",
       "    <tr>\n",
       "      <th>4</th>\n",
       "      <td>121</td>\n",
       "      <td>2018</td>\n",
       "      <td>22.833333</td>\n",
       "      <td>2.16915</td>\n",
       "      <td>Valkenberg</td>\n",
       "      <td>83253</td>\n",
       "      <td>1960</td>\n",
       "      <td>1800</td>\n",
       "      <td>-0.8</td>\n",
       "      <td>2880</td>\n",
       "      <td>1040</td>\n",
       "      <td>277797</td>\n",
       "      <td>1.0</td>\n",
       "    </tr>\n",
       "    <tr>\n",
       "      <th>5</th>\n",
       "      <td>121</td>\n",
       "      <td>2018</td>\n",
       "      <td>22.833333</td>\n",
       "      <td>2.16915</td>\n",
       "      <td>Valkenberg</td>\n",
       "      <td>83253</td>\n",
       "      <td>1960</td>\n",
       "      <td>1800</td>\n",
       "      <td>-0.8</td>\n",
       "      <td>2880</td>\n",
       "      <td>1040</td>\n",
       "      <td>277797</td>\n",
       "      <td>1.0</td>\n",
       "    </tr>\n",
       "    <tr>\n",
       "      <th>6</th>\n",
       "      <td>121</td>\n",
       "      <td>2018</td>\n",
       "      <td>22.833333</td>\n",
       "      <td>2.16915</td>\n",
       "      <td>Valkenberg</td>\n",
       "      <td>83253</td>\n",
       "      <td>1960</td>\n",
       "      <td>1800</td>\n",
       "      <td>-0.8</td>\n",
       "      <td>2880</td>\n",
       "      <td>1040</td>\n",
       "      <td>277797</td>\n",
       "      <td>1.0</td>\n",
       "    </tr>\n",
       "    <tr>\n",
       "      <th>7</th>\n",
       "      <td>121</td>\n",
       "      <td>2018</td>\n",
       "      <td>22.833333</td>\n",
       "      <td>2.16915</td>\n",
       "      <td>Valkenberg</td>\n",
       "      <td>83253</td>\n",
       "      <td>1960</td>\n",
       "      <td>1800</td>\n",
       "      <td>-0.8</td>\n",
       "      <td>2880</td>\n",
       "      <td>1040</td>\n",
       "      <td>277797</td>\n",
       "      <td>1.0</td>\n",
       "    </tr>\n",
       "    <tr>\n",
       "      <th>8</th>\n",
       "      <td>121</td>\n",
       "      <td>2018</td>\n",
       "      <td>22.833333</td>\n",
       "      <td>2.16915</td>\n",
       "      <td>Valkenberg</td>\n",
       "      <td>83253</td>\n",
       "      <td>1960</td>\n",
       "      <td>1800</td>\n",
       "      <td>-0.8</td>\n",
       "      <td>2880</td>\n",
       "      <td>1040</td>\n",
       "      <td>277797</td>\n",
       "      <td>1.0</td>\n",
       "    </tr>\n",
       "    <tr>\n",
       "      <th>9</th>\n",
       "      <td>121</td>\n",
       "      <td>2018</td>\n",
       "      <td>22.833333</td>\n",
       "      <td>2.16915</td>\n",
       "      <td>Valkenberg</td>\n",
       "      <td>83253</td>\n",
       "      <td>1960</td>\n",
       "      <td>1800</td>\n",
       "      <td>-0.8</td>\n",
       "      <td>2880</td>\n",
       "      <td>1040</td>\n",
       "      <td>277797</td>\n",
       "      <td>1.0</td>\n",
       "    </tr>\n",
       "  </tbody>\n",
       "</table>\n",
       "</div>"
      ],
      "text/plain": [
       "   reg_nuisance  year  green_score  livability_score neighborhood_name  \\\n",
       "0           121  2018    22.833333           2.16915        Valkenberg   \n",
       "1           121  2018    22.833333           2.16915        Valkenberg   \n",
       "2           121  2018    22.833333           2.16915        Valkenberg   \n",
       "3           121  2018    22.833333           2.16915        Valkenberg   \n",
       "4           121  2018    22.833333           2.16915        Valkenberg   \n",
       "5           121  2018    22.833333           2.16915        Valkenberg   \n",
       "6           121  2018    22.833333           2.16915        Valkenberg   \n",
       "7           121  2018    22.833333           2.16915        Valkenberg   \n",
       "8           121  2018    22.833333           2.16915        Valkenberg   \n",
       "9           121  2018    22.833333           2.16915        Valkenberg   \n",
       "\n",
       "   houses_amount  population  income  total_job_growth  electricity_cons  \\\n",
       "0          83253        1960    1800              -0.8              2880   \n",
       "1          83253        1960    1800              -0.8              2880   \n",
       "2          83253        1960    1800              -0.8              2880   \n",
       "3          83253        1960    1800              -0.8              2880   \n",
       "4          83253        1960    1800              -0.8              2880   \n",
       "5          83253        1960    1800              -0.8              2880   \n",
       "6          83253        1960    1800              -0.8              2880   \n",
       "7          83253        1960    1800              -0.8              2880   \n",
       "8          83253        1960    1800              -0.8              2880   \n",
       "9          83253        1960    1800              -0.8              2880   \n",
       "\n",
       "   gas_cons  co2_emi  neighborhood_encoded  \n",
       "0      1040   277797                   1.0  \n",
       "1      1040   277797                   1.0  \n",
       "2      1040   277797                   1.0  \n",
       "3      1040   277797                   1.0  \n",
       "4      1040   277797                   1.0  \n",
       "5      1040   277797                   1.0  \n",
       "6      1040   277797                   1.0  \n",
       "7      1040   277797                   1.0  \n",
       "8      1040   277797                   1.0  \n",
       "9      1040   277797                   1.0  "
      ]
     },
     "execution_count": 18,
     "metadata": {},
     "output_type": "execute_result"
    }
   ],
   "source": [
    "df.head(10)"
   ]
  },
  {
   "cell_type": "code",
   "execution_count": 19,
   "metadata": {},
   "outputs": [],
   "source": [
    "# Convert 'neighborhood_encoded' column to 64-bit integer\n",
    "df['neighborhood_encoded'] = df['neighborhood_encoded'].astype(np.int64)"
   ]
  },
  {
   "cell_type": "code",
   "execution_count": 20,
   "metadata": {},
   "outputs": [
    {
     "data": {
      "text/html": [
       "<div>\n",
       "<style scoped>\n",
       "    .dataframe tbody tr th:only-of-type {\n",
       "        vertical-align: middle;\n",
       "    }\n",
       "\n",
       "    .dataframe tbody tr th {\n",
       "        vertical-align: top;\n",
       "    }\n",
       "\n",
       "    .dataframe thead th {\n",
       "        text-align: right;\n",
       "    }\n",
       "</style>\n",
       "<table border=\"1\" class=\"dataframe\">\n",
       "  <thead>\n",
       "    <tr style=\"text-align: right;\">\n",
       "      <th></th>\n",
       "      <th>reg_nuisance</th>\n",
       "      <th>year</th>\n",
       "      <th>green_score</th>\n",
       "      <th>livability_score</th>\n",
       "      <th>neighborhood_name</th>\n",
       "      <th>houses_amount</th>\n",
       "      <th>population</th>\n",
       "      <th>income</th>\n",
       "      <th>total_job_growth</th>\n",
       "      <th>electricity_cons</th>\n",
       "      <th>gas_cons</th>\n",
       "      <th>co2_emi</th>\n",
       "      <th>neighborhood_encoded</th>\n",
       "    </tr>\n",
       "  </thead>\n",
       "  <tbody>\n",
       "    <tr>\n",
       "      <th>0</th>\n",
       "      <td>121</td>\n",
       "      <td>2018</td>\n",
       "      <td>22.833333</td>\n",
       "      <td>2.16915</td>\n",
       "      <td>Valkenberg</td>\n",
       "      <td>83253</td>\n",
       "      <td>1960</td>\n",
       "      <td>1800</td>\n",
       "      <td>-0.8</td>\n",
       "      <td>2880</td>\n",
       "      <td>1040</td>\n",
       "      <td>277797</td>\n",
       "      <td>1</td>\n",
       "    </tr>\n",
       "    <tr>\n",
       "      <th>1</th>\n",
       "      <td>121</td>\n",
       "      <td>2018</td>\n",
       "      <td>22.833333</td>\n",
       "      <td>2.16915</td>\n",
       "      <td>Valkenberg</td>\n",
       "      <td>83253</td>\n",
       "      <td>1960</td>\n",
       "      <td>1800</td>\n",
       "      <td>-0.8</td>\n",
       "      <td>2880</td>\n",
       "      <td>1040</td>\n",
       "      <td>277797</td>\n",
       "      <td>1</td>\n",
       "    </tr>\n",
       "    <tr>\n",
       "      <th>2</th>\n",
       "      <td>121</td>\n",
       "      <td>2018</td>\n",
       "      <td>22.833333</td>\n",
       "      <td>2.16915</td>\n",
       "      <td>Valkenberg</td>\n",
       "      <td>83253</td>\n",
       "      <td>1960</td>\n",
       "      <td>1800</td>\n",
       "      <td>-0.8</td>\n",
       "      <td>2880</td>\n",
       "      <td>1040</td>\n",
       "      <td>277797</td>\n",
       "      <td>1</td>\n",
       "    </tr>\n",
       "    <tr>\n",
       "      <th>3</th>\n",
       "      <td>121</td>\n",
       "      <td>2018</td>\n",
       "      <td>22.833333</td>\n",
       "      <td>2.16915</td>\n",
       "      <td>Valkenberg</td>\n",
       "      <td>83253</td>\n",
       "      <td>1960</td>\n",
       "      <td>1800</td>\n",
       "      <td>-0.8</td>\n",
       "      <td>2880</td>\n",
       "      <td>1040</td>\n",
       "      <td>277797</td>\n",
       "      <td>1</td>\n",
       "    </tr>\n",
       "    <tr>\n",
       "      <th>4</th>\n",
       "      <td>121</td>\n",
       "      <td>2018</td>\n",
       "      <td>22.833333</td>\n",
       "      <td>2.16915</td>\n",
       "      <td>Valkenberg</td>\n",
       "      <td>83253</td>\n",
       "      <td>1960</td>\n",
       "      <td>1800</td>\n",
       "      <td>-0.8</td>\n",
       "      <td>2880</td>\n",
       "      <td>1040</td>\n",
       "      <td>277797</td>\n",
       "      <td>1</td>\n",
       "    </tr>\n",
       "    <tr>\n",
       "      <th>5</th>\n",
       "      <td>121</td>\n",
       "      <td>2018</td>\n",
       "      <td>22.833333</td>\n",
       "      <td>2.16915</td>\n",
       "      <td>Valkenberg</td>\n",
       "      <td>83253</td>\n",
       "      <td>1960</td>\n",
       "      <td>1800</td>\n",
       "      <td>-0.8</td>\n",
       "      <td>2880</td>\n",
       "      <td>1040</td>\n",
       "      <td>277797</td>\n",
       "      <td>1</td>\n",
       "    </tr>\n",
       "    <tr>\n",
       "      <th>6</th>\n",
       "      <td>121</td>\n",
       "      <td>2018</td>\n",
       "      <td>22.833333</td>\n",
       "      <td>2.16915</td>\n",
       "      <td>Valkenberg</td>\n",
       "      <td>83253</td>\n",
       "      <td>1960</td>\n",
       "      <td>1800</td>\n",
       "      <td>-0.8</td>\n",
       "      <td>2880</td>\n",
       "      <td>1040</td>\n",
       "      <td>277797</td>\n",
       "      <td>1</td>\n",
       "    </tr>\n",
       "    <tr>\n",
       "      <th>7</th>\n",
       "      <td>121</td>\n",
       "      <td>2018</td>\n",
       "      <td>22.833333</td>\n",
       "      <td>2.16915</td>\n",
       "      <td>Valkenberg</td>\n",
       "      <td>83253</td>\n",
       "      <td>1960</td>\n",
       "      <td>1800</td>\n",
       "      <td>-0.8</td>\n",
       "      <td>2880</td>\n",
       "      <td>1040</td>\n",
       "      <td>277797</td>\n",
       "      <td>1</td>\n",
       "    </tr>\n",
       "    <tr>\n",
       "      <th>8</th>\n",
       "      <td>121</td>\n",
       "      <td>2018</td>\n",
       "      <td>22.833333</td>\n",
       "      <td>2.16915</td>\n",
       "      <td>Valkenberg</td>\n",
       "      <td>83253</td>\n",
       "      <td>1960</td>\n",
       "      <td>1800</td>\n",
       "      <td>-0.8</td>\n",
       "      <td>2880</td>\n",
       "      <td>1040</td>\n",
       "      <td>277797</td>\n",
       "      <td>1</td>\n",
       "    </tr>\n",
       "    <tr>\n",
       "      <th>9</th>\n",
       "      <td>121</td>\n",
       "      <td>2018</td>\n",
       "      <td>22.833333</td>\n",
       "      <td>2.16915</td>\n",
       "      <td>Valkenberg</td>\n",
       "      <td>83253</td>\n",
       "      <td>1960</td>\n",
       "      <td>1800</td>\n",
       "      <td>-0.8</td>\n",
       "      <td>2880</td>\n",
       "      <td>1040</td>\n",
       "      <td>277797</td>\n",
       "      <td>1</td>\n",
       "    </tr>\n",
       "  </tbody>\n",
       "</table>\n",
       "</div>"
      ],
      "text/plain": [
       "   reg_nuisance  year  green_score  livability_score neighborhood_name  \\\n",
       "0           121  2018    22.833333           2.16915        Valkenberg   \n",
       "1           121  2018    22.833333           2.16915        Valkenberg   \n",
       "2           121  2018    22.833333           2.16915        Valkenberg   \n",
       "3           121  2018    22.833333           2.16915        Valkenberg   \n",
       "4           121  2018    22.833333           2.16915        Valkenberg   \n",
       "5           121  2018    22.833333           2.16915        Valkenberg   \n",
       "6           121  2018    22.833333           2.16915        Valkenberg   \n",
       "7           121  2018    22.833333           2.16915        Valkenberg   \n",
       "8           121  2018    22.833333           2.16915        Valkenberg   \n",
       "9           121  2018    22.833333           2.16915        Valkenberg   \n",
       "\n",
       "   houses_amount  population  income  total_job_growth  electricity_cons  \\\n",
       "0          83253        1960    1800              -0.8              2880   \n",
       "1          83253        1960    1800              -0.8              2880   \n",
       "2          83253        1960    1800              -0.8              2880   \n",
       "3          83253        1960    1800              -0.8              2880   \n",
       "4          83253        1960    1800              -0.8              2880   \n",
       "5          83253        1960    1800              -0.8              2880   \n",
       "6          83253        1960    1800              -0.8              2880   \n",
       "7          83253        1960    1800              -0.8              2880   \n",
       "8          83253        1960    1800              -0.8              2880   \n",
       "9          83253        1960    1800              -0.8              2880   \n",
       "\n",
       "   gas_cons  co2_emi  neighborhood_encoded  \n",
       "0      1040   277797                     1  \n",
       "1      1040   277797                     1  \n",
       "2      1040   277797                     1  \n",
       "3      1040   277797                     1  \n",
       "4      1040   277797                     1  \n",
       "5      1040   277797                     1  \n",
       "6      1040   277797                     1  \n",
       "7      1040   277797                     1  \n",
       "8      1040   277797                     1  \n",
       "9      1040   277797                     1  "
      ]
     },
     "execution_count": 20,
     "metadata": {},
     "output_type": "execute_result"
    }
   ],
   "source": [
    "df.head(10)"
   ]
  },
  {
   "cell_type": "code",
   "execution_count": 21,
   "metadata": {},
   "outputs": [],
   "source": [
    "# Filter out rows with reg_nuisance value of 0\n",
    "df = df[df['reg_nuisance'] != 0].reset_index(drop=True)"
   ]
  },
  {
   "cell_type": "code",
   "execution_count": 22,
   "metadata": {},
   "outputs": [],
   "source": [
    "# Group by all columns and calculate the mean\n",
    "df = df.groupby(df.columns.tolist()).mean().reset_index()"
   ]
  },
  {
   "cell_type": "code",
   "execution_count": 23,
   "metadata": {},
   "outputs": [
    {
     "name": "stdout",
     "output_type": "stream",
     "text": [
      "<class 'pandas.core.frame.DataFrame'>\n",
      "RangeIndex: 96613 entries, 0 to 96612\n",
      "Data columns (total 13 columns):\n",
      " #   Column                Non-Null Count  Dtype  \n",
      "---  ------                --------------  -----  \n",
      " 0   reg_nuisance          96613 non-null  int64  \n",
      " 1   year                  96613 non-null  int64  \n",
      " 2   green_score           96613 non-null  float64\n",
      " 3   livability_score      96613 non-null  float64\n",
      " 4   neighborhood_name     96613 non-null  object \n",
      " 5   houses_amount         96613 non-null  int64  \n",
      " 6   population            96613 non-null  int64  \n",
      " 7   income                96613 non-null  int64  \n",
      " 8   total_job_growth      96613 non-null  float64\n",
      " 9   electricity_cons      96613 non-null  int64  \n",
      " 10  gas_cons              96613 non-null  int64  \n",
      " 11  co2_emi               96613 non-null  int64  \n",
      " 12  neighborhood_encoded  96613 non-null  int64  \n",
      "dtypes: float64(3), int64(9), object(1)\n",
      "memory usage: 9.6+ MB\n"
     ]
    }
   ],
   "source": [
    "# Printing out information on dataframe after grouping \n",
    "df.info()"
   ]
  },
  {
   "cell_type": "code",
   "execution_count": 24,
   "metadata": {},
   "outputs": [],
   "source": [
    "# Sorting dataframe by ascending neighourbood_encoded values\n",
    "df.sort_values('neighborhood_encoded', ascending=True, inplace=True)"
   ]
  },
  {
   "cell_type": "code",
   "execution_count": 25,
   "metadata": {},
   "outputs": [
    {
     "data": {
      "text/html": [
       "<div>\n",
       "<style scoped>\n",
       "    .dataframe tbody tr th:only-of-type {\n",
       "        vertical-align: middle;\n",
       "    }\n",
       "\n",
       "    .dataframe tbody tr th {\n",
       "        vertical-align: top;\n",
       "    }\n",
       "\n",
       "    .dataframe thead th {\n",
       "        text-align: right;\n",
       "    }\n",
       "</style>\n",
       "<table border=\"1\" class=\"dataframe\">\n",
       "  <thead>\n",
       "    <tr style=\"text-align: right;\">\n",
       "      <th></th>\n",
       "      <th>reg_nuisance</th>\n",
       "      <th>year</th>\n",
       "      <th>green_score</th>\n",
       "      <th>livability_score</th>\n",
       "      <th>neighborhood_name</th>\n",
       "      <th>houses_amount</th>\n",
       "      <th>population</th>\n",
       "      <th>income</th>\n",
       "      <th>total_job_growth</th>\n",
       "      <th>electricity_cons</th>\n",
       "      <th>gas_cons</th>\n",
       "      <th>co2_emi</th>\n",
       "      <th>neighborhood_encoded</th>\n",
       "    </tr>\n",
       "  </thead>\n",
       "  <tbody>\n",
       "    <tr>\n",
       "      <th>61073</th>\n",
       "      <td>33</td>\n",
       "      <td>2014</td>\n",
       "      <td>41.666667</td>\n",
       "      <td>2.145077</td>\n",
       "      <td>Valkenberg</td>\n",
       "      <td>80717</td>\n",
       "      <td>1905</td>\n",
       "      <td>1800</td>\n",
       "      <td>-0.8</td>\n",
       "      <td>3100</td>\n",
       "      <td>1010</td>\n",
       "      <td>304149</td>\n",
       "      <td>1</td>\n",
       "    </tr>\n",
       "    <tr>\n",
       "      <th>60952</th>\n",
       "      <td>32</td>\n",
       "      <td>2018</td>\n",
       "      <td>22.500000</td>\n",
       "      <td>2.278059</td>\n",
       "      <td>Valkenberg</td>\n",
       "      <td>83253</td>\n",
       "      <td>1960</td>\n",
       "      <td>1800</td>\n",
       "      <td>-0.8</td>\n",
       "      <td>2880</td>\n",
       "      <td>1040</td>\n",
       "      <td>277797</td>\n",
       "      <td>1</td>\n",
       "    </tr>\n",
       "    <tr>\n",
       "      <th>60953</th>\n",
       "      <td>32</td>\n",
       "      <td>2018</td>\n",
       "      <td>22.500000</td>\n",
       "      <td>2.362862</td>\n",
       "      <td>Valkenberg</td>\n",
       "      <td>83253</td>\n",
       "      <td>1960</td>\n",
       "      <td>1800</td>\n",
       "      <td>-0.8</td>\n",
       "      <td>2880</td>\n",
       "      <td>1040</td>\n",
       "      <td>277797</td>\n",
       "      <td>1</td>\n",
       "    </tr>\n",
       "    <tr>\n",
       "      <th>60954</th>\n",
       "      <td>32</td>\n",
       "      <td>2018</td>\n",
       "      <td>22.666667</td>\n",
       "      <td>2.311084</td>\n",
       "      <td>Valkenberg</td>\n",
       "      <td>83253</td>\n",
       "      <td>1960</td>\n",
       "      <td>1800</td>\n",
       "      <td>-0.8</td>\n",
       "      <td>2880</td>\n",
       "      <td>1040</td>\n",
       "      <td>277797</td>\n",
       "      <td>1</td>\n",
       "    </tr>\n",
       "    <tr>\n",
       "      <th>60955</th>\n",
       "      <td>32</td>\n",
       "      <td>2018</td>\n",
       "      <td>22.833333</td>\n",
       "      <td>2.169150</td>\n",
       "      <td>Valkenberg</td>\n",
       "      <td>83253</td>\n",
       "      <td>1960</td>\n",
       "      <td>1800</td>\n",
       "      <td>-0.8</td>\n",
       "      <td>2880</td>\n",
       "      <td>1040</td>\n",
       "      <td>277797</td>\n",
       "      <td>1</td>\n",
       "    </tr>\n",
       "    <tr>\n",
       "      <th>60956</th>\n",
       "      <td>32</td>\n",
       "      <td>2018</td>\n",
       "      <td>22.833333</td>\n",
       "      <td>2.264211</td>\n",
       "      <td>Valkenberg</td>\n",
       "      <td>83253</td>\n",
       "      <td>1960</td>\n",
       "      <td>1800</td>\n",
       "      <td>-0.8</td>\n",
       "      <td>2880</td>\n",
       "      <td>1040</td>\n",
       "      <td>277797</td>\n",
       "      <td>1</td>\n",
       "    </tr>\n",
       "    <tr>\n",
       "      <th>60957</th>\n",
       "      <td>32</td>\n",
       "      <td>2018</td>\n",
       "      <td>22.833333</td>\n",
       "      <td>2.337010</td>\n",
       "      <td>Valkenberg</td>\n",
       "      <td>83253</td>\n",
       "      <td>1960</td>\n",
       "      <td>1800</td>\n",
       "      <td>-0.8</td>\n",
       "      <td>2880</td>\n",
       "      <td>1040</td>\n",
       "      <td>277797</td>\n",
       "      <td>1</td>\n",
       "    </tr>\n",
       "    <tr>\n",
       "      <th>60958</th>\n",
       "      <td>32</td>\n",
       "      <td>2018</td>\n",
       "      <td>23.000000</td>\n",
       "      <td>2.325074</td>\n",
       "      <td>Valkenberg</td>\n",
       "      <td>83253</td>\n",
       "      <td>1960</td>\n",
       "      <td>1800</td>\n",
       "      <td>-0.8</td>\n",
       "      <td>2880</td>\n",
       "      <td>1040</td>\n",
       "      <td>277797</td>\n",
       "      <td>1</td>\n",
       "    </tr>\n",
       "    <tr>\n",
       "      <th>60959</th>\n",
       "      <td>32</td>\n",
       "      <td>2018</td>\n",
       "      <td>23.000000</td>\n",
       "      <td>2.362862</td>\n",
       "      <td>Valkenberg</td>\n",
       "      <td>83253</td>\n",
       "      <td>1960</td>\n",
       "      <td>1800</td>\n",
       "      <td>-0.8</td>\n",
       "      <td>2880</td>\n",
       "      <td>1040</td>\n",
       "      <td>277797</td>\n",
       "      <td>1</td>\n",
       "    </tr>\n",
       "    <tr>\n",
       "      <th>60960</th>\n",
       "      <td>32</td>\n",
       "      <td>2018</td>\n",
       "      <td>23.166667</td>\n",
       "      <td>2.121696</td>\n",
       "      <td>Valkenberg</td>\n",
       "      <td>83253</td>\n",
       "      <td>1960</td>\n",
       "      <td>1800</td>\n",
       "      <td>-0.8</td>\n",
       "      <td>2880</td>\n",
       "      <td>1040</td>\n",
       "      <td>277797</td>\n",
       "      <td>1</td>\n",
       "    </tr>\n",
       "  </tbody>\n",
       "</table>\n",
       "</div>"
      ],
      "text/plain": [
       "       reg_nuisance  year  green_score  livability_score neighborhood_name  \\\n",
       "61073            33  2014    41.666667          2.145077        Valkenberg   \n",
       "60952            32  2018    22.500000          2.278059        Valkenberg   \n",
       "60953            32  2018    22.500000          2.362862        Valkenberg   \n",
       "60954            32  2018    22.666667          2.311084        Valkenberg   \n",
       "60955            32  2018    22.833333          2.169150        Valkenberg   \n",
       "60956            32  2018    22.833333          2.264211        Valkenberg   \n",
       "60957            32  2018    22.833333          2.337010        Valkenberg   \n",
       "60958            32  2018    23.000000          2.325074        Valkenberg   \n",
       "60959            32  2018    23.000000          2.362862        Valkenberg   \n",
       "60960            32  2018    23.166667          2.121696        Valkenberg   \n",
       "\n",
       "       houses_amount  population  income  total_job_growth  electricity_cons  \\\n",
       "61073          80717        1905    1800              -0.8              3100   \n",
       "60952          83253        1960    1800              -0.8              2880   \n",
       "60953          83253        1960    1800              -0.8              2880   \n",
       "60954          83253        1960    1800              -0.8              2880   \n",
       "60955          83253        1960    1800              -0.8              2880   \n",
       "60956          83253        1960    1800              -0.8              2880   \n",
       "60957          83253        1960    1800              -0.8              2880   \n",
       "60958          83253        1960    1800              -0.8              2880   \n",
       "60959          83253        1960    1800              -0.8              2880   \n",
       "60960          83253        1960    1800              -0.8              2880   \n",
       "\n",
       "       gas_cons  co2_emi  neighborhood_encoded  \n",
       "61073      1010   304149                     1  \n",
       "60952      1040   277797                     1  \n",
       "60953      1040   277797                     1  \n",
       "60954      1040   277797                     1  \n",
       "60955      1040   277797                     1  \n",
       "60956      1040   277797                     1  \n",
       "60957      1040   277797                     1  \n",
       "60958      1040   277797                     1  \n",
       "60959      1040   277797                     1  \n",
       "60960      1040   277797                     1  "
      ]
     },
     "execution_count": 25,
     "metadata": {},
     "output_type": "execute_result"
    }
   ],
   "source": [
    "# Printing out first 10 rows of dataframe, after grouping and sorting\n",
    "df.head(10)"
   ]
  },
  {
   "cell_type": "code",
   "execution_count": 26,
   "metadata": {},
   "outputs": [],
   "source": [
    "# Saving preprocessed dataframe to CSV file, for ML purposes\n",
    "df.to_csv('final_ML.csv', index=False)"
   ]
  },
  {
   "attachments": {},
   "cell_type": "markdown",
   "metadata": {},
   "source": [
    "### **4. Exploring different ML models, to determine which one is the best performing one**\n",
    "### In this block of code, we are exploring different ML models, which potentially can be used in the final product.\n",
    "### We are testing models such as voting regressor, random forest regressor, linear regression and decision tree regressor.\n",
    "### Based on initial training, by printing evaluation metrics such as Mean Squared Error, Mean Absolute Error and R Squared Error, we will determin, which model is performing the best!"
   ]
  },
  {
   "cell_type": "code",
   "execution_count": 27,
   "metadata": {},
   "outputs": [
    {
     "name": "stdout",
     "output_type": "stream",
     "text": [
      "Evaluation scores for Decision Tree\n",
      "Mean Squared Error: 42.294800652294654\n",
      "Mean Absolute Error: 4.866534678979742\n",
      "R2 Score: 0.6277438910342733\n",
      "--------------------------\n",
      "Evaluation scores for Random Forest\n",
      "Mean Squared Error: 41.10718112793872\n",
      "Mean Absolute Error: 4.815895491709463\n",
      "R2 Score: 0.6381966799409514\n",
      "--------------------------\n",
      "Evaluation scores for Linear Regression\n",
      "Mean Squared Error: 101.13498899968512\n",
      "Mean Absolute Error: 8.217505491306103\n",
      "R2 Score: 0.10986416995272441\n",
      "--------------------------\n",
      "Evaluation scores for Voting Regressor\n",
      "Mean Squared Error: 45.398266118260324\n",
      "Mean Absolute Error: 5.332786382468995\n",
      "R2 Score: 0.6004288555960531\n",
      "--------------------------\n"
     ]
    }
   ],
   "source": [
    "import pandas as pd\n",
    "from sklearn.ensemble import VotingRegressor\n",
    "from sklearn.tree import DecisionTreeRegressor\n",
    "from sklearn.ensemble import RandomForestRegressor\n",
    "from sklearn.linear_model import LinearRegression\n",
    "from sklearn.model_selection import train_test_split\n",
    "from sklearn.metrics import mean_squared_error, mean_absolute_error, r2_score\n",
    "\n",
    "def evaluate_voting_regressor(df):\n",
    "    \"\"\"\n",
    "    Perform evaluation of a VotingRegressor model using multiple individual regression models.\n",
    "\n",
    "    Args:\n",
    "        df (pandas.DataFrame): Input DataFrame containing the data.\n",
    "\n",
    "    Returns:\n",
    "        dict: Dictionary containing evaluation scores for each individual model and the VotingRegressor model.\n",
    "    \"\"\"\n",
    "    # Select the features and target variable\n",
    "    features = ['reg_nuisance', 'year', 'livability_score', 'houses_amount', 'population', 'income', 'total_job_growth', 'electricity_cons', 'gas_cons', 'co2_emi', 'neighborhood_encoded']\n",
    "    target = 'green_score'\n",
    "\n",
    "    # Split the data into training and testing sets\n",
    "    X_train, X_test, y_train, y_test = train_test_split(df[features], df[target], test_size=0.2, random_state=42)\n",
    "\n",
    "    # Create the individual regression models\n",
    "    decision_tree = DecisionTreeRegressor(random_state=42)\n",
    "    random_forest = RandomForestRegressor(n_estimators=100, random_state=42)\n",
    "    linear_regression = LinearRegression()\n",
    "\n",
    "    # Fit the individual regression models\n",
    "    decision_tree.fit(X_train, y_train)\n",
    "    random_forest.fit(X_train, y_train)\n",
    "    linear_regression.fit(X_train, y_train)\n",
    "\n",
    "    # Create the VotingRegressor model with multiple models\n",
    "    voting_regressor = VotingRegressor([\n",
    "        ('decision_tree', decision_tree),\n",
    "        ('random_forest', random_forest),\n",
    "        ('linear_regression', linear_regression)\n",
    "    ])\n",
    "    \n",
    "    # Train the VotingRegressor model\n",
    "    voting_regressor.fit(X_train, y_train)\n",
    "\n",
    "    # Make predictions on the test set\n",
    "    y_pred = voting_regressor.predict(X_test)\n",
    "\n",
    "    # Evaluate each individual model\n",
    "    models = [decision_tree, random_forest, linear_regression]\n",
    "    model_names = ['Decision Tree', 'Random Forest', 'Linear Regression']\n",
    "\n",
    "    evaluation_scores = {}\n",
    "\n",
    "    for model, name in zip(models, model_names):\n",
    "        y_pred_model = model.predict(X_test)\n",
    "        mse = mean_squared_error(y_test, y_pred_model)\n",
    "        mae = mean_absolute_error(y_test, y_pred_model)\n",
    "        r2 = r2_score(y_test, y_pred_model)\n",
    "\n",
    "        evaluation_scores[name] = {\n",
    "            \"Mean Squared Error\": mse,\n",
    "            \"Mean Absolute Error\": mae,\n",
    "            \"R2 Score\": r2\n",
    "        }\n",
    "\n",
    "    # Evaluate the VotingRegressor model\n",
    "    mse_voting = mean_squared_error(y_test, y_pred)\n",
    "    mae_voting = mean_absolute_error(y_test, y_pred)\n",
    "    r2_voting = r2_score(y_test, y_pred)\n",
    "\n",
    "    evaluation_scores[\"Voting Regressor\"] = {\n",
    "        \"Mean Squared Error\": mse_voting,\n",
    "        \"Mean Absolute Error\": mae_voting,\n",
    "        \"R2 Score\": r2_voting\n",
    "    }\n",
    "\n",
    "    return evaluation_scores\n",
    "\n",
    "evaluation_results = evaluate_voting_regressor(df)\n",
    "\n",
    "# Print evaluation scores for each model\n",
    "for model_name, scores in evaluation_results.items():\n",
    "    print(\"Evaluation scores for\", model_name)\n",
    "    for metric, value in scores.items():\n",
    "        print(metric + \":\", value)\n",
    "    print(\"--------------------------\")"
   ]
  },
  {
   "attachments": {},
   "cell_type": "markdown",
   "metadata": {},
   "source": [
    "### 5. **ML models Tuning - Iteration**\n",
    "### In this block, we are iterating on the selected models, by applying feature engineering techniques as Label Encoding and Feature Scaling\n",
    "Label encoding is appropriate for model iteration and tuning because it converts categorical variables into numerical labels, allowing the model to work with the encoded representation. This is important because many machine learning algorithms only accept numerical inputs. Label encoding enables the model to understand the relationship between different categories and make better predictions.\n",
    "\n",
    "Feature scaling is crucial for model iteration and tuning because it brings features to a similar scale, preventing certain features from dominating the model's learning process. Scaling ensures that each feature contributes equally to the model's performance and prevents bias towards features with larger values. It facilitates stable and efficient model training, especially for algorithms that rely on distance calculations or gradient-based optimization methods. Scaling enhances the interpretability of feature importance and improves the model's generalization ability.\n"
   ]
  },
  {
   "cell_type": "code",
   "execution_count": 28,
   "metadata": {},
   "outputs": [
    {
     "name": "stdout",
     "output_type": "stream",
     "text": [
      "Evaluation scores for Decision Tree\n",
      "Mean Squared Error: 42.29583676642463\n",
      "Mean Absolute Error: 4.866668371125544\n",
      "R2 Score: 0.6277347717144393\n",
      "--------------------------\n",
      "Evaluation scores for Random Forest\n",
      "Mean Squared Error: 41.107616200791604\n",
      "Mean Absolute Error: 4.815952460778019\n",
      "R2 Score: 0.6381928506634792\n",
      "--------------------------\n",
      "Evaluation scores for Linear Regression\n",
      "Mean Squared Error: 101.13452932834545\n",
      "Mean Absolute Error: 8.217458109241631\n",
      "R2 Score: 0.10986821573285988\n",
      "--------------------------\n",
      "Evaluation scores for Voting Regressor\n",
      "Mean Squared Error: 45.398244708015675\n",
      "Mean Absolute Error: 5.3328464796661486\n",
      "R2 Score: 0.6004290440375222\n",
      "--------------------------\n"
     ]
    }
   ],
   "source": [
    "import pandas as pd\n",
    "from sklearn.ensemble import VotingRegressor\n",
    "from sklearn.tree import DecisionTreeRegressor\n",
    "from sklearn.ensemble import RandomForestRegressor\n",
    "from sklearn.linear_model import LinearRegression\n",
    "from sklearn.model_selection import train_test_split\n",
    "from sklearn.metrics import mean_squared_error, mean_absolute_error, r2_score\n",
    "from sklearn.preprocessing import StandardScaler, LabelEncoder\n",
    "\n",
    "def evaluate_voting_regressor_tuned(df):\n",
    "    \"\"\"\n",
    "    Perform evaluation of a VotingRegressor model using multiple individual regression models based on added feature engineering techniques.\n",
    "\n",
    "    Args:\n",
    "        df (pandas.DataFrame): Input DataFrame containing the data.\n",
    "\n",
    "    Returns:\n",
    "        dict: Dictionary containing evaluation scores for each individual model and the VotingRegressor model.\n",
    "    \"\"\"\n",
    "    # Select the features and target variable\n",
    "    features = ['reg_nuisance', 'year', 'livability_score', 'houses_amount', 'population', 'income', 'total_job_growth', 'electricity_cons', 'gas_cons', 'co2_emi', 'neighborhood_encoded']\n",
    "    target = 'green_score'\n",
    "\n",
    "    # Preprocessing\n",
    "\n",
    "    # Encoding categorical feature 'neighborhood_encoded'\n",
    "    label_encoder = LabelEncoder()\n",
    "    df['neighborhood_encoded'] = label_encoder.fit_transform(df['neighborhood_encoded'])\n",
    "\n",
    "    # Scaling numerical features\n",
    "    scaler = StandardScaler()\n",
    "    df[features] = scaler.fit_transform(df[features])\n",
    "\n",
    "    # Split the data into training and testing sets\n",
    "    X_train, X_test, y_train, y_test = train_test_split(df[features], df[target], test_size=0.2, random_state=42)\n",
    "\n",
    "    # Create the individual regression models\n",
    "    decision_tree = DecisionTreeRegressor(random_state=42)\n",
    "    random_forest = RandomForestRegressor(n_estimators=100, random_state=42)\n",
    "    linear_regression = LinearRegression()\n",
    "\n",
    "    # Fit the individual regression models\n",
    "    decision_tree.fit(X_train, y_train)\n",
    "    random_forest.fit(X_train, y_train)\n",
    "    linear_regression.fit(X_train, y_train)\n",
    "\n",
    "    # Create the VotingRegressor model with multiple models\n",
    "    voting_regressor = VotingRegressor([\n",
    "        ('decision_tree', decision_tree),\n",
    "        ('random_forest', random_forest),\n",
    "        ('linear_regression', linear_regression)\n",
    "    ])\n",
    "\n",
    "    # Train the VotingRegressor model\n",
    "    voting_regressor.fit(X_train, y_train)\n",
    "\n",
    "    # Make predictions on the test set\n",
    "    y_pred = voting_regressor.predict(X_test)\n",
    "\n",
    "    # Evaluate each individual model\n",
    "    models = [decision_tree, random_forest, linear_regression]\n",
    "    model_names = ['Decision Tree', 'Random Forest', 'Linear Regression']\n",
    "\n",
    "    evaluation_scores = {}\n",
    "\n",
    "    for model, name in zip(models, model_names):\n",
    "        y_pred_model = model.predict(X_test)\n",
    "        mse = mean_squared_error(y_test, y_pred_model)\n",
    "        mae = mean_absolute_error(y_test, y_pred_model)\n",
    "        r2 = r2_score(y_test, y_pred_model)\n",
    "\n",
    "        evaluation_scores[name] = {\n",
    "            \"Mean Squared Error\": mse,\n",
    "            \"Mean Absolute Error\": mae,\n",
    "            \"R2 Score\": r2\n",
    "        }\n",
    "\n",
    "    # Evaluate the VotingRegressor model\n",
    "    mse_voting = mean_squared_error(y_test, y_pred)\n",
    "    mae_voting = mean_absolute_error(y_test, y_pred)\n",
    "    r2_voting = r2_score(y_test, y_pred)\n",
    "\n",
    "    evaluation_scores[\"Voting Regressor\"] = {\n",
    "        \"Mean Squared Error\": mse_voting,\n",
    "        \"Mean Absolute Error\": mae_voting,\n",
    "        \"R2 Score\": r2_voting\n",
    "    }\n",
    "\n",
    "    return evaluation_scores\n",
    "\n",
    "# Load the dataframe\n",
    "\n",
    "# Call the function to evaluate the VotingRegressor model\n",
    "evaluation_results = evaluate_voting_regressor_tuned(df)\n",
    "\n",
    "# Print evaluation scores for each model\n",
    "for model_name, scores in evaluation_results.items():\n",
    "    print(\"Evaluation scores for\", model_name)\n",
    "    for metric, value in scores.items():\n",
    "        print(metric + \":\", value)\n",
    "    print(\"--------------------------\")"
   ]
  },
  {
   "attachments": {},
   "cell_type": "markdown",
   "metadata": {},
   "source": [
    "### **6. Conclusion on the models**\n",
    "Considering the evaluation scores, we have decided to choose the Random Forest regressor as the final deliverable model. The Random Forest model demonstrates better accuracy in predicting the green score compared to the Decision Tree and Linear Regression models. It achieves lower values for both the Mean Squared Error (MSE) and Mean Absolute Error (MAE), indicating better overall prediction performance. The R2 Score, which represents the proportion of the variance in the target variable explained by the model, is also higher for the Random Forest model.\n",
    "\n",
    "Moreover, Random Forest models have the advantage of providing feature importances, allowing us to gain insights into the relative importance of different factors influencing the green score in Breda. This feature interpretability is crucial for understanding the underlying relationships and making informed decisions to improve the city's green initiatives. By utilizing the Random Forest model, we can effectively analyse the factors influencing the green score and identify areas where interventions and improvements can be made."
   ]
  },
  {
   "attachments": {},
   "cell_type": "markdown",
   "metadata": {},
   "source": [
    "### **7. Future improvements**\n",
    "In order to further improve the Random Forest regressor model as our final deliverable, several future enhancements can be considered. First, hyperparameter tuning techniques such as grid search or random search can be employed to optimize the model's parameters and improve its predictive accuracy. Second, exploring additional features or transforming existing ones can capture more relevant information related to the green score. Ensemble learning methods like stacking or boosting can be investigated to combine multiple Random Forest models and leverage their strengths. Cross-validation techniques, such as k-fold cross-validation, can provide more reliable performance estimates. Additionally, interpreting the model's results can be enhanced by utilizing techniques like partial dependence plots, permutation importance, or SHAP values. Regularly updating the dataset with new information and collaborating with domain experts can ensure the model's accuracy and relevance over time. Lastly, performing error analysis will help identify specific areas for improvement and enhance the model's overall performance and applicability in improving the green score in Breda."
   ]
  }
 ],
 "metadata": {
  "kernelspec": {
   "display_name": "py311",
   "language": "python",
   "name": "python3"
  },
  "language_info": {
   "codemirror_mode": {
    "name": "ipython",
    "version": 3
   },
   "file_extension": ".py",
   "mimetype": "text/x-python",
   "name": "python",
   "nbconvert_exporter": "python",
   "pygments_lexer": "ipython3",
   "version": "3.10.6"
  },
  "orig_nbformat": 4
 },
 "nbformat": 4,
 "nbformat_minor": 2
}
